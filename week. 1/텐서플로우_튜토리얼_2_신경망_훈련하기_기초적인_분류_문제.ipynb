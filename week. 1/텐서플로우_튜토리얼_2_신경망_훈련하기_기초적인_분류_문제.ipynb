{
  "nbformat": 4,
  "nbformat_minor": 0,
  "metadata": {
    "colab": {
      "name": "텐서플로우 튜토리얼 #2 - 신경망 훈련하기: 기초적인 분류 문제",
      "provenance": [],
      "collapsed_sections": [],
      "toc_visible": true
    },
    "kernelspec": {
      "name": "python3",
      "display_name": "Python 3"
    },
    "language_info": {
      "name": "python"
    },
    "accelerator": "GPU"
  },
  "cells": [
    {
      "cell_type": "markdown",
      "metadata": {
        "id": "V_0PJfV4-mVE"
      },
      "source": [
        "# **텐서플로우 튜토리얼 #2 - 신경망 훈련하기: 기초적인 분류 문제**\n",
        "\n",
        "텐서플로우의 공식 웹사이트 튜토리얼을 참고하였습니다.\n",
        "https://www.tensorflow.org/tutorials/keras/classification\n",
        "\n",
        "운동화나 셔츠 같은 옷 이미지를 분류하는 신경망 모델을 훈련해봅시다.\n",
        "\n",
        "먼저 tensorflow, keras, numpy, pyplot을 임포트합니다.\n",
        "\n"
      ]
    },
    {
      "cell_type": "code",
      "metadata": {
        "id": "ltOdWgdD8A66"
      },
      "source": [
        "# tensorflow와 tf.keras를 임포트합니다\n",
        "import tensorflow as tf\n",
        "from tensorflow import keras\n",
        "\n",
        "# 헬퍼(helper) 라이브러리를 임포트합니다\n",
        "import numpy as np\n",
        "import matplotlib.pyplot as plt"
      ],
      "execution_count": 1,
      "outputs": []
    },
    {
      "cell_type": "markdown",
      "metadata": {
        "id": "E5_qKib5BdSk"
      },
      "source": [
        "## fashion MNIST 데이터셋 임포트하기\n",
        "\n",
        "MNIST 데이터셋:\n",
        "\n",
        "+ 0~255 사이의 값을 가진 28x28 흑백이미지와 실제 숫자값에 해당하는 데이터세트가 총 7만개가 주어집니다.\n",
        "+ 6만개는 학습용, 1만개는 테스트용으로 주어집니다.\n",
        "+ MNIST 데이터셋 유형으로는 손글씨, 숫자, 패션 등이 있습니다.\n",
        "\n",
        "여기서 학습용 데이터는 예측모델을 학습하는 용도로 사용하고 테스트용 데이터는 학습에 사용되지 않고 새로운 값에 대해 어느정도로 예측하는지 검증하는 용도로 사용합니다.\n",
        "\n",
        "<table>\n",
        "  <tr><td>\n",
        "    <img src=\"https://tensorflow.org/images/fashion-mnist-sprite.png\"\n",
        "         alt=\"Fashion MNIST sprite\"  width=\"600\">\n",
        "  </td></tr>\n",
        "  <tr><td align=\"center\">\n",
        "    <b>그림 1.</b> <a href=\"https://github.com/zalandoresearch/fashion-mnist\">패션-MNIST 샘플</a> (Zalando, MIT License).<br/>&nbsp;\n",
        "  </td></tr>\n",
        "</table>\n",
        "\n",
        "keras에서 fashion MNIST 데이터셋을 임포트합니다."
      ]
    },
    {
      "cell_type": "code",
      "metadata": {
        "colab": {
          "base_uri": "https://localhost:8080/"
        },
        "id": "d02NY-iJBYvJ",
        "outputId": "b8e6cde6-40f5-43bf-8be7-c6fc5932f17d"
      },
      "source": [
        "fashion_mnist = keras.datasets.fashion_mnist\n",
        "\n",
        "(train_images, train_labels), (test_images, test_labels) = fashion_mnist.load_data()"
      ],
      "execution_count": 2,
      "outputs": [
        {
          "output_type": "stream",
          "text": [
            "Downloading data from https://storage.googleapis.com/tensorflow/tf-keras-datasets/train-labels-idx1-ubyte.gz\n",
            "32768/29515 [=================================] - 0s 0us/step\n",
            "Downloading data from https://storage.googleapis.com/tensorflow/tf-keras-datasets/train-images-idx3-ubyte.gz\n",
            "26427392/26421880 [==============================] - 0s 0us/step\n",
            "Downloading data from https://storage.googleapis.com/tensorflow/tf-keras-datasets/t10k-labels-idx1-ubyte.gz\n",
            "8192/5148 [===============================================] - 0s 0us/step\n",
            "Downloading data from https://storage.googleapis.com/tensorflow/tf-keras-datasets/t10k-images-idx3-ubyte.gz\n",
            "4423680/4422102 [==============================] - 0s 0us/step\n"
          ],
          "name": "stdout"
        }
      ]
    },
    {
      "cell_type": "markdown",
      "metadata": {
        "id": "g4pyseUeD6y_"
      },
      "source": [
        "load_data() 함수를 호출하면 네 개의 넘파이(NumPy) 배열이 반환됩니다.\n",
        "\n",
        "* `train_images`와 `train_labels` 배열은 모델 학습에 사용되는 **훈련 세트**.\n",
        "* `test_images`와 `test_labels` 배열은 모델 테스트에 사용되는 **테스트 세트**.\n",
        "\n",
        "이미지는 28x28 크기의 넘파이 배열이고 픽셀 값은 0과 255 사이입니다. *레이블*(label)은 0에서 9까지의 정수 배열입니다. 이 값은 이미지에 있는 옷의 *클래스*(class)를 나타냅니다.\n",
        "\n",
        "<table>\n",
        "  <tr>\n",
        "    <th>레이블</th>\n",
        "    <th>클래스</th>\n",
        "  </tr>\n",
        "  <tr>\n",
        "    <td>0</td>\n",
        "    <td>T-shirt/top</td>\n",
        "  </tr>\n",
        "  <tr>\n",
        "    <td>1</td>\n",
        "    <td>Trouser</td>\n",
        "  </tr>\n",
        "    <tr>\n",
        "    <td>2</td>\n",
        "    <td>Pullover</td>\n",
        "  </tr>\n",
        "    <tr>\n",
        "    <td>3</td>\n",
        "    <td>Dress</td>\n",
        "  </tr>\n",
        "    <tr>\n",
        "    <td>4</td>\n",
        "    <td>Coat</td>\n",
        "  </tr>\n",
        "    <tr>\n",
        "    <td>5</td>\n",
        "    <td>Sandal</td>\n",
        "  </tr>\n",
        "    <tr>\n",
        "    <td>6</td>\n",
        "    <td>Shirt</td>\n",
        "  </tr>\n",
        "    <tr>\n",
        "    <td>7</td>\n",
        "    <td>Sneaker</td>\n",
        "  </tr>\n",
        "    <tr>\n",
        "    <td>8</td>\n",
        "    <td>Bag</td>\n",
        "  </tr>\n",
        "    <tr>\n",
        "    <td>9</td>\n",
        "    <td>Ankle boot</td>\n",
        "  </tr>\n",
        "</table>\n",
        "\n",
        "각 이미지는 하나의 레이블에 매핑되어 있습니다. 데이터셋에 *클래스 이름*이 들어있지 않기 때문에 나중에 이미지를 출력할 때 사용하기 위해 별도의 변수를 만들어 저장합니다."
      ]
    },
    {
      "cell_type": "code",
      "metadata": {
        "id": "AYX6k-wwE_4F"
      },
      "source": [
        "class_names = ['T-shirt/top', 'Trouser', 'Pullover', 'Dress', 'Coat',\n",
        "               'Sandal', 'Shirt', 'Sneaker', 'Bag', 'Ankle boot']"
      ],
      "execution_count": 3,
      "outputs": []
    },
    {
      "cell_type": "markdown",
      "metadata": {
        "id": "R6jZ-GKeGfyb"
      },
      "source": [
        "## 데이터 탐색\n",
        "\n",
        "모델을 훈련하기 전에 데이터셋 구조를 살펴봅시다. \n",
        "\n",
        "다음 코드는 훈련 세트에 60,000개의 이미지가 있다는 것을 보여줍니다. \n",
        "\n",
        "각 이미지는 28x28 픽셀로 표현됩니다."
      ]
    },
    {
      "cell_type": "code",
      "metadata": {
        "colab": {
          "base_uri": "https://localhost:8080/"
        },
        "id": "tdRW1_M4Hi3J",
        "outputId": "45941d5a-0b4e-4ad3-ec09-684458f0e835"
      },
      "source": [
        "train_images.shape"
      ],
      "execution_count": 4,
      "outputs": [
        {
          "output_type": "execute_result",
          "data": {
            "text/plain": [
              "(60000, 28, 28)"
            ]
          },
          "metadata": {
            "tags": []
          },
          "execution_count": 4
        }
      ]
    },
    {
      "cell_type": "markdown",
      "metadata": {
        "id": "fCSFceEdHiXw"
      },
      "source": [
        "훈련 세트에는 60,000개의 레이블이 있습니다."
      ]
    },
    {
      "cell_type": "code",
      "metadata": {
        "colab": {
          "base_uri": "https://localhost:8080/"
        },
        "id": "FKn-w1a0HyGX",
        "outputId": "c8317ac7-13f4-4a2b-8f13-d454b1d99d40"
      },
      "source": [
        "len(train_labels)"
      ],
      "execution_count": 5,
      "outputs": [
        {
          "output_type": "execute_result",
          "data": {
            "text/plain": [
              "60000"
            ]
          },
          "metadata": {
            "tags": []
          },
          "execution_count": 5
        }
      ]
    },
    {
      "cell_type": "markdown",
      "metadata": {
        "id": "T5CdI_O0H1EA"
      },
      "source": [
        "각 레이블은 0과 9사이의 정수입니다."
      ]
    },
    {
      "cell_type": "code",
      "metadata": {
        "colab": {
          "base_uri": "https://localhost:8080/"
        },
        "id": "CKXTVLvWH4gl",
        "outputId": "d2108504-6e23-42ef-9506-2c78aafd59a2"
      },
      "source": [
        "train_labels"
      ],
      "execution_count": 6,
      "outputs": [
        {
          "output_type": "execute_result",
          "data": {
            "text/plain": [
              "array([9, 0, 0, ..., 3, 0, 5], dtype=uint8)"
            ]
          },
          "metadata": {
            "tags": []
          },
          "execution_count": 6
        }
      ]
    },
    {
      "cell_type": "code",
      "metadata": {
        "colab": {
          "base_uri": "https://localhost:8080/"
        },
        "id": "WogZ5gSMIFX9",
        "outputId": "5d873948-7980-40bf-9847-b36e9c076b49"
      },
      "source": [
        "test_labels"
      ],
      "execution_count": 7,
      "outputs": [
        {
          "output_type": "execute_result",
          "data": {
            "text/plain": [
              "array([9, 2, 1, ..., 8, 1, 5], dtype=uint8)"
            ]
          },
          "metadata": {
            "tags": []
          },
          "execution_count": 7
        }
      ]
    },
    {
      "cell_type": "markdown",
      "metadata": {
        "id": "zx2DUvR9INPG"
      },
      "source": [
        "테스트 세트도 마찬가지로 살펴봅시다."
      ]
    },
    {
      "cell_type": "code",
      "metadata": {
        "colab": {
          "base_uri": "https://localhost:8080/"
        },
        "id": "wcdg4lnrITKf",
        "outputId": "281941d1-88ea-47f5-9408-17737166e8fd"
      },
      "source": [
        "test_images.shape"
      ],
      "execution_count": 8,
      "outputs": [
        {
          "output_type": "execute_result",
          "data": {
            "text/plain": [
              "(10000, 28, 28)"
            ]
          },
          "metadata": {
            "tags": []
          },
          "execution_count": 8
        }
      ]
    },
    {
      "cell_type": "code",
      "metadata": {
        "colab": {
          "base_uri": "https://localhost:8080/"
        },
        "id": "lpfyB2eSIfit",
        "outputId": "d3c35b7c-e4d8-4b98-8e99-ca9c302edf2d"
      },
      "source": [
        "len(test_labels)"
      ],
      "execution_count": 11,
      "outputs": [
        {
          "output_type": "execute_result",
          "data": {
            "text/plain": [
              "10000"
            ]
          },
          "metadata": {
            "tags": []
          },
          "execution_count": 11
        }
      ]
    },
    {
      "cell_type": "markdown",
      "metadata": {
        "id": "669pYe-fIirQ"
      },
      "source": [
        "## 데이터 전처리\n",
        "\n",
        "네트워크를 훈련하기 전에 데이터를 전처리해야 합니다. \n",
        "\n",
        "훈련 세트에 있는 첫 번째 이미지를 출력해봅시다."
      ]
    },
    {
      "cell_type": "code",
      "metadata": {
        "colab": {
          "base_uri": "https://localhost:8080/",
          "height": 265
        },
        "id": "ULs6nkH2Izbv",
        "outputId": "0289fcf3-c3b1-4fdb-f013-83685fe1fe1e"
      },
      "source": [
        "plt.figure()  # plot 생성\n",
        "plt.imshow(train_images[0])  # plot에 나타낼 이미지 : 훈련 세트 첫 번째 이미지\n",
        "plt.colorbar()  # 우측에 그라데이션 바 생성\n",
        "plt.grid(False)  # 그리드선 없애기\n",
        "plt.show()  # plot 출력"
      ],
      "execution_count": 13,
      "outputs": [
        {
          "output_type": "display_data",
          "data": {
            "image/png": "[encoded data removed]",
            "text/plain": [
              "<Figure size 432x288 with 2 Axes>"
            ]
          },
          "metadata": {
            "tags": [],
            "needs_background": "light"
          }
        }
      ]
    },
    {
      "cell_type": "markdown",
      "metadata": {
        "id": "IFZ-IsZiJo6k"
      },
      "source": [
        "그림은 픽셀 값의 범위가 0~255 사이이며, 오른쪽 그라데이션에 대응되는 색으로 나타나는 것을 볼 수 있습니다.\n",
        "\n",
        "신경망 모델에 주입하기 전에 이 값의 범위를 0~1 사이로 조정하기 위해 255로 나눕니다. 훈련 세트와 테스트 세트를 동일한 방식으로 전처리하는 것이 중요합니다."
      ]
    },
    {
      "cell_type": "code",
      "metadata": {
        "id": "D4rdSV5QK21b"
      },
      "source": [
        "train_images = train_images / 255.0  # 0~1 사이 값으로 나타내기\n",
        "\n",
        "test_images = test_images / 255.0  # 0~1 사이 값으로 나타내기"
      ],
      "execution_count": 14,
      "outputs": []
    },
    {
      "cell_type": "markdown",
      "metadata": {
        "id": "FIa55upbK5S7"
      },
      "source": [
        "*훈련 세트*에서 처음 25개 이미지와 그 아래 클래스 이름을 출력해봅시다. \n",
        "\n",
        "데이터 포맷이 올바른지 확인하고 네트워크 구성과 훈련할 준비를 마칩니다."
      ]
    },
    {
      "cell_type": "code",
      "metadata": {
        "colab": {
          "base_uri": "https://localhost:8080/",
          "height": 589
        },
        "id": "sILaLN51LCo2",
        "outputId": "3f5e356f-c79f-4b3c-ce32-1b1c2db3236e"
      },
      "source": [
        "plt.figure(figsize=(10,10))  # plot 사이즈 설정\n",
        "for i in range(25):  # 0~24의 이미지\n",
        "    plt.subplot(5,5,i+1)  # 5 x 5\n",
        "    plt.xticks([])\n",
        "    plt.yticks([])\n",
        "    plt.grid(False)  # 그리드선 없애기\n",
        "    plt.imshow(train_images[i], cmap=plt.cm.binary)  # 보여지는 이미지 : 훈련 세트 이미지(0~24)\n",
        "    plt.xlabel(class_names[train_labels[i]])  # 앞서 지정했던 변수 class_names로 그림 밑에 레이블 표시\n",
        "plt.show()  # plot 출력"
      ],
      "execution_count": 15,
      "outputs": [
        {
          "output_type": "display_data",
          "data": {
            "image/png": "[encoded data removed]",
            "text/plain": [
              "<Figure size 720x720 with 25 Axes>"
            ]
          },
          "metadata": {
            "tags": []
          }
        }
      ]
    },
    {
      "cell_type": "markdown",
      "metadata": {
        "id": "R8joIYgEMgID"
      },
      "source": [
        "## 모델 구성\n",
        "\n",
        "신경망 모델을 만들려면 모델의 층을 구성한 다음 모델을 컴파일합니다."
      ]
    },
    {
      "cell_type": "markdown",
      "metadata": {
        "id": "J_2zRsc9MhHC"
      },
      "source": [
        "### 층 설정\n",
        "\n",
        "신경망의 기본 구성 요소는 *층*(layer)입니다. 층은 주입된 데이터에서 표현을 추출합니다.\n",
        "\n",
        "대부분 딥러닝은 간단한 층을 연결하여 구성됩니다. `tf.keras.layers.Dense`와 같은 층들의 가중치(parameter)는 훈련하는 동안 학습됩니다."
      ]
    },
    {
      "cell_type": "code",
      "metadata": {
        "id": "lTYQiR2pNAWA"
      },
      "source": [
        "model = keras.Sequential([\n",
        "    keras.layers.Flatten(input_shape=(28, 28)),  # 28 x 28 의 픽셀 배열 이미지를 펼친다.\n",
        "    keras.layers.Dense(128, activation='relu'),\n",
        "    keras.layers.Dense(10, activation='softmax')  # 레이블이 0~9 이므로 10개이다.\n",
        "])"
      ],
      "execution_count": 16,
      "outputs": []
    },
    {
      "cell_type": "markdown",
      "metadata": {
        "id": "Okx-7VaQOTmw"
      },
      "source": [
        "신경망의 첫 번째 층인 `tf.keras.layers.Flatten`은 2차원 배열(28 x 28 픽셀)의 이미지 포맷을 28 * 28 = 784 픽셀의 1차원 배열로 변환합니다. 이 층은 이미지에 있는 픽셀의 행을 펼쳐서 일렬로 늘립니다. 이 층에는 학습되는 가중치가 없고 데이터를 변환하기만 합니다.\n",
        "\n",
        "픽셀을 펼친 후에는 두 개의 `tf.keras.layers.Dense` 층이 연속되어 연결됩니다. 이 층을 밀집 연결(densely-connected) 또는 완전 연결(fully-connected) 층이라고 부릅니다. 첫 번째 층은 128개의 노드(또는 뉴런)를 가집니다. 마지막 층은 10개의 노드의 *소프트맥스*(softmax) 층입니다. 이 층은 10개의 확률을 반환하고 반환된 값의 전체 합은 1입니다. 각 노드는 **현재 이미지가 10개 클래스(0~9) 중 하나에 속할 확률**을 출력합니다.\n",
        "\n",
        "실제로 이후에 모델을 예측(predict)할 때 마지막 층과 관련한 10개의 데이터가 출력됩니다."
      ]
    },
    {
      "cell_type": "markdown",
      "metadata": {
        "id": "jTeOSSSsPRO8"
      },
      "source": [
        "### 모델 컴파일\n",
        "\n",
        "모델을 훈련하기 전에 필요한 몇 가지 설정이 모델 *컴파일* 단계에서 추가됩니다.\n",
        "\n",
        "* *옵티마이저*(Optimizer)-데이터와 손실 함수를 바탕으로 모델의 업데이트 방법을 결정합니다.\n",
        "* *손실 함수*(Loss function)-훈련 하는 동안 모델의 오차를 측정합니다. 모델의 학습이 올바른 방향으로 향하도록 이 함수를 최소화해야 합니다.\n",
        "* *지표*(Metrics)-훈련 단계와 테스트 단계를 모니터링하기 위해 사용합니다. 다음 예에서는 올바르게 분류된 이미지의 비율인 *정확도*를 사용합니다."
      ]
    },
    {
      "cell_type": "code",
      "metadata": {
        "id": "yuE-FjjGQWx6"
      },
      "source": [
        "model.compile(optimizer='adam',\n",
        "              loss='sparse_categorical_crossentropy',\n",
        "              metrics=['accuracy'])"
      ],
      "execution_count": 17,
      "outputs": []
    },
    {
      "cell_type": "markdown",
      "metadata": {
        "id": "Fo8RQ_vqSCRc"
      },
      "source": [
        "## 모델 훈련\n",
        "\n",
        "신경망 모델을 훈련하는 단계는 다음과 같습니다.\n",
        "\n",
        "1. 훈련 데이터를 모델에 주입합니다-이 예제에서는 `train_images`와 `train_labels` 배열입니다.\n",
        "2. 모델이 이미지와 레이블을 매핑하는 방법을 배웁니다.\n",
        "3. 테스트 세트에 대한 모델의 예측을 만듭니다-이 예제에서는 `test_images` 배열입니다. 이 예측이 `test_labels` 배열의 레이블과 맞는지 확인합니다.\n",
        "\n",
        "훈련을 시작하기 위해 `model.fit` 메서드를 호출하면 모델이 훈련 데이터를 학습합니다."
      ]
    },
    {
      "cell_type": "code",
      "metadata": {
        "colab": {
          "base_uri": "https://localhost:8080/"
        },
        "id": "mjY1vlqMSUn7",
        "outputId": "1f22a1f4-6e46-477a-825f-12215ce87641"
      },
      "source": [
        "model.fit(train_images, train_labels, epochs=5)"
      ],
      "execution_count": 18,
      "outputs": [
        {
          "output_type": "stream",
          "text": [
            "Epoch 1/5\n",
            "1875/1875 [==============================] - 6s 2ms/step - loss: 0.5006 - accuracy: 0.8240\n",
            "Epoch 2/5\n",
            "1875/1875 [==============================] - 3s 2ms/step - loss: 0.3755 - accuracy: 0.8651\n",
            "Epoch 3/5\n",
            "1875/1875 [==============================] - 3s 2ms/step - loss: 0.3356 - accuracy: 0.8768\n",
            "Epoch 4/5\n",
            "1875/1875 [==============================] - 3s 2ms/step - loss: 0.3135 - accuracy: 0.8857\n",
            "Epoch 5/5\n",
            "1875/1875 [==============================] - 3s 2ms/step - loss: 0.2940 - accuracy: 0.8910\n"
          ],
          "name": "stdout"
        },
        {
          "output_type": "execute_result",
          "data": {
            "text/plain": [
              "<tensorflow.python.keras.callbacks.History at 0x7efeb005fed0>"
            ]
          },
          "metadata": {
            "tags": []
          },
          "execution_count": 18
        }
      ]
    },
    {
      "cell_type": "markdown",
      "metadata": {
        "id": "mJMtOsP7TbhQ"
      },
      "source": [
        "모델이 훈련되면서 손실과 정확도 지표가 출력됩니다. 이 모델은 훈련 세트에서 약 0.88(88%) 정도의 정확도를 달성합니다."
      ]
    },
    {
      "cell_type": "markdown",
      "metadata": {
        "id": "Z0OggHCjTcly"
      },
      "source": [
        "## 정확도 평가\n",
        "\n",
        "그다음 테스트 세트에서 모델의 성능을 비교합니다:"
      ]
    },
    {
      "cell_type": "code",
      "metadata": {
        "colab": {
          "base_uri": "https://localhost:8080/"
        },
        "id": "etfUJyONT_cA",
        "outputId": "953075b9-2c1c-4d83-9f13-e4e60d407792"
      },
      "source": [
        "test_loss, test_acc = model.evaluate(test_images,  test_labels, verbose=2)\n",
        "\n",
        "print('\\n테스트 정확도:', test_acc)"
      ],
      "execution_count": 19,
      "outputs": [
        {
          "output_type": "stream",
          "text": [
            "313/313 - 0s - loss: 0.3526 - accuracy: 0.8735\n",
            "\n",
            "테스트 정확도: 0.8734999895095825\n"
          ],
          "name": "stdout"
        }
      ]
    },
    {
      "cell_type": "markdown",
      "metadata": {
        "id": "6a1Lb7G-UAHX"
      },
      "source": [
        "테스트 세트의 정확도가 훈련 세트의 정확도보다 조금 낮습니다. 훈련 세트의 정확도와 테스트 세트의 정확도 사이의 차이는 *과대적합*(overfitting) 때문입니다. 과대적합은 머신러닝 모델이 훈련 데이터보다 새로운 데이터에서 성능이 낮아지는 현상을 말합니다."
      ]
    },
    {
      "cell_type": "markdown",
      "metadata": {
        "id": "IwO_mGbkUIKm"
      },
      "source": [
        "## 예측 만들기\n",
        "\n",
        "훈련된 모델을 사용하여 이미지에 대한 예측을 만들 수 있습니다.\n",
        "\n",
        "`test_images`를 이용해서 모델을 예측해봅시다."
      ]
    },
    {
      "cell_type": "code",
      "metadata": {
        "id": "Q1v84iSlU5vJ"
      },
      "source": [
        "predictions = model.predict(test_images)"
      ],
      "execution_count": 20,
      "outputs": []
    },
    {
      "cell_type": "markdown",
      "metadata": {
        "id": "4hJFgznwVIvA"
      },
      "source": [
        "테스트 세트에 있는 각 이미지의 레이블을 예측했습니다. \n",
        "\n",
        "첫 번째 예측을 확인해봅시다."
      ]
    },
    {
      "cell_type": "code",
      "metadata": {
        "colab": {
          "base_uri": "https://localhost:8080/"
        },
        "id": "s6lcbNeEVMhA",
        "outputId": "828bac8c-2c08-4b21-e406-ed23dd1c15cb"
      },
      "source": [
        "predictions[0]"
      ],
      "execution_count": 21,
      "outputs": [
        {
          "output_type": "execute_result",
          "data": {
            "text/plain": [
              "array([3.8094670e-06, 2.2688599e-07, 1.3290678e-07, 6.5373422e-09,\n",
              "       1.3952868e-07, 7.9540648e-03, 4.9834298e-06, 1.0875461e-01,\n",
              "       3.7168851e-05, 8.8324493e-01], dtype=float32)"
            ]
          },
          "metadata": {
            "tags": []
          },
          "execution_count": 21
        }
      ]
    },
    {
      "cell_type": "markdown",
      "metadata": {
        "id": "WYKtizz3VWaT"
      },
      "source": [
        "이 예측은 10개의 숫자 배열로 나타납니다. 각 배열의 인덱스가 레이블을 나타내고, 각 원소는 10개의 옷 품목에 상응하는 모델의 신뢰도(confidence)를 나타냅니다. 가장 높은 신뢰도를 가진 레이블을 찾아봅시다."
      ]
    },
    {
      "cell_type": "code",
      "metadata": {
        "colab": {
          "base_uri": "https://localhost:8080/"
        },
        "id": "G5ONhE7NVVou",
        "outputId": "50113a92-68e8-40fa-cd12-b9f76c6f273b"
      },
      "source": [
        "np.argmax(predictions[0])"
      ],
      "execution_count": 22,
      "outputs": [
        {
          "output_type": "execute_result",
          "data": {
            "text/plain": [
              "9"
            ]
          },
          "metadata": {
            "tags": []
          },
          "execution_count": 22
        }
      ]
    },
    {
      "cell_type": "markdown",
      "metadata": {
        "id": "86fus-JhVnPq"
      },
      "source": [
        "모델은 이 이미지가 앵클 부츠(`class_name[9]`)라고 가장 확신하고 있습니다. \n",
        "\n",
        "이 값이 맞는지 테스트 레이블을 확인해봅시다."
      ]
    },
    {
      "cell_type": "code",
      "metadata": {
        "colab": {
          "base_uri": "https://localhost:8080/"
        },
        "id": "2aygXFpyVsW8",
        "outputId": "420e8646-e8a5-4616-ae9f-46e4b89c188b"
      },
      "source": [
        "test_labels[0]"
      ],
      "execution_count": 23,
      "outputs": [
        {
          "output_type": "execute_result",
          "data": {
            "text/plain": [
              "9"
            ]
          },
          "metadata": {
            "tags": []
          },
          "execution_count": 23
        }
      ]
    },
    {
      "cell_type": "markdown",
      "metadata": {
        "id": "91Gk4i-jVyzu"
      },
      "source": [
        "10개 클래스에 대한 예측을 모두 그래프로 표현해봅시다."
      ]
    },
    {
      "cell_type": "code",
      "metadata": {
        "id": "nMc28bOpWRgI"
      },
      "source": [
        "def plot_image(i, predictions_array, true_label, img): # 0~9999, 예측된 레이블, 실제 테스트 레이블, i에 해당하는 이미지\n",
        "  predictions_array, true_label, img = predictions_array[i], true_label[i], img[i]\n",
        "  plt.grid(False)\n",
        "  plt.xticks([])\n",
        "  plt.yticks([])\n",
        "\n",
        "  plt.imshow(img, cmap=plt.cm.binary)  # i번째에 해당하는 이미지 보여주기\n",
        "\n",
        "  predicted_label = np.argmax(predictions_array)  # 예측된 레이블(0~9)의 확률 중 가장 큰 값\n",
        "  if predicted_label == true_label:  # 예측된 레이블(가장 큰 값)이 실제 레이블과 같다면\n",
        "    color = 'blue'\n",
        "  else:\n",
        "    color = 'red'\n",
        "# 그림 밑에 예측된 레이블에 해당하는 클래스, 확률(%), 실제 레이블에 해당하는 클래스를 지정한 색으로 출력\n",
        "  plt.xlabel(\"{} {:2.0f}% ({})\".format(class_names[predicted_label],\n",
        "                                100*np.max(predictions_array),\n",
        "                                class_names[true_label]),\n",
        "                                color=color)\n",
        "\n",
        "def plot_value_array(i, predictions_array, true_label): # 0~9999, 예측된 레이블, 실제 테스트 레이블\n",
        "  predictions_array, true_label = predictions_array[i], true_label[i]\n",
        "  plt.grid(False)\n",
        "  plt.xticks([])\n",
        "  plt.yticks([])\n",
        "  thisplot = plt.bar(range(10), predictions_array, color=\"#777777\")  # 10개의 예측된 레이블을 막대그래프로 출력\n",
        "  plt.ylim([0, 1])  # y축 값 범위 0~1\n",
        "  predicted_label = np.argmax(predictions_array)  # 확률이 가장 높은 레이블\n",
        "\n",
        "  thisplot[predicted_label].set_color('red')  # 확률이 가장 높은 레이블의 막대는 빨간색\n",
        "  thisplot[true_label].set_color('blue')  # 실제 레이블의 막대는 파란색, 둘이 같을 시 파란색만 표시된다."
      ],
      "execution_count": 24,
      "outputs": []
    },
    {
      "cell_type": "markdown",
      "metadata": {
        "id": "CqWFgcbDX6iz"
      },
      "source": [
        "0, 12번째 원소의 이미지, 예측된 레이블, 신뢰도를 0~9의 모든 신뢰도를 나타낸 그래프와 함께 확인해 보겠습니다."
      ]
    },
    {
      "cell_type": "code",
      "metadata": {
        "colab": {
          "base_uri": "https://localhost:8080/",
          "height": 203
        },
        "id": "meH5Nh7cX7ls",
        "outputId": "a97e170a-d74d-4168-8a11-bceb67f40fe4"
      },
      "source": [
        "i = 0\n",
        "plt.figure(figsize=(6,3))  # 전체 plot 사이즈 지정(x, y)\n",
        "plt.subplot(1,2,1)  # 전체 사이즈에서 1 x 2 크기로 칸을 나누고 첫 번째 칸에 subplot 생성\n",
        "plot_image(i, predictions, test_labels, test_images)\n",
        "plt.subplot(1,2,2)  # 전체 사이즈에서 1 x 2 크기로 칸을 나누고 두 번째 칸에 subplot 생성\n",
        "plot_value_array(i, predictions,  test_labels)\n",
        "plt.show()"
      ],
      "execution_count": 25,
      "outputs": [
        {
          "output_type": "display_data",
          "data": {
            "image/png": "[encoded data removed]",
            "text/plain": [
              "<Figure size 432x216 with 2 Axes>"
            ]
          },
          "metadata": {
            "tags": []
          }
        }
      ]
    },
    {
      "cell_type": "code",
      "metadata": {
        "colab": {
          "base_uri": "https://localhost:8080/",
          "height": 203
        },
        "id": "tWgT578kZQLD",
        "outputId": "8581f45a-8857-48b8-d540-1b3d20b3c225"
      },
      "source": [
        "i = 12\n",
        "plt.figure(figsize=(6,3))\n",
        "plt.subplot(1,2,1)\n",
        "plot_image(i, predictions, test_labels, test_images)\n",
        "plt.subplot(1,2,2)\n",
        "plot_value_array(i, predictions,  test_labels)\n",
        "plt.show()"
      ],
      "execution_count": 26,
      "outputs": [
        {
          "output_type": "display_data",
          "data": {
            "image/png": "[encoded data removed]",
            "text/plain": [
              "<Figure size 432x216 with 2 Axes>"
            ]
          },
          "metadata": {
            "tags": []
          }
        }
      ]
    },
    {
      "cell_type": "markdown",
      "metadata": {
        "id": "VSHYXxSVaPqB"
      },
      "source": [
        "0~14번째 원소의 이미지, 예측된 레이블, 신뢰도를 그래프와 함께 확인해보겠습니다."
      ]
    },
    {
      "cell_type": "code",
      "metadata": {
        "colab": {
          "base_uri": "https://localhost:8080/",
          "height": 589
        },
        "id": "cZu8CI7GZr2n",
        "outputId": "2931f66f-f18e-45ea-f5ba-ccbdaf2444b6"
      },
      "source": [
        "# 처음 X 개의 테스트 이미지와 예측 레이블, 진짜 레이블을 출력합니다\n",
        "num_rows = 5\n",
        "num_cols = 3\n",
        "num_images = num_rows*num_cols\n",
        "plt.figure(figsize=(2*2*num_cols, 2*num_rows))\n",
        "for i in range(num_images):\n",
        "  plt.subplot(num_rows, 2*num_cols, 2*i+1)\n",
        "  plot_image(i, predictions, test_labels, test_images)\n",
        "  plt.subplot(num_rows, 2*num_cols, 2*i+2)\n",
        "  plot_value_array(i, predictions, test_labels)\n",
        "plt.show()"
      ],
      "execution_count": 27,
      "outputs": [
        {
          "output_type": "display_data",
          "data": {
            "image/png": "[encoded data removed]",
            "text/plain": [
              "<Figure size 864x720 with 30 Axes>"
            ]
          },
          "metadata": {
            "tags": []
          }
        }
      ]
    },
    {
      "cell_type": "markdown",
      "metadata": {
        "id": "u1Yy0Is9ay1U"
      },
      "source": [
        "지금까지 `test_images` 배열 속 여러 이미지들을 이용해 예측해보았습니다.\n",
        "\n",
        "마지막으로 훈련된 모델을 사용하여 여러 이미지가 아닌 단 하나의 이미지에 대한 예측을 만들어봅시다."
      ]
    },
    {
      "cell_type": "code",
      "metadata": {
        "colab": {
          "base_uri": "https://localhost:8080/"
        },
        "id": "u1WpBPg1aqDf",
        "outputId": "70888de8-c37d-412d-d86d-6da97893a506"
      },
      "source": [
        "# 테스트 세트에서 이미지 하나를 선택합니다\n",
        "img = test_images[0]\n",
        "\n",
        "print(img.shape)"
      ],
      "execution_count": 28,
      "outputs": [
        {
          "output_type": "stream",
          "text": [
            "(28, 28)\n"
          ],
          "name": "stdout"
        }
      ]
    },
    {
      "cell_type": "markdown",
      "metadata": {
        "id": "zFKaC52IazvR"
      },
      "source": [
        "`tf.keras` 모델은 한 번에 샘플의 묶음 또는 *배치*(batch)로 예측을 만드는데 최적화되어 있습니다.\n",
        "\n",
        "하나의 이미지를 사용할 때에도 2차원 배열로 만들어야 합니다."
      ]
    },
    {
      "cell_type": "code",
      "metadata": {
        "colab": {
          "base_uri": "https://localhost:8080/"
        },
        "id": "tMP5tX43bCU7",
        "outputId": "600520a3-1521-453d-aaf5-529673694101"
      },
      "source": [
        "# 이미지 하나만 사용할 때도 배치에 추가합니다\n",
        "img = (np.expand_dims(img,0))\n",
        "\n",
        "print(img.shape)"
      ],
      "execution_count": 29,
      "outputs": [
        {
          "output_type": "stream",
          "text": [
            "(1, 28, 28)\n"
          ],
          "name": "stdout"
        }
      ]
    },
    {
      "cell_type": "code",
      "metadata": {
        "colab": {
          "base_uri": "https://localhost:8080/"
        },
        "id": "0oTsaOGGbH0v",
        "outputId": "a213453b-15db-40d7-d478-cd6381436007"
      },
      "source": [
        "predictions_single = model.predict(img)\n",
        "\n",
        "print(predictions_single)"
      ],
      "execution_count": 30,
      "outputs": [
        {
          "output_type": "stream",
          "text": [
            "[[3.8094597e-06 2.2688599e-07 1.3290678e-07 6.5373298e-09 1.3952868e-07\n",
            "  7.9540610e-03 4.9834252e-06 1.0875458e-01 3.7168851e-05 8.8324493e-01]]\n"
          ],
          "name": "stdout"
        }
      ]
    },
    {
      "cell_type": "code",
      "metadata": {
        "colab": {
          "base_uri": "https://localhost:8080/",
          "height": 300
        },
        "id": "LmpKt65HbLP3",
        "outputId": "c91ede04-507b-4d10-e02f-ae554b00a083"
      },
      "source": [
        "plot_value_array(0, predictions_single, test_labels)\n",
        "_ = plt.xticks(range(10), class_names, rotation=45)  # 출력될 plot의 x축 인덱스(클래스) 표시, 45도 기울여서"
      ],
      "execution_count": 31,
      "outputs": [
        {
          "output_type": "display_data",
          "data": {
            "image/png": "[encoded data removed]",
            "text/plain": [
              "<Figure size 432x288 with 1 Axes>"
            ]
          },
          "metadata": {
            "tags": [],
            "needs_background": "light"
          }
        }
      ]
    },
    {
      "cell_type": "code",
      "metadata": {
        "colab": {
          "base_uri": "https://localhost:8080/"
        },
        "id": "wHNfH61jbrqh",
        "outputId": "9c659b3e-49a7-4687-ec00-aeccea8fff75"
      },
      "source": [
        "np.argmax(predictions_single[0])"
      ],
      "execution_count": 32,
      "outputs": [
        {
          "output_type": "execute_result",
          "data": {
            "text/plain": [
              "9"
            ]
          },
          "metadata": {
            "tags": []
          },
          "execution_count": 32
        }
      ]
    }
  ]
}