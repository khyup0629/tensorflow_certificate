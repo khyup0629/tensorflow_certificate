{
  "nbformat": 4,
  "nbformat_minor": 0,
  "metadata": {
    "colab": {
      "name": "텐서플로우 튜토리얼 #7 - 모델 저장과 복원",
      "provenance": []
    },
    "kernelspec": {
      "name": "python3",
      "display_name": "Python 3"
    },
    "language_info": {
      "name": "python"
    }
  },
  "cells": [
    {
      "cell_type": "markdown",
      "metadata": {
        "id": "Qhxgvk5EPaKg"
      },
      "source": [
        "# [verbose](https://buillee.tistory.com/143)\n",
        "\n",
        "# 정확히 이해되지 않은 개념\n",
        "\n",
        "+ 사용자 정의 객체"
      ]
    },
    {
      "cell_type": "markdown",
      "metadata": {
        "id": "RrF15shHKnJM"
      },
      "source": [
        "# 모델의 저장과 복원\n",
        "\n",
        "훈련하는 도중이나 훈련이 끝난 후에 모델을 저장할 수 있습니다. 모델이 중지된 지점부터 다시 훈련할 수 있어 한 번에 오랫동안 훈련하지 않아도 됩니다. 모델을 저장하면 다른 사람에게 공유할 수 있고 작업을 재현할 수 있습니다. 연구한 모델과 기법을 공개할 때 많은 머신 러닝 기술자들이 다음과 같은 것들을 제공합니다.\n",
        "\n",
        "+ 모델을 만드는 코드\n",
        "+ 모델의 훈련된 가중치 또는 파라미터\n",
        "\n",
        "이런 데이터를 공유하면 다른 사람들이 모델의 작동 방식을 이해하고 새로운 데이터로 모델을 실험하는데 도움이 됩니다.\n",
        "\n",
        "주의 : 신뢰할 수 없는 코드는 조심하세요. 자세한 내용은 [텐서플로를 안전하게 사용하기](https://github.com/tensorflow/tensorflow/blob/master/SECURITY.md) 문서를 참고하세요."
      ]
    },
    {
      "cell_type": "markdown",
      "metadata": {
        "id": "_DN0D5eNLVSC"
      },
      "source": [
        "### 저장 방식\n",
        "\n",
        "사용하는 API에 따라서 여러가지 방법으로 텐서플로우 모델을 저장할 수 있습니다. 이번 튜토리얼에서는 고수준 API인 tf.keras를 사용해서 저장하고 복원하는 방식에 대해 알아보겠습니다."
      ]
    },
    {
      "cell_type": "markdown",
      "metadata": {
        "id": "ZYj0zkoGLk63"
      },
      "source": [
        "## 1. 설정"
      ]
    },
    {
      "cell_type": "markdown",
      "metadata": {
        "id": "hw59onK-NFAe"
      },
      "source": [
        "### 설치와 임포트\n",
        "\n",
        "필요한 라이브러리를 설치하고 텐서플로우를 임포트합니다."
      ]
    },
    {
      "cell_type": "code",
      "metadata": {
        "colab": {
          "base_uri": "https://localhost:8080/"
        },
        "id": "cl9UIa-ZG7FT",
        "outputId": "043822f4-66a3-41a4-806d-1d73ddfaf656"
      },
      "source": [
        "!pip install pyyaml h5py  # HDF5 포맷으로 모델을 저장하기 위해서 필요합니다."
      ],
      "execution_count": 1,
      "outputs": [
        {
          "output_type": "stream",
          "text": [
            "Requirement already satisfied: pyyaml in /usr/local/lib/python3.7/dist-packages (3.13)\n",
            "Requirement already satisfied: h5py in /usr/local/lib/python3.7/dist-packages (3.1.0)\n",
            "Requirement already satisfied: numpy>=1.14.5; python_version == \"3.7\" in /usr/local/lib/python3.7/dist-packages (from h5py) (1.19.5)\n",
            "Requirement already satisfied: cached-property; python_version < \"3.8\" in /usr/local/lib/python3.7/dist-packages (from h5py) (1.5.2)\n"
          ],
          "name": "stdout"
        }
      ]
    },
    {
      "cell_type": "code",
      "metadata": {
        "id": "SRWTz36cLuph"
      },
      "source": [
        "import os\n",
        "\n",
        "import tensorflow as tf\n",
        "from tensorflow import keras"
      ],
      "execution_count": 2,
      "outputs": []
    },
    {
      "cell_type": "markdown",
      "metadata": {
        "id": "OQk2S2vSMVAN"
      },
      "source": [
        "### 예제 데이터셋 받기\n",
        "\n",
        "MNIST 데이터셋으로 모델을 훈련하여 가중치를 저장하는 예제를 만들어 보겠습니다. 모델 실행 속도를 빠르게 하기 위해 샘플에서 처음 1,000개만 사용하겠습니다."
      ]
    },
    {
      "cell_type": "code",
      "metadata": {
        "colab": {
          "base_uri": "https://localhost:8080/"
        },
        "id": "9BJYio9dMcht",
        "outputId": "d8b998ed-a6b6-43b3-b4f7-2d6e01f1a279"
      },
      "source": [
        "(train_images, train_labels), (test_images, test_labels) = keras.datasets.mnist.load_data()\n",
        "\n",
        "train_labels = train_labels[:1000]\n",
        "test_labels = test_labels[:1000]\n",
        "\n",
        "train_images = train_images[:1000].reshape(-1, 28 * 28) / 255.0\n",
        "test_images = test_images[:1000].reshape(-1, 28 * 28) / 255.0"
      ],
      "execution_count": 3,
      "outputs": [
        {
          "output_type": "stream",
          "text": [
            "Downloading data from https://storage.googleapis.com/tensorflow/tf-keras-datasets/mnist.npz\n",
            "11493376/11490434 [==============================] - 0s 0us/step\n"
          ],
          "name": "stdout"
        }
      ]
    },
    {
      "cell_type": "markdown",
      "metadata": {
        "id": "wnPeEI6AM-t7"
      },
      "source": [
        "### 모델 정의\n",
        "\n",
        "먼저 간단한 모델을 하나 만들어 보겠습니다."
      ]
    },
    {
      "cell_type": "code",
      "metadata": {
        "colab": {
          "base_uri": "https://localhost:8080/"
        },
        "id": "mgx2Y5BbNNco",
        "outputId": "83baca50-404c-4f31-e4be-5e22048356b4"
      },
      "source": [
        "def create_model():\n",
        "    model = keras.Sequential([\n",
        "                              keras.layers.Dense(512, activation='relu', input_shape=(784,)),\n",
        "                              keras.layers.Dropout(0.2),\n",
        "                              keras.layers.Dense(10)\n",
        "    ])\n",
        "\n",
        "    model.compile(loss=tf.losses.SparseCategoricalCrossentropy(from_logits=True),\n",
        "                  optimizer='adam',\n",
        "                  metrics=['accuracy'])\n",
        "    \n",
        "    return model\n",
        "\n",
        "model = create_model()\n",
        "\n",
        "model.summary()"
      ],
      "execution_count": 4,
      "outputs": [
        {
          "output_type": "stream",
          "text": [
            "Model: \"sequential\"\n",
            "_________________________________________________________________\n",
            "Layer (type)                 Output Shape              Param #   \n",
            "=================================================================\n",
            "dense (Dense)                (None, 512)               401920    \n",
            "_________________________________________________________________\n",
            "dropout (Dropout)            (None, 512)               0         \n",
            "_________________________________________________________________\n",
            "dense_1 (Dense)              (None, 10)                5130      \n",
            "=================================================================\n",
            "Total params: 407,050\n",
            "Trainable params: 407,050\n",
            "Non-trainable params: 0\n",
            "_________________________________________________________________\n"
          ],
          "name": "stdout"
        }
      ]
    },
    {
      "cell_type": "markdown",
      "metadata": {
        "id": "mbXTKW-yN21j"
      },
      "source": [
        "## 2. 훈련하는 동안 체크포인트 저장하기\n",
        "\n",
        "훈련 중간과 훈련 마지막에 체크포인트(checkpoint)를 자동으로 저장하도록 하는 것이 많이 사용하는 방법입니다. 다시 훈련하지 않고 모델을 재사용하거나 훈련 과정이 중지된 경우 이어서 훈련을 진행할 수 있습니다.\n",
        "\n",
        "`keras.callbacks.ModelCheckpoint`은 이런 작업을 수행하는 콜백(callback)입니다. 이 콜백은 체크포인트 작업을 조정할 수 있도록 여러가지 매개변수를 제공합니다."
      ]
    },
    {
      "cell_type": "markdown",
      "metadata": {
        "id": "ZmP7MbyJOH1B"
      },
      "source": [
        "### 체크포인트 콜백 사용하기\n",
        "\n",
        "훈련하는 동안 가중치를 저장하기 위해 `ModelCheckpoint` 콜백을 만들어 보겠습니다."
      ]
    },
    {
      "cell_type": "code",
      "metadata": {
        "colab": {
          "base_uri": "https://localhost:8080/"
        },
        "id": "SMrtZBw_OM_p",
        "outputId": "22fdf3d2-7b35-4a64-e5f0-0e91006e248c"
      },
      "source": [
        "checkpoint_path = \"training_1/cp.ckpt\"  # 체크 포인트 파일 위치(training_1 폴더 안에 파일 이름 cp.ckpt)\n",
        "checkpoint_dir = os.path.dirname(checkpoint_path)\n",
        "\n",
        "# 모델의 가중치를 저장하는 콜백 만들기\n",
        "cp_callback = keras.callbacks.ModelCheckpoint(filepath=checkpoint_path,\n",
        "                                              save_weights_only=True,\n",
        "                                              verbose=1)\n",
        "# verbose = 0 : 아무것도 띄우지 않는다. verbose = 1 : [========] 바 생성. verbose = 2 : 에포크마다 한 줄에 하나씩 값 표시\n",
        "\n",
        "# 새로운 콜백으로 모델 훈련하기\n",
        "model.fit(train_images, train_labels, epochs=10,\n",
        "          validation_data=(test_images, test_labels),\n",
        "          callbacks=[cp_callback])  # 콜백을 훈련에 전달합니다."
      ],
      "execution_count": 5,
      "outputs": [
        {
          "output_type": "stream",
          "text": [
            "Epoch 1/10\n",
            "32/32 [==============================] - 1s 12ms/step - loss: 1.1657 - accuracy: 0.6500 - val_loss: 0.7394 - val_accuracy: 0.7890\n",
            "\n",
            "Epoch 00001: saving model to training_1/cp.ckpt\n",
            "Epoch 2/10\n",
            "32/32 [==============================] - 0s 6ms/step - loss: 0.4269 - accuracy: 0.8720 - val_loss: 0.5539 - val_accuracy: 0.8240\n",
            "\n",
            "Epoch 00002: saving model to training_1/cp.ckpt\n",
            "Epoch 3/10\n",
            "32/32 [==============================] - 0s 7ms/step - loss: 0.2895 - accuracy: 0.9340 - val_loss: 0.4669 - val_accuracy: 0.8540\n",
            "\n",
            "Epoch 00003: saving model to training_1/cp.ckpt\n",
            "Epoch 4/10\n",
            "32/32 [==============================] - 0s 7ms/step - loss: 0.2159 - accuracy: 0.9450 - val_loss: 0.4395 - val_accuracy: 0.8660\n",
            "\n",
            "Epoch 00004: saving model to training_1/cp.ckpt\n",
            "Epoch 5/10\n",
            "32/32 [==============================] - 0s 7ms/step - loss: 0.1501 - accuracy: 0.9640 - val_loss: 0.4268 - val_accuracy: 0.8650\n",
            "\n",
            "Epoch 00005: saving model to training_1/cp.ckpt\n",
            "Epoch 6/10\n",
            "32/32 [==============================] - 0s 7ms/step - loss: 0.1210 - accuracy: 0.9740 - val_loss: 0.4470 - val_accuracy: 0.8560\n",
            "\n",
            "Epoch 00006: saving model to training_1/cp.ckpt\n",
            "Epoch 7/10\n",
            "32/32 [==============================] - 0s 7ms/step - loss: 0.0882 - accuracy: 0.9860 - val_loss: 0.4109 - val_accuracy: 0.8620\n",
            "\n",
            "Epoch 00007: saving model to training_1/cp.ckpt\n",
            "Epoch 8/10\n",
            "32/32 [==============================] - 0s 7ms/step - loss: 0.0671 - accuracy: 0.9930 - val_loss: 0.3972 - val_accuracy: 0.8720\n",
            "\n",
            "Epoch 00008: saving model to training_1/cp.ckpt\n",
            "Epoch 9/10\n",
            "32/32 [==============================] - 0s 7ms/step - loss: 0.0498 - accuracy: 0.9940 - val_loss: 0.4102 - val_accuracy: 0.8640\n",
            "\n",
            "Epoch 00009: saving model to training_1/cp.ckpt\n",
            "Epoch 10/10\n",
            "32/32 [==============================] - 0s 7ms/step - loss: 0.0360 - accuracy: 0.9990 - val_loss: 0.4166 - val_accuracy: 0.8630\n",
            "\n",
            "Epoch 00010: saving model to training_1/cp.ckpt\n"
          ],
          "name": "stdout"
        },
        {
          "output_type": "execute_result",
          "data": {
            "text/plain": [
              "<tensorflow.python.keras.callbacks.History at 0x7f4e74eeb610>"
            ]
          },
          "metadata": {
            "tags": []
          },
          "execution_count": 5
        }
      ]
    },
    {
      "cell_type": "markdown",
      "metadata": {
        "id": "fA3o43HtP1Df"
      },
      "source": [
        "이 코드는 텐서플로 체크포인트 파일을 만들고 에포크가 종료될 때마다 업데이트합니다."
      ]
    },
    {
      "cell_type": "markdown",
      "metadata": {
        "id": "HA8lpaTTYLnx"
      },
      "source": [
        "만들어진 체크포인트를 확인해 봅시다."
      ]
    },
    {
      "cell_type": "code",
      "metadata": {
        "colab": {
          "base_uri": "https://localhost:8080/"
        },
        "id": "q786yqkvP430",
        "outputId": "2e0708e9-d0a8-4518-fc9e-34c9c8fcc9e9"
      },
      "source": [
        "!ls {checkpoint_dir}"
      ],
      "execution_count": 6,
      "outputs": [
        {
          "output_type": "stream",
          "text": [
            "checkpoint  cp.ckpt.data-00000-of-00001  cp.ckpt.index\n"
          ],
          "name": "stdout"
        }
      ]
    },
    {
      "cell_type": "markdown",
      "metadata": {
        "id": "l_Iigf4TQYPL"
      },
      "source": [
        "훈련하지 않은 새로운 모델을 만들고 이전에 저장했던 가중치를 로드해서 성능을 평가해 봅시다.\n",
        "\n",
        "가중치만 복원할 땐 원본 모델과 동일한 구조로 모델을 만들어야 합니다. 여기서는 동일한 구조로 모델을 만들었으므로 다른 *객체*이지만 가중치를 공유할 수 있습니다.\n",
        "\n",
        "훈련하지 않은 새 모델을 만들고 이전에 저장했던 가중치를 로드하기 전 테스트 세트만 가지고 평가해 봅시다."
      ]
    },
    {
      "cell_type": "code",
      "metadata": {
        "colab": {
          "base_uri": "https://localhost:8080/"
        },
        "id": "-Usp6B0uTdFm",
        "outputId": "f7aaa8a1-2730-4e8d-f998-db44cb8ea48b"
      },
      "source": [
        "# 기본 모델 객체를 만듭니다.\n",
        "model = create_model()\n",
        "# 모델을 평가합니다.\n",
        "loss, acc = model.evaluate(test_images, test_labels, verbose=2)\n",
        "print(\"훈련되지 않은 모델의 정확도: {:5.2f}%\".format(100*acc))"
      ],
      "execution_count": 7,
      "outputs": [
        {
          "output_type": "stream",
          "text": [
            "32/32 - 0s - loss: 2.3798 - accuracy: 0.0600\n",
            "훈련되지 않은 모델의 정확도:  6.00%\n"
          ],
          "name": "stdout"
        }
      ]
    },
    {
      "cell_type": "markdown",
      "metadata": {
        "id": "6M2bH9K1T3o2"
      },
      "source": [
        "새로 만든 모델은 훈련이 된 데이터가 없으므로 테스트 세트로 평가하면 정확도가 상당히 낮은 것을 볼 수 있습니다.\n",
        "\n",
        "체크포인트에서 가중치를 로드하고 다시 평가해 봅시다."
      ]
    },
    {
      "cell_type": "code",
      "metadata": {
        "colab": {
          "base_uri": "https://localhost:8080/"
        },
        "id": "tKiMAEQXT6By",
        "outputId": "04273430-2a07-41c3-bce4-19c3c67e5baa"
      },
      "source": [
        "# 가중치 로드\n",
        "model.load_weights(checkpoint_path)\n",
        "\n",
        "# 모델 재평가\n",
        "loss, acc = model.evaluate(test_images, test_labels, verbose=2)\n",
        "print(\"복원된 모델의 정확도: {:5.2f}%\".format(100*acc))"
      ],
      "execution_count": 8,
      "outputs": [
        {
          "output_type": "stream",
          "text": [
            "32/32 - 0s - loss: 0.4166 - accuracy: 0.8630\n",
            "복원된 모델의 정확도: 86.30%\n"
          ],
          "name": "stdout"
        }
      ]
    },
    {
      "cell_type": "markdown",
      "metadata": {
        "id": "n92OgtN_VuYO"
      },
      "source": [
        "### 체크포인트 콜백 매개변수\n",
        "\n",
        "이 콜백 함수는 몇 가지 매개변수를 제공합니다. 체크포인트 이름을 고유하게 만들거나 체크포인트 주기를 조정할 수 있습니다."
      ]
    },
    {
      "cell_type": "code",
      "metadata": {
        "colab": {
          "base_uri": "https://localhost:8080/"
        },
        "id": "htqfF1PsV-uJ",
        "outputId": "d32e91e5-2c9b-44db-f41d-e67f22cf645c"
      },
      "source": [
        "# 파일 이름에 에포크 번호를 포함시킵니다(`str.format` 포맷)\n",
        "# epoch:04d 는 4자리의 정수형태로 에포크를 출력하겠다는 의미(빈자리는 0으로 채운다)\n",
        "checkpoint_path = \"training_2/cp-{epoch:04d}.ckpt\"\n",
        "checkpoint_dir = os.path.dirname(checkpoint_path)\n",
        "\n",
        "# 다섯 번째 에포크마다 가중치를 저장하기 위한 콜백을 만듭니다.\n",
        "cp_callback = keras.callbacks.ModelCheckpoint(\n",
        "    filepath=checkpoint_path,\n",
        "    verbose=1,\n",
        "    save_weights_only=True,\n",
        "    period=5\n",
        ")\n",
        "\n",
        "model = create_model()\n",
        "# `checkpoint_path` 포맷을 사용하는 가중치를 저장합니다.\n",
        "model.save_weights(checkpoint_path.format(epoch=0))\n",
        "\n",
        "model.fit(train_images, train_labels, epochs=50,\n",
        "          callbacks=[cp_callback],\n",
        "          validation_data=(test_images, test_labels),\n",
        "          verbose=0)"
      ],
      "execution_count": 9,
      "outputs": [
        {
          "output_type": "stream",
          "text": [
            "WARNING:tensorflow:`period` argument is deprecated. Please use `save_freq` to specify the frequency in number of batches seen.\n",
            "WARNING:tensorflow:Unresolved object in checkpoint: (root).optimizer.iter\n",
            "WARNING:tensorflow:Unresolved object in checkpoint: (root).optimizer.beta_1\n",
            "WARNING:tensorflow:Unresolved object in checkpoint: (root).optimizer.beta_2\n",
            "WARNING:tensorflow:Unresolved object in checkpoint: (root).optimizer.decay\n",
            "WARNING:tensorflow:Unresolved object in checkpoint: (root).optimizer.learning_rate\n",
            "WARNING:tensorflow:A checkpoint was restored (e.g. tf.train.Checkpoint.restore or tf.keras.Model.load_weights) but not all checkpointed values were used. See above for specific issues. Use expect_partial() on the load status object, e.g. tf.train.Checkpoint.restore(...).expect_partial(), to silence these warnings, or use assert_consumed() to make the check explicit. See https://www.tensorflow.org/guide/checkpoint#loading_mechanics for details.\n",
            "\n",
            "Epoch 00005: saving model to training_2/cp-0005.ckpt\n",
            "\n",
            "Epoch 00010: saving model to training_2/cp-0010.ckpt\n",
            "\n",
            "Epoch 00015: saving model to training_2/cp-0015.ckpt\n",
            "\n",
            "Epoch 00020: saving model to training_2/cp-0020.ckpt\n",
            "\n",
            "Epoch 00025: saving model to training_2/cp-0025.ckpt\n",
            "\n",
            "Epoch 00030: saving model to training_2/cp-0030.ckpt\n",
            "\n",
            "Epoch 00035: saving model to training_2/cp-0035.ckpt\n",
            "\n",
            "Epoch 00040: saving model to training_2/cp-0040.ckpt\n",
            "\n",
            "Epoch 00045: saving model to training_2/cp-0045.ckpt\n",
            "\n",
            "Epoch 00050: saving model to training_2/cp-0050.ckpt\n"
          ],
          "name": "stdout"
        },
        {
          "output_type": "execute_result",
          "data": {
            "text/plain": [
              "<tensorflow.python.keras.callbacks.History at 0x7f4e6db00dd0>"
            ]
          },
          "metadata": {
            "tags": []
          },
          "execution_count": 9
        }
      ]
    },
    {
      "cell_type": "markdown",
      "metadata": {
        "id": "QCXLyEsAX5p7"
      },
      "source": [
        "만들어진 체크포인트를 확인해 봅시다."
      ]
    },
    {
      "cell_type": "code",
      "metadata": {
        "colab": {
          "base_uri": "https://localhost:8080/"
        },
        "id": "ZS6INAZ6X9N-",
        "outputId": "16a4f05d-3c84-4741-9c07-6baf8e89a6d0"
      },
      "source": [
        "!ls {checkpoint_dir}"
      ],
      "execution_count": 10,
      "outputs": [
        {
          "output_type": "stream",
          "text": [
            "checkpoint\t\t\t  cp-0025.ckpt.index\n",
            "cp-0000.ckpt.data-00000-of-00001  cp-0030.ckpt.data-00000-of-00001\n",
            "cp-0000.ckpt.index\t\t  cp-0030.ckpt.index\n",
            "cp-0005.ckpt.data-00000-of-00001  cp-0035.ckpt.data-00000-of-00001\n",
            "cp-0005.ckpt.index\t\t  cp-0035.ckpt.index\n",
            "cp-0010.ckpt.data-00000-of-00001  cp-0040.ckpt.data-00000-of-00001\n",
            "cp-0010.ckpt.index\t\t  cp-0040.ckpt.index\n",
            "cp-0015.ckpt.data-00000-of-00001  cp-0045.ckpt.data-00000-of-00001\n",
            "cp-0015.ckpt.index\t\t  cp-0045.ckpt.index\n",
            "cp-0020.ckpt.data-00000-of-00001  cp-0050.ckpt.data-00000-of-00001\n",
            "cp-0020.ckpt.index\t\t  cp-0050.ckpt.index\n",
            "cp-0025.ckpt.data-00000-of-00001\n"
          ],
          "name": "stdout"
        }
      ]
    },
    {
      "cell_type": "markdown",
      "metadata": {
        "id": "e9Z0wjT7YgLl"
      },
      "source": [
        "마지막 체크포인트를 선택해보겠습니다."
      ]
    },
    {
      "cell_type": "code",
      "metadata": {
        "colab": {
          "base_uri": "https://localhost:8080/",
          "height": 34
        },
        "id": "2T2x4cNtYS9V",
        "outputId": "d849d365-76e5-4edd-edd8-5b58a7727bc7"
      },
      "source": [
        "latest = tf.train.latest_checkpoint(checkpoint_dir)\n",
        "latest"
      ],
      "execution_count": 11,
      "outputs": [
        {
          "output_type": "execute_result",
          "data": {
            "application/vnd.google.colaboratory.intrinsic+json": {
              "type": "string"
            },
            "text/plain": [
              "'training_2/cp-0050.ckpt'"
            ]
          },
          "metadata": {
            "tags": []
          },
          "execution_count": 11
        }
      ]
    },
    {
      "cell_type": "markdown",
      "metadata": {
        "id": "J4NXdSz_Yutf"
      },
      "source": [
        "텐서플로우는 기본적으로 최근 5개의 체크포인트만 저장합니다.\n",
        "\n",
        "모델을 초기화하고 최근 체크포인트를 로드하여 테스트해 보겠습니다."
      ]
    },
    {
      "cell_type": "code",
      "metadata": {
        "colab": {
          "base_uri": "https://localhost:8080/"
        },
        "id": "ZXRryVHoY1dx",
        "outputId": "13f85401-c78b-4fa2-a87d-cdf7dc55c58f"
      },
      "source": [
        "model = create_model()\n",
        "\n",
        "model.load_weights(latest)\n",
        "\n",
        "loss, acc = model.evaluate(test_images, test_labels, verbose=2)\n",
        "print(\"복원된 모델의 정확도: {:5.2f}%\".format(100*acc))"
      ],
      "execution_count": 12,
      "outputs": [
        {
          "output_type": "stream",
          "text": [
            "32/32 - 0s - loss: 0.4978 - accuracy: 0.8730\n",
            "복원된 모델의 정확도: 87.30%\n"
          ],
          "name": "stdout"
        }
      ]
    },
    {
      "cell_type": "markdown",
      "metadata": {
        "id": "GQlOsxTE_dpM"
      },
      "source": [
        "## 3. 수동으로 가중치 저장하기\n",
        "\n",
        "수동으로 가중치를 저장하는 것도 쉽습니다. `Model.save_weights` 메서드를 사용합니다. `tf.keras`의 `save_weights`는 .ckpt 확장자를 가진 텐서플로우 체크포인트 포멧을 사용합니다.(.h5 확장자의 HDF5로 저장하는 것은 이후에 다룹니다)"
      ]
    },
    {
      "cell_type": "code",
      "metadata": {
        "colab": {
          "base_uri": "https://localhost:8080/"
        },
        "id": "h0SU04uaAKEK",
        "outputId": "52fedff2-5dba-4423-ea90-e44485fdc217"
      },
      "source": [
        "model.save_weights('./checkpoints/my_checkpoint')\n",
        "\n",
        "model = create_model()\n",
        "\n",
        "model.load_weights('./checkpoints/my_checkpoint')\n",
        "\n",
        "loss, acc = model.evaluate(test_images, test_labels, verbose=2)\n",
        "print(\"복원된 모델의 정확도: {:5.2f}%\".format(100*acc))"
      ],
      "execution_count": 13,
      "outputs": [
        {
          "output_type": "stream",
          "text": [
            "32/32 - 0s - loss: 0.4978 - accuracy: 0.8730\n",
            "복원된 모델의 정확도: 87.30%\n"
          ],
          "name": "stdout"
        }
      ]
    },
    {
      "cell_type": "markdown",
      "metadata": {
        "id": "JAT_ygxiAqAO"
      },
      "source": [
        "## 4. 전체 모델 저장하기\n",
        "\n",
        "`model.save` 메서드를 호출하여 모델의 구조, 가중치, 훈련 설정을 하나의 파일/폴더에 저장합니다. 모델을 저장하기 때문에 원본 파이썬 코드가 없어도 사용할 수 있습니다. 정확히 중지한 시점에서 다시 훈련을 시작할 수 있습니다.\n",
        "\n",
        "전체 모델을 저장하는 기능은 매우 유용합니다. TensorFlow.js로 모델을 로드한 다음 웹 브라우저에서 모델을 훈련하고 실행할 수 있습니다. 또는 모바일 장치에 맞도록 변환한 다음 TensorFlow Lite를 사용하여 실행할 수도 있습니다."
      ]
    },
    {
      "cell_type": "markdown",
      "metadata": {
        "id": "QT-QAiBbBc6t"
      },
      "source": [
        "### SavedModel 포맷\n",
        "\n",
        "SavedModel 포맷은 모델을 직렬화하는 방법입니다. 이 포맷으로 저장한 모델은 `keras.models.load_model`로 복원할 수 있고 텐서플로 서빙과 호환됩니다.\n",
        "\n",
        "[SavedModel 가이드](https://www.tensorflow.org/guide/saved_model)에서 SavedModel을 서빙하고 점검하는 자세한 방법을 제공합니다."
      ]
    },
    {
      "cell_type": "code",
      "metadata": {
        "colab": {
          "base_uri": "https://localhost:8080/"
        },
        "id": "zjsO-webB2fi",
        "outputId": "a80c6835-6a49-4b8f-ab47-c38c63a50314"
      },
      "source": [
        "model = create_model()\n",
        "model.fit(train_images, train_labels, epochs=5)\n",
        "\n",
        "!mkdir -p saved_model  # 'saved_model'이라는 이름의 폴더를 만듭니다.\n",
        "model.save('saved_model/my_model')  # my_model이라는 이름으로 저장합니다."
      ],
      "execution_count": 14,
      "outputs": [
        {
          "output_type": "stream",
          "text": [
            "Epoch 1/5\n",
            "32/32 [==============================] - 0s 5ms/step - loss: 1.1651 - accuracy: 0.6620\n",
            "Epoch 2/5\n",
            "32/32 [==============================] - 0s 5ms/step - loss: 0.4206 - accuracy: 0.8920\n",
            "Epoch 3/5\n",
            "32/32 [==============================] - 0s 4ms/step - loss: 0.2858 - accuracy: 0.9200\n",
            "Epoch 4/5\n",
            "32/32 [==============================] - 0s 5ms/step - loss: 0.2130 - accuracy: 0.9460\n",
            "Epoch 5/5\n",
            "32/32 [==============================] - 0s 4ms/step - loss: 0.1598 - accuracy: 0.9640\n",
            "INFO:tensorflow:Assets written to: saved_model/my_model/assets\n"
          ],
          "name": "stdout"
        }
      ]
    },
    {
      "cell_type": "markdown",
      "metadata": {
        "id": "uDT8yd8NCOTm"
      },
      "source": [
        "저장된 모델의 디렉토리를 확인해 보겠습니다."
      ]
    },
    {
      "cell_type": "code",
      "metadata": {
        "colab": {
          "base_uri": "https://localhost:8080/"
        },
        "id": "hTHd-8dGCUZx",
        "outputId": "d36912c0-e400-4283-86eb-ce62ad32f7b5"
      },
      "source": [
        "!ls saved_model\n",
        "\n",
        "!ls saved_model/my_model"
      ],
      "execution_count": 15,
      "outputs": [
        {
          "output_type": "stream",
          "text": [
            "my_model\n",
            "assets\tkeras_metadata.pb  saved_model.pb  variables\n"
          ],
          "name": "stdout"
        }
      ]
    },
    {
      "cell_type": "markdown",
      "metadata": {
        "id": "pw0YViVuCl2j"
      },
      "source": [
        "저장된 모델로부터 새로운 케라스 모델을 로드합니다."
      ]
    },
    {
      "cell_type": "code",
      "metadata": {
        "colab": {
          "base_uri": "https://localhost:8080/"
        },
        "id": "mSdSmzbMCp5d",
        "outputId": "71486540-b0e7-48ec-84d9-28703fa1ef29"
      },
      "source": [
        "new_model = keras.models.load_model('saved_model/my_model')\n",
        "\n",
        "new_model.summary()"
      ],
      "execution_count": 16,
      "outputs": [
        {
          "output_type": "stream",
          "text": [
            "Model: \"sequential_5\"\n",
            "_________________________________________________________________\n",
            "Layer (type)                 Output Shape              Param #   \n",
            "=================================================================\n",
            "dense_10 (Dense)             (None, 512)               401920    \n",
            "_________________________________________________________________\n",
            "dropout_5 (Dropout)          (None, 512)               0         \n",
            "_________________________________________________________________\n",
            "dense_11 (Dense)             (None, 10)                5130      \n",
            "=================================================================\n",
            "Total params: 407,050\n",
            "Trainable params: 407,050\n",
            "Non-trainable params: 0\n",
            "_________________________________________________________________\n"
          ],
          "name": "stdout"
        }
      ]
    },
    {
      "cell_type": "markdown",
      "metadata": {
        "id": "B5E5FfzPC0Tq"
      },
      "source": [
        "복원된 모델은 원본 모델과 동일한 매개변수로 컴파일 되어 있습니다. 이 모델을 평가하고 예측해 보겠습니다."
      ]
    },
    {
      "cell_type": "code",
      "metadata": {
        "colab": {
          "base_uri": "https://localhost:8080/"
        },
        "id": "auraq910C5W7",
        "outputId": "6cb8ef32-a0d6-4688-fc47-639cefa5580d"
      },
      "source": [
        "loss, acc = new_model.evaluate(test_images, test_labels, verbose=2)\n",
        "print('복원된 모델의 정확도: {:5.2f}%'.format(100*acc))\n",
        "\n",
        "print(new_model.predict(test_images).shape)"
      ],
      "execution_count": 17,
      "outputs": [
        {
          "output_type": "stream",
          "text": [
            "32/32 - 0s - loss: 0.4534 - accuracy: 0.8540\n",
            "복원된 모델의 정확도: 85.40%\n",
            "(1000, 10)\n"
          ],
          "name": "stdout"
        }
      ]
    },
    {
      "cell_type": "markdown",
      "metadata": {
        "id": "-_bTA_i9DJp9"
      },
      "source": [
        "### HDF5 파일로 저장하기\n",
        "\n",
        "keras는 HDF5 표준을 따르는 기본 저장 포맷을 제공합니다."
      ]
    },
    {
      "cell_type": "code",
      "metadata": {
        "colab": {
          "base_uri": "https://localhost:8080/"
        },
        "id": "aiKprVVxDPEI",
        "outputId": "77649325-8199-4886-cc53-934c8374d48d"
      },
      "source": [
        "model = create_model()\n",
        "model.fit(train_images, train_labels, epochs=5)\n",
        "\n",
        "model.save('my_model.h5')\n",
        "\n",
        "new_model = keras.models.load_model('my_model.h5')\n",
        "\n",
        "new_model.summary()"
      ],
      "execution_count": 18,
      "outputs": [
        {
          "output_type": "stream",
          "text": [
            "WARNING:tensorflow:Unresolved object in checkpoint: (root).optimizer.iter\n",
            "WARNING:tensorflow:Unresolved object in checkpoint: (root).optimizer.beta_1\n",
            "WARNING:tensorflow:Unresolved object in checkpoint: (root).optimizer.beta_2\n",
            "WARNING:tensorflow:Unresolved object in checkpoint: (root).optimizer.decay\n",
            "WARNING:tensorflow:Unresolved object in checkpoint: (root).optimizer.learning_rate\n",
            "WARNING:tensorflow:A checkpoint was restored (e.g. tf.train.Checkpoint.restore or tf.keras.Model.load_weights) but not all checkpointed values were used. See above for specific issues. Use expect_partial() on the load status object, e.g. tf.train.Checkpoint.restore(...).expect_partial(), to silence these warnings, or use assert_consumed() to make the check explicit. See https://www.tensorflow.org/guide/checkpoint#loading_mechanics for details.\n",
            "Epoch 1/5\n",
            "32/32 [==============================] - 0s 4ms/step - loss: 1.1914 - accuracy: 0.6620\n",
            "Epoch 2/5\n",
            "32/32 [==============================] - 0s 4ms/step - loss: 0.4389 - accuracy: 0.8660\n",
            "Epoch 3/5\n",
            "32/32 [==============================] - 0s 4ms/step - loss: 0.2958 - accuracy: 0.9290\n",
            "Epoch 4/5\n",
            "32/32 [==============================] - 0s 4ms/step - loss: 0.2027 - accuracy: 0.9570\n",
            "Epoch 5/5\n",
            "32/32 [==============================] - 0s 5ms/step - loss: 0.1577 - accuracy: 0.9640\n",
            "Model: \"sequential_6\"\n",
            "_________________________________________________________________\n",
            "Layer (type)                 Output Shape              Param #   \n",
            "=================================================================\n",
            "dense_12 (Dense)             (None, 512)               401920    \n",
            "_________________________________________________________________\n",
            "dropout_6 (Dropout)          (None, 512)               0         \n",
            "_________________________________________________________________\n",
            "dense_13 (Dense)             (None, 10)                5130      \n",
            "=================================================================\n",
            "Total params: 407,050\n",
            "Trainable params: 407,050\n",
            "Non-trainable params: 0\n",
            "_________________________________________________________________\n"
          ],
          "name": "stdout"
        }
      ]
    },
    {
      "cell_type": "code",
      "metadata": {
        "colab": {
          "base_uri": "https://localhost:8080/"
        },
        "id": "bqRbM3CXDkLT",
        "outputId": "0c4b6f6a-b51f-4120-9747-5b79d8430582"
      },
      "source": [
        "loss, acc = new_model.evaluate(test_images, test_labels, verbose=2)\n",
        "print(\"복원된 모델의 정확도: {:5.2f}%\".format(100*acc))"
      ],
      "execution_count": 19,
      "outputs": [
        {
          "output_type": "stream",
          "text": [
            "32/32 - 0s - loss: 0.4296 - accuracy: 0.8690\n",
            "복원된 모델의 정확도: 86.90%\n"
          ],
          "name": "stdout"
        }
      ]
    },
    {
      "cell_type": "markdown",
      "metadata": {
        "id": "1s3x3gowDw5_"
      },
      "source": [
        "`model.save` 메서드는 모델 구조를 파악하여 저장합니다. 아래의 항목들을 저장합니다.\n",
        "\n",
        "+ 가중치 값\n",
        "+ 모델 구조\n",
        "+ 모델의 훈련 설정(컴파일할 때 전달한 값)\n",
        "+ 옵티마이저와 옵티마이저 상태(필요하다면)(중지된 지점부터 다시 시작할 수 있습니다)\n",
        "\n",
        "체크포인트가 호환되지 않기 때문에 케라스는 v1.x 옵티마이저(`tf.compat.v1.train`)를 저장할 수 없습니다. v1.x 옵티마이저를 사용하려면 로드한 후에 모델을 다시 컴파일해야 합니다. 따라서 옵티마이저의 상태를 잃게 됩니다."
      ]
    },
    {
      "cell_type": "markdown",
      "metadata": {
        "id": "puXYFvNVETK1"
      },
      "source": [
        "### 사용자 정의 객체\n",
        "\n",
        "SavedModel 포맷을 사용한다면 이 섹션은 건너 뛰어도 됩니다. HDF5와 SavedModel 사이의 주요 차이점은 HDF5가 객체로 모델 구조를 저장하고 SavedModel은 실행 그래프로 저장하는 것입니다. 따라서 SavedModel은 원본 코드 없이 상속 모델과 사용자 정의 층 같은 사용자 정의 객체를 저장할 수 있습니다.\n",
        "\n",
        "사용자 정의 객체를 HDF5로 저장하려면 다음 과정을 따르시길 바랍니다.\n",
        "\n",
        "1. 객체에 `get_config` 메서드를 정의하고 선택적으로 `from_config` 클래스 메서드를 정의합니다.\n",
        "    * `get_config(self)`는 객체를 다시 생성하기 위해 필요한 JSON 직렬화된 매개변수 딕셔너리를 반환합니다.\n",
        "    * `from_config(cls, config)`는 `get_config`에서 반환된 설정을 사용해 새로운 객체를 만듭니다. 기본적으로 이 함수는 이 설정을 초기화 메서드의 매개변수로 사용합니다(`return cls(**config)`).\n",
        "2. 모델을 로드할 때 이 객체를 `custom_objects` 매개변수로 전달합니다. 문자열 클래스 이름과 파이썬 클래스를 매핑한 딕서너리를 매개변수로 제공해야 합니다. 예를 들면 `tf.keras.models.load_model(path, custom_objects={'CustomLayer': CustomLayer})`\n",
        "\n",
        "사용자 정의 객체와 `get_config`에 관한 예제를 보려면 [Writing layers and models from scratch](https://www.tensorflow.org/guide/keras/custom_layers_and_models) 튜토리얼을 참고하세요. "
      ]
    }
  ]
}