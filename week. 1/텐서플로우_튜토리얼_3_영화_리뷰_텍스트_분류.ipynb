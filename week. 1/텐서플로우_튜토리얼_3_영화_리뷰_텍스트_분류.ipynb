{
  "nbformat": 4,
  "nbformat_minor": 0,
  "metadata": {
    "colab": {
      "name": "텐서플로우 튜토리얼 #3 - 영화 리뷰 텍스트 분류",
      "provenance": [],
      "collapsed_sections": []
    },
    "kernelspec": {
      "name": "python3",
      "display_name": "Python 3"
    },
    "language_info": {
      "name": "python"
    },
    "accelerator": "GPU"
  },
  "cells": [
    {
      "cell_type": "markdown",
      "metadata": {
        "id": "C70bwPH-iPMD"
      },
      "source": [
        "## 정확히 이해되지 않은 개념\n",
        "\n",
        "+ Embedding"
      ]
    },
    {
      "cell_type": "markdown",
      "metadata": {
        "id": "Y80vr79-CHj_"
      },
      "source": [
        "# 영화 리뷰를 통한 텍스트 분류\n",
        "\n",
        "본 튜토리얼은 [텐서플로우 공식 튜토리얼](https://www.tensorflow.org/tutorials/keras/text_classification)을 참고하여 제가 이해한 내용을 바탕으로 작성되었습니다.\n",
        "\n",
        "이번 튜토리얼에서는 영화 리뷰(review) 텍스트를 긍정(positive) 또는 부정(negative)으로 분류해봅니다. 이번 예제는 **이진(binary) 또는 클래스(class)가 두 개인 분류 문제**입니다. **이진 분류는 머신러닝에서 중요하고 널리 사용됩니다.**\n",
        "\n",
        "[인터넷 영화 데이터베이스](https://www.imdb.com/)(Internet Movie Database)에서 수집한 50,000개의 영화 리뷰 텍스트를 담은 **IMDB 데이터셋**을 사용합니다. **25,000개의 리뷰는 훈련용**으로, **나머지 25,000개는 테스트용**으로 나뉘어져 있습니다. 훈련 세트와 테스트 세트의 클래스는 균형이 잡혀 있습니다. 즉, 긍정적인 리뷰와 부정적인 리뷰의 개수가 동일합니다.\n",
        "\n",
        "keras와 numpy를 임포트합니다."
      ]
    },
    {
      "cell_type": "code",
      "metadata": {
        "id": "FeiqvWrLBXGj"
      },
      "source": [
        "import tensorflow as tf\n",
        "from tensorflow import keras\n",
        "\n",
        "import numpy as np"
      ],
      "execution_count": 2,
      "outputs": []
    },
    {
      "cell_type": "markdown",
      "metadata": {
        "id": "L9SnjoBRDZdN"
      },
      "source": [
        "## 1. IMDB 데이터셋 다운로드\n",
        "\n",
        "IMDB 데이터셋은 텐서플로와 함께 제공됩니다. **리뷰(단어의 시퀀스(sequence))**는 미리 전처리해서 **정수 시퀀스로 변환**되어 있습니다. **각 정수는 어휘 사전에 있는 특정 단어를 의미**합니다.\n",
        "\n",
        "다음 코드로 IMDB 데이터셋을 컴퓨터에 다운로드해봅시다.(이전에 다운로드를 받았다면 캐시된 복사본을 사용합니다)"
      ]
    },
    {
      "cell_type": "code",
      "metadata": {
        "colab": {
          "base_uri": "https://localhost:8080/"
        },
        "id": "TjK9GQKEEBk7",
        "outputId": "b68f564e-1f99-40d5-c3f8-d7fad633eb11"
      },
      "source": [
        "imdb = keras.datasets.imdb\n",
        "\n",
        "(train_data, train_labels), (test_data, test_labels) = imdb.load_data(num_words=10000)"
      ],
      "execution_count": 3,
      "outputs": [
        {
          "output_type": "stream",
          "text": [
            "Downloading data from https://storage.googleapis.com/tensorflow/tf-keras-datasets/imdb.npz\n",
            "17465344/17464789 [==============================] - 0s 0us/step\n"
          ],
          "name": "stdout"
        },
        {
          "output_type": "stream",
          "text": [
            "<string>:6: VisibleDeprecationWarning: Creating an ndarray from ragged nested sequences (which is a list-or-tuple of lists-or-tuples-or ndarrays with different lengths or shapes) is deprecated. If you meant to do this, you must specify 'dtype=object' when creating the ndarray\n",
            "/usr/local/lib/python3.7/dist-packages/tensorflow/python/keras/datasets/imdb.py:155: VisibleDeprecationWarning: Creating an ndarray from ragged nested sequences (which is a list-or-tuple of lists-or-tuples-or ndarrays with different lengths or shapes) is deprecated. If you meant to do this, you must specify 'dtype=object' when creating the ndarray\n",
            "  x_train, y_train = np.array(xs[:idx]), np.array(labels[:idx])\n",
            "/usr/local/lib/python3.7/dist-packages/tensorflow/python/keras/datasets/imdb.py:156: VisibleDeprecationWarning: Creating an ndarray from ragged nested sequences (which is a list-or-tuple of lists-or-tuples-or ndarrays with different lengths or shapes) is deprecated. If you meant to do this, you must specify 'dtype=object' when creating the ndarray\n",
            "  x_test, y_test = np.array(xs[idx:]), np.array(labels[idx:])\n"
          ],
          "name": "stderr"
        }
      ]
    },
    {
      "cell_type": "markdown",
      "metadata": {
        "id": "RX1HZAopEWFM"
      },
      "source": [
        "매개변수 `num_words=10000`은 훈련 데이터에서 가장 많이 등장하는 상위 10,000개의 단어를 선택합니다. **데이터 크기를 적당하게 유지하기 위해** 드물게 등장하는 단어는 제외합니다."
      ]
    },
    {
      "cell_type": "markdown",
      "metadata": {
        "id": "bsAqzUQvEzg5"
      },
      "source": [
        "## 2. 데이터 탐색\n",
        "\n",
        "데이터 형태를 알아보겠습니다. IMDB 데이터셋의 샘플은 전치리된 정수 배열입니다.  이 정수는 영화 리뷰에 나오는 단어를 나타냅니다. 레이블(label)은 정수 0 또는 1입니다.\n",
        "+ 0 : 부정적인 리뷰\n",
        "+ 1 : 긍정적인 리뷰"
      ]
    },
    {
      "cell_type": "code",
      "metadata": {
        "colab": {
          "base_uri": "https://localhost:8080/"
        },
        "id": "Hv0yj6PeFyPt",
        "outputId": "3758dda5-60b8-4da8-be21-243603a52c38"
      },
      "source": [
        "print(\"훈련 샘플: {}, 레이블: {}\".format(len(train_data), len(train_labels)))"
      ],
      "execution_count": 4,
      "outputs": [
        {
          "output_type": "stream",
          "text": [
            "훈련 샘플: 25000, 레이블: 25000\n"
          ],
          "name": "stdout"
        }
      ]
    },
    {
      "cell_type": "markdown",
      "metadata": {
        "id": "G2qHEEM_F8ko"
      },
      "source": [
        "리뷰 텍스트는 어휘 사전의 특정 단어를 나타내는 정수로 변환되어 있습니다. \n",
        "\n",
        "첫 번째 리뷰를 확인해봅시다."
      ]
    },
    {
      "cell_type": "code",
      "metadata": {
        "colab": {
          "base_uri": "https://localhost:8080/"
        },
        "id": "VUFmafxyGGP2",
        "outputId": "52e05f61-e2f8-400e-ba32-c419fa704439"
      },
      "source": [
        "print(train_data[0])"
      ],
      "execution_count": 5,
      "outputs": [
        {
          "output_type": "stream",
          "text": [
            "[1, 14, 22, 16, 43, 530, 973, 1622, 1385, 65, 458, 4468, 66, 3941, 4, 173, 36, 256, 5, 25, 100, 43, 838, 112, 50, 670, 2, 9, 35, 480, 284, 5, 150, 4, 172, 112, 167, 2, 336, 385, 39, 4, 172, 4536, 1111, 17, 546, 38, 13, 447, 4, 192, 50, 16, 6, 147, 2025, 19, 14, 22, 4, 1920, 4613, 469, 4, 22, 71, 87, 12, 16, 43, 530, 38, 76, 15, 13, 1247, 4, 22, 17, 515, 17, 12, 16, 626, 18, 2, 5, 62, 386, 12, 8, 316, 8, 106, 5, 4, 2223, 5244, 16, 480, 66, 3785, 33, 4, 130, 12, 16, 38, 619, 5, 25, 124, 51, 36, 135, 48, 25, 1415, 33, 6, 22, 12, 215, 28, 77, 52, 5, 14, 407, 16, 82, 2, 8, 4, 107, 117, 5952, 15, 256, 4, 2, 7, 3766, 5, 723, 36, 71, 43, 530, 476, 26, 400, 317, 46, 7, 4, 2, 1029, 13, 104, 88, 4, 381, 15, 297, 98, 32, 2071, 56, 26, 141, 6, 194, 7486, 18, 4, 226, 22, 21, 134, 476, 26, 480, 5, 144, 30, 5535, 18, 51, 36, 28, 224, 92, 25, 104, 4, 226, 65, 16, 38, 1334, 88, 12, 16, 283, 5, 16, 4472, 113, 103, 32, 15, 16, 5345, 19, 178, 32]\n"
          ],
          "name": "stdout"
        }
      ]
    },
    {
      "cell_type": "markdown",
      "metadata": {
        "id": "lb5oT1KFF8fT"
      },
      "source": [
        "영화 리뷰들은 길이가 다릅니다. 신경망의 입력은 길이가 같아야 하기 때문에 이 문제는 나중에 해결하겠습니다.\n",
        "\n",
        "다음 코드는 첫 번째 리뷰와 두 번째 리뷰에서 단어의 개수를 출력합니다."
      ]
    },
    {
      "cell_type": "code",
      "metadata": {
        "colab": {
          "base_uri": "https://localhost:8080/"
        },
        "id": "3u3k9UvRHOb0",
        "outputId": "7435a160-a7c7-4c84-d90f-aa4ab378c99e"
      },
      "source": [
        "len(train_data[0]), len(train_data[1])"
      ],
      "execution_count": 6,
      "outputs": [
        {
          "output_type": "execute_result",
          "data": {
            "text/plain": [
              "(218, 189)"
            ]
          },
          "metadata": {
            "tags": []
          },
          "execution_count": 6
        }
      ]
    },
    {
      "cell_type": "markdown",
      "metadata": {
        "id": "gXTyTC_sHzlP"
      },
      "source": [
        "### 정수를 단어로 다시 변환하기\n",
        "\n",
        "정수를 다시 텍스트로 변환해봅시다."
      ]
    },
    {
      "cell_type": "code",
      "metadata": {
        "colab": {
          "base_uri": "https://localhost:8080/"
        },
        "id": "sseI9O6YIIuT",
        "outputId": "0bdd187d-75f9-4fe4-dd12-a7d2119a3d4f"
      },
      "source": [
        "# 단어와 정수 인덱스를 매핑한 딕셔너리를 다운로드한다.\n",
        "# {단어: 정수} 형태의 딕셔너리이다.\n",
        "word_index = imdb.get_word_index()\n",
        "\n",
        "# 기존에 매핑된 정수 값에 +3을 한다. 이 과정을 거치면 word_index[0, 1, 2, 3]이 비어있게 된다.\n",
        "word_index = {k:(v+3) for k, v in word_index.items()}\n",
        "# word_index[0, 1, 2, 3]을 채워준다.\n",
        "word_index[\"<PAD>\"] = 0\n",
        "word_index[\"<START>\"] = 1\n",
        "word_index[\"<UNK>\"] = 2  # unknown\n",
        "word_index[\"<UNUSED>\"] = 3\n",
        "\n",
        "# key값과 value값의 위치를 바꿔놓은 reverse 딕셔너리를 하나 만들어준다.\n",
        "reverse_word_index = dict([(value, key) for (key, value) in word_index.items()])\n",
        "\n",
        "# 정수 배열(reverse_word_index의 key)이 들어왔을 때 이에 대응되는 단어(reverse_word_index의 value)를 공백으로 결합해서 출력.\n",
        "# 대응되는 단어가 없는 정수가 들어왔을 때는 '?' 출력\n",
        "def decode_review(text):\n",
        "    return ' '.join([reverse_word_index.get(i, '?') for i in text])"
      ],
      "execution_count": 7,
      "outputs": [
        {
          "output_type": "stream",
          "text": [
            "Downloading data from https://storage.googleapis.com/tensorflow/tf-keras-datasets/imdb_word_index.json\n",
            "1646592/1641221 [==============================] - 0s 0us/step\n"
          ],
          "name": "stdout"
        }
      ]
    },
    {
      "cell_type": "markdown",
      "metadata": {
        "id": "G5gaT_5pJqIP"
      },
      "source": [
        "이제 `decode_review`함수를 사용해 첫 번째 리뷰 텍스트를 출력할 수 있습니다."
      ]
    },
    {
      "cell_type": "code",
      "metadata": {
        "colab": {
          "base_uri": "https://localhost:8080/",
          "height": 248
        },
        "id": "P5tFHX3NIy8D",
        "outputId": "6397f454-81f8-4c5b-8637-d402db49cfc4"
      },
      "source": [
        "decode_review(train_data[0])"
      ],
      "execution_count": 8,
      "outputs": [
        {
          "output_type": "execute_result",
          "data": {
            "application/vnd.google.colaboratory.intrinsic+json": {
              "type": "string"
            },
            "text/plain": [
              "\"<START> this film was just brilliant casting location scenery story direction everyone's really suited the part they played and you could just imagine being there robert <UNK> is an amazing actor and now the same being director <UNK> father came from the same scottish island as myself so i loved the fact there was a real connection with this film the witty remarks throughout the film were great it was just brilliant so much that i bought the film as soon as it was released for <UNK> and would recommend it to everyone to watch and the fly fishing was amazing really cried at the end it was so sad and you know what they say if you cry at a film it must have been good and this definitely was also <UNK> to the two little boy's that played the <UNK> of norman and paul they were just brilliant children are often left out of the <UNK> list i think because the stars that play them all grown up are such a big profile for the whole film but these children are amazing and should be praised for what they have done don't you think the whole story was so lovely because it was true and was someone's life after all that was shared with us all\""
            ]
          },
          "metadata": {
            "tags": []
          },
          "execution_count": 8
        }
      ]
    },
    {
      "cell_type": "markdown",
      "metadata": {
        "id": "VOrmxnCuS7CK"
      },
      "source": [
        "(PAD는 아래의 패딩 과정을 수행하면서 부족한 길이만큼 0으로 매꿔주었기 때문에 발생했다)"
      ]
    },
    {
      "cell_type": "markdown",
      "metadata": {
        "id": "jxlai7exLCIA"
      },
      "source": [
        "## 3. 데이터 준비\n",
        "\n",
        "리뷰(정수 배열)는 신경망에 주입하기 전에 텐서로 변환되어야 합니다. 변환하는 방법에는 몇 가지가 있습니다.\n",
        "\n",
        "+ 원-핫 인코딩(one-hot encoding) : 정수 배열을 0과 1로 이루어진 벡터로 변환합니다. 예를 들어 배열[3, 5]을 인덱스 3과 5만 1이고 나머지는 모두 0인 10,000차원 벡터로 변환할 수 있습니다. 이후 실수 벡터 데이터를 다룰 수 있는 layer(dense)를 신경망의 첫 번째 layer로 사용합니다. 이 방법은 `num_words * num_reviews` 크기의 행렬이 필요하기 때문에 **메모리를 많이 사용**합니다.\n",
        "+ 패딩(padding) : **정수 배열의 길이가 모두 같도록 패딩(padding)을 추가**해 `max_length * num_reviews` 크기의 정수 텐서를 만듭니다. 이런 형태의 텐서를 다룰 수 있는 임베딩(embedding) layer를 신경망의 첫 번째 layer로 사용할 수 있습니다.\n",
        "\n",
        "이번 튜토리얼에서는 **두 번째 방식**을 사용합니다.\n",
        "\n",
        "영화 리뷰의 길이가 같아야 하므로 [pad_sequences](https://www.tensorflow.org/api_docs/python/tf/keras/preprocessing/sequence/pad_sequences) 함수를 사용해 길이를 맞추겠습니다.\n",
        "\n",
        "+ pad_sequences : 2차원의 정수 배열을 2차원의 넘파이 배열로 변환한다. `maxlen`를 설정하면 각 행이 그보다 짧은 길이인 경우 부족한 길이만큼 앞(padding='pre') 또는 뒤(padding='post')를 특정 값(value=n)으로 채운다. `maxlen`을 초과한 길이일 경우 앞(truncating='pre') 또는 뒤(truncating='post')를 자른다.\n",
        "+ pad_sequences(sequence, value, padding, maxlen)\n",
        "\n",
        "(디폴트 값 - value : 0, padding='pre', dtype=int32, truncating='pre', maxlen=가장 긴 행의 길이)"
      ]
    },
    {
      "cell_type": "code",
      "metadata": {
        "id": "RcwOKUekMQks"
      },
      "source": [
        "train_data = keras.preprocessing.sequence.pad_sequences(train_data, \n",
        "                                                        padding='post', \n",
        "                                                        maxlen=256)\n",
        "\n",
        "test_data = keras.preprocessing.sequence.pad_sequences(test_data,\n",
        "                                                       value=word_index[\"<PAD>\"],\n",
        "                                                       padding='post',\n",
        "                                                       maxlen=256)"
      ],
      "execution_count": 9,
      "outputs": []
    },
    {
      "cell_type": "markdown",
      "metadata": {
        "id": "X5xHBuO2M0aa"
      },
      "source": [
        "이전에는 훈련 세트의 첫 번째와 두 번째의 데이터의 길이가 달랐습니다. 위의 처리 과정을 거친 후에 샘플의 길이를 다시 확인해 보겠습니다."
      ]
    },
    {
      "cell_type": "code",
      "metadata": {
        "colab": {
          "base_uri": "https://localhost:8080/"
        },
        "id": "10LW8elnMYG6",
        "outputId": "1ab2a096-8ef6-4c63-836c-a47f9773d445"
      },
      "source": [
        "len(train_data[0]), len(train_data[1])"
      ],
      "execution_count": 10,
      "outputs": [
        {
          "output_type": "execute_result",
          "data": {
            "text/plain": [
              "(256, 256)"
            ]
          },
          "metadata": {
            "tags": []
          },
          "execution_count": 10
        }
      ]
    },
    {
      "cell_type": "markdown",
      "metadata": {
        "id": "iXhpcfl1NT9O"
      },
      "source": [
        "길이가 같아졌음을 확인할 수 있습니다.\n",
        "\n",
        "첫 번째 리뷰 내용을 확인해 보겠습니다."
      ]
    },
    {
      "cell_type": "code",
      "metadata": {
        "colab": {
          "base_uri": "https://localhost:8080/"
        },
        "id": "I1IfVaifNapI",
        "outputId": "050bb507-a1b6-4c22-e5e3-e48b80fc5a70"
      },
      "source": [
        "print(train_data[0])"
      ],
      "execution_count": 11,
      "outputs": [
        {
          "output_type": "stream",
          "text": [
            "[   1   14   22   16   43  530  973 1622 1385   65  458 4468   66 3941\n",
            "    4  173   36  256    5   25  100   43  838  112   50  670    2    9\n",
            "   35  480  284    5  150    4  172  112  167    2  336  385   39    4\n",
            "  172 4536 1111   17  546   38   13  447    4  192   50   16    6  147\n",
            " 2025   19   14   22    4 1920 4613  469    4   22   71   87   12   16\n",
            "   43  530   38   76   15   13 1247    4   22   17  515   17   12   16\n",
            "  626   18    2    5   62  386   12    8  316    8  106    5    4 2223\n",
            " 5244   16  480   66 3785   33    4  130   12   16   38  619    5   25\n",
            "  124   51   36  135   48   25 1415   33    6   22   12  215   28   77\n",
            "   52    5   14  407   16   82    2    8    4  107  117 5952   15  256\n",
            "    4    2    7 3766    5  723   36   71   43  530  476   26  400  317\n",
            "   46    7    4    2 1029   13  104   88    4  381   15  297   98   32\n",
            " 2071   56   26  141    6  194 7486   18    4  226   22   21  134  476\n",
            "   26  480    5  144   30 5535   18   51   36   28  224   92   25  104\n",
            "    4  226   65   16   38 1334   88   12   16  283    5   16 4472  113\n",
            "  103   32   15   16 5345   19  178   32    0    0    0    0    0    0\n",
            "    0    0    0    0    0    0    0    0    0    0    0    0    0    0\n",
            "    0    0    0    0    0    0    0    0    0    0    0    0    0    0\n",
            "    0    0    0    0]\n"
          ],
          "name": "stdout"
        }
      ]
    },
    {
      "cell_type": "markdown",
      "metadata": {
        "id": "ZBy4p3CjNp6o"
      },
      "source": [
        "## 4. 모델 구성\n",
        "\n",
        "신경망에 layer를 쌓을 때 두 가지를 결정해야 합니다.\n",
        "\n",
        "+ 모델에서 얼마나 많은 층을 사용할 것인가?\n",
        "+ 각 층에서 얼마나 많은 hidden unit을 사용할 것인가?\n",
        "\n",
        "이 예제의 입력 데이터는 단어 인덱스의 배열입니다. 예측할 레이블은 0 또는 1입니다. 이 문제에 맞는 모델을 구성해 보겠습니다."
      ]
    },
    {
      "cell_type": "code",
      "metadata": {
        "colab": {
          "base_uri": "https://localhost:8080/"
        },
        "id": "27vqa1bYTegz",
        "outputId": "55540ce0-bba9-4a86-b2ff-f4b1e0ce195d"
      },
      "source": [
        "vocab_size = 10000\n",
        "\n",
        "model = keras.Sequential()\n",
        "model.add(keras.layers.Embedding(vocab_size, 16, input_shape=(None,)))\n",
        "model.add(keras.layers.GlobalAveragePooling1D())\n",
        "model.add(keras.layers.Dense(16, activation='relu'))\n",
        "model.add(keras.layers.Dense(1, activation='sigmoid'))\n",
        "\n",
        "model.summary()"
      ],
      "execution_count": 12,
      "outputs": [
        {
          "output_type": "stream",
          "text": [
            "Model: \"sequential\"\n",
            "_________________________________________________________________\n",
            "Layer (type)                 Output Shape              Param #   \n",
            "=================================================================\n",
            "embedding (Embedding)        (None, None, 16)          160000    \n",
            "_________________________________________________________________\n",
            "global_average_pooling1d (Gl (None, 16)                0         \n",
            "_________________________________________________________________\n",
            "dense (Dense)                (None, 16)                272       \n",
            "_________________________________________________________________\n",
            "dense_1 (Dense)              (None, 1)                 17        \n",
            "=================================================================\n",
            "Total params: 160,289\n",
            "Trainable params: 160,289\n",
            "Non-trainable params: 0\n",
            "_________________________________________________________________\n"
          ],
          "name": "stdout"
        }
      ]
    },
    {
      "cell_type": "markdown",
      "metadata": {
        "id": "x9bVK4BnVFOI"
      },
      "source": [
        "층을 순서대로 쌓아 분류기(classifier)를 만듭니다.\n",
        "\n",
        "\n",
        "\n",
        "1.   첫 번째 층은 `Embedding` 층입니다. 이 층은 정수로 인코딩된 단어를 입력 받고 각 단어 인덱스에 해당하는 임베딩 벡터를 찾습니다. 이 벡터는 모델이 훈련되면서 학습됩니다. 이 벡터는 출력 배열에 새로운 차원으로 추가됩니다. 최종 차원은 (batch, sequence, embedding)이 됩니다.\n",
        "+ [언어의 벡터화(Word Embedding)](https://simpling.tistory.com/1)\n",
        "+ vocab_size : data의 총단어 개수\n",
        "+ 16 : 차원이 16인 벡터를 만든다는 뜻. 즉, 행의 길이가 16인 벡터를 만든다.\n",
        "+ 특정 단어에 대해 랜덤하게 16개의 실수형 가중치를 생성한다.\n",
        "2.   두 번째 층은 `GlobalAveragePooling1D` 층입니다. 이 층은 `sequence` 차원에 대해 평균을 계산하여 각 샘플에 대해 고정된 길이의 출력 벡터를 반환합니다. 길이가 다른 입력을 다루는 가장 간단한 방법입니다.\n",
        "+ 앞서 임베딩 레이어에서 각 열의 평균을 구한 크기 16의 벡터를 리턴한다.\n",
        "+ 2차원의 데이터를 1차원으로 리턴하는 효과.\n",
        "3.   세 번째 층은 16개의 hidden unit을 가진 완전 연결(fully-connected)층입니다.\n",
        "4.   마지막 층은 하나의 출력 노드를 가진 완전 연결 층입니다. `sigmoid` 활성화 함수를 사용하여 0~1 사이의 실수를 출력합니다. 이 값은 확률 또는 신뢰도를 나타냅니다.\n",
        "\n"
      ]
    },
    {
      "cell_type": "markdown",
      "metadata": {
        "id": "0WaRBInBZBoS"
      },
      "source": [
        "### Hidden Unit\n",
        "\n",
        "위 모델에는 입력(첫 번째 층)과 출력(마지막 층) 사이에 두 개의 중간 또는 '은닉'층이 있습니다.\n",
        "\n",
        "모델에 많은 은닉 유닛(고차원의 표현 공간)과 층이 있다면 신경망은 더 복잡한 표현을 학습할 수 있습니다. 하지만 신경망의 계산 비용이 많이 들고 원치않는 패턴을 학습할 수도 있습니다. 이런 표현은** 훈련 데이터의 성능을 향상시키지만 테스트 데이터에서는 그렇지 못합니다.** 이를 **과대적합(overfitting)**이라고 부릅니다. 후에 이에 대해 알아보겠습니다."
      ]
    },
    {
      "cell_type": "markdown",
      "metadata": {
        "id": "4tNkI316bBYY"
      },
      "source": [
        "### 모델 컴파일\n",
        "\n",
        "모델이 훈련하려면 손실 함수(loss function)과 옵티마이저(optimizer)가 필요합니다. 이번 예제는 **이진 분류 문제이고 모델이 확률을 출력하므로(출력층의 유닛이 하나이고 sigmoid 활성화 함수를 사용하므로)**, `binary_crossentropy` 손실 함수를 사용하겠습니다.\n",
        "\n",
        "다른 손실 함수를 선택할 수 없는 것은 아닙니다. 예를 들어 `mean_squared_error`를 선택할 수 있습니다. 하지만 일반적으로 `binary_crossentropy`가 확률을 다루는데 적합합니다. 이 함수는 확률 분포 간의 거리를 측정합니다. 여기에서는 정답인 타깃 분포와 예측 분포 사이의 거리입니다.\n",
        "\n",
        "나중에 회귀(regression)문제에 대해 살펴 볼 때 평균 제곱 오차(mean_squared error) 손실 함수를 어떻게 사용하는지 알아 보겠습니다.\n",
        "\n",
        "옵티마이저로는 Adam 알고리즘을 구현한 AdamOptimizer를 사용합니다. 경사하강법을 사용하는 GradientDescentOptimizer보다 성능이 좋다고 합니다.\n",
        "\n",
        "이제 모델이 사용할 옵티마이저와 손실 함수를 설정해보겠습니다."
      ]
    },
    {
      "cell_type": "code",
      "metadata": {
        "id": "hPlJCXH1brcd"
      },
      "source": [
        "model.compile(loss='binary_crossentropy',\n",
        "              optimizer='adam',\n",
        "              metrics=['accuracy'])"
      ],
      "execution_count": 13,
      "outputs": []
    },
    {
      "cell_type": "markdown",
      "metadata": {
        "id": "OoQdjkJ3cdoR"
      },
      "source": [
        "## 5. 검증 세트 만들기\n",
        "\n",
        "모델을 훈련할 때 모델이 만난 적 없는 데이터에서 정확도를 확인하는 것이 좋습니다. 원본 훈련 데이터에서 10,000개의 샘플을 떼어내어 검증 세트를 만들겠습니다."
      ]
    },
    {
      "cell_type": "code",
      "metadata": {
        "id": "bd2qcHHEwl4G"
      },
      "source": [
        "x_val = train_data[:10000]  # 0~9999, 검증 데이터(10,000개)\n",
        "partial_x_train = train_data[10000:] # 10000~24999, 훈련 데이터(15,000개)\n",
        "\n",
        "y_val = train_labels[:10000]  # 0~9999, 검증 데이터\n",
        "partial_y_train = train_labels[10000:]  # 10000~24999, 훈련 데이터"
      ],
      "execution_count": 14,
      "outputs": []
    },
    {
      "cell_type": "markdown",
      "metadata": {
        "id": "AteAilqmw6nP"
      },
      "source": [
        "## 6. 모델 훈련\n",
        "\n",
        "훈련 데이터셋(partial_x_train, partial_y_train)을 512개의 작은 미니배치(mini-batches)로 분할해 입력으로 사용합니다.\n",
        "\n",
        "512개씩 나누어 전체 훈련 데이터셋을 모델 학습에 사용하는 것을 40번 반복합니다.\n",
        "\n",
        "모델이 학습되는 동안 모델의 손실과 정확도를 계산하기 위해 검증 데이터셋(x_val, y_val)을 사용합니다."
      ]
    },
    {
      "cell_type": "code",
      "metadata": {
        "colab": {
          "base_uri": "https://localhost:8080/"
        },
        "id": "KN69q4iKxfTC",
        "outputId": "c5d960fb-ee07-4d4b-b8bf-9204a4e73248"
      },
      "source": [
        "history = model.fit(partial_x_train,\n",
        "                    partial_y_train,\n",
        "                    epochs=40,\n",
        "                    batch_size=512,\n",
        "                    validation_data=(x_val, y_val),\n",
        "                    verbose=1)"
      ],
      "execution_count": 15,
      "outputs": [
        {
          "output_type": "stream",
          "text": [
            "Epoch 1/40\n",
            "30/30 [==============================] - 4s 20ms/step - loss: 0.6922 - accuracy: 0.5881 - val_loss: 0.6909 - val_accuracy: 0.6423\n",
            "Epoch 2/40\n",
            "30/30 [==============================] - 0s 12ms/step - loss: 0.6883 - accuracy: 0.6553 - val_loss: 0.6854 - val_accuracy: 0.7279\n",
            "Epoch 3/40\n",
            "30/30 [==============================] - 0s 12ms/step - loss: 0.6795 - accuracy: 0.7462 - val_loss: 0.6738 - val_accuracy: 0.7365\n",
            "Epoch 4/40\n",
            "30/30 [==============================] - 0s 12ms/step - loss: 0.6625 - accuracy: 0.7604 - val_loss: 0.6538 - val_accuracy: 0.7538\n",
            "Epoch 5/40\n",
            "30/30 [==============================] - 0s 12ms/step - loss: 0.6357 - accuracy: 0.7789 - val_loss: 0.6248 - val_accuracy: 0.7674\n",
            "Epoch 6/40\n",
            "30/30 [==============================] - 0s 12ms/step - loss: 0.5999 - accuracy: 0.7937 - val_loss: 0.5888 - val_accuracy: 0.7883\n",
            "Epoch 7/40\n",
            "30/30 [==============================] - 0s 12ms/step - loss: 0.5579 - accuracy: 0.8142 - val_loss: 0.5491 - val_accuracy: 0.8009\n",
            "Epoch 8/40\n",
            "30/30 [==============================] - 0s 12ms/step - loss: 0.5146 - accuracy: 0.8277 - val_loss: 0.5101 - val_accuracy: 0.8140\n",
            "Epoch 9/40\n",
            "30/30 [==============================] - 0s 12ms/step - loss: 0.4715 - accuracy: 0.8441 - val_loss: 0.4732 - val_accuracy: 0.8314\n",
            "Epoch 10/40\n",
            "30/30 [==============================] - 0s 11ms/step - loss: 0.4319 - accuracy: 0.8587 - val_loss: 0.4403 - val_accuracy: 0.8413\n",
            "Epoch 11/40\n",
            "30/30 [==============================] - 0s 13ms/step - loss: 0.3969 - accuracy: 0.8684 - val_loss: 0.4124 - val_accuracy: 0.8487\n",
            "Epoch 12/40\n",
            "30/30 [==============================] - 0s 12ms/step - loss: 0.3666 - accuracy: 0.8792 - val_loss: 0.3885 - val_accuracy: 0.8545\n",
            "Epoch 13/40\n",
            "30/30 [==============================] - 0s 12ms/step - loss: 0.3397 - accuracy: 0.8859 - val_loss: 0.3687 - val_accuracy: 0.8615\n",
            "Epoch 14/40\n",
            "30/30 [==============================] - 0s 12ms/step - loss: 0.3171 - accuracy: 0.8935 - val_loss: 0.3533 - val_accuracy: 0.8637\n",
            "Epoch 15/40\n",
            "30/30 [==============================] - 0s 12ms/step - loss: 0.2979 - accuracy: 0.8989 - val_loss: 0.3400 - val_accuracy: 0.8705\n",
            "Epoch 16/40\n",
            "30/30 [==============================] - 0s 12ms/step - loss: 0.2809 - accuracy: 0.9028 - val_loss: 0.3304 - val_accuracy: 0.8688\n",
            "Epoch 17/40\n",
            "30/30 [==============================] - 0s 12ms/step - loss: 0.2659 - accuracy: 0.9069 - val_loss: 0.3212 - val_accuracy: 0.8743\n",
            "Epoch 18/40\n",
            "30/30 [==============================] - 0s 12ms/step - loss: 0.2523 - accuracy: 0.9122 - val_loss: 0.3147 - val_accuracy: 0.8761\n",
            "Epoch 19/40\n",
            "30/30 [==============================] - 0s 12ms/step - loss: 0.2402 - accuracy: 0.9169 - val_loss: 0.3080 - val_accuracy: 0.8793\n",
            "Epoch 20/40\n",
            "30/30 [==============================] - 0s 12ms/step - loss: 0.2286 - accuracy: 0.9207 - val_loss: 0.3026 - val_accuracy: 0.8792\n",
            "Epoch 21/40\n",
            "30/30 [==============================] - 0s 12ms/step - loss: 0.2187 - accuracy: 0.9242 - val_loss: 0.2992 - val_accuracy: 0.8809\n",
            "Epoch 22/40\n",
            "30/30 [==============================] - 0s 11ms/step - loss: 0.2091 - accuracy: 0.9265 - val_loss: 0.2950 - val_accuracy: 0.8817\n",
            "Epoch 23/40\n",
            "30/30 [==============================] - 0s 12ms/step - loss: 0.2000 - accuracy: 0.9308 - val_loss: 0.2923 - val_accuracy: 0.8828\n",
            "Epoch 24/40\n",
            "30/30 [==============================] - 0s 12ms/step - loss: 0.1918 - accuracy: 0.9349 - val_loss: 0.2901 - val_accuracy: 0.8840\n",
            "Epoch 25/40\n",
            "30/30 [==============================] - 0s 12ms/step - loss: 0.1839 - accuracy: 0.9381 - val_loss: 0.2892 - val_accuracy: 0.8838\n",
            "Epoch 26/40\n",
            "30/30 [==============================] - 0s 12ms/step - loss: 0.1766 - accuracy: 0.9421 - val_loss: 0.2884 - val_accuracy: 0.8841\n",
            "Epoch 27/40\n",
            "30/30 [==============================] - 0s 12ms/step - loss: 0.1699 - accuracy: 0.9453 - val_loss: 0.2899 - val_accuracy: 0.8815\n",
            "Epoch 28/40\n",
            "30/30 [==============================] - 0s 12ms/step - loss: 0.1640 - accuracy: 0.9475 - val_loss: 0.2865 - val_accuracy: 0.8852\n",
            "Epoch 29/40\n",
            "30/30 [==============================] - 0s 12ms/step - loss: 0.1568 - accuracy: 0.9502 - val_loss: 0.2862 - val_accuracy: 0.8858\n",
            "Epoch 30/40\n",
            "30/30 [==============================] - 0s 12ms/step - loss: 0.1509 - accuracy: 0.9533 - val_loss: 0.2868 - val_accuracy: 0.8857\n",
            "Epoch 31/40\n",
            "30/30 [==============================] - 0s 12ms/step - loss: 0.1457 - accuracy: 0.9551 - val_loss: 0.2874 - val_accuracy: 0.8855\n",
            "Epoch 32/40\n",
            "30/30 [==============================] - 0s 12ms/step - loss: 0.1402 - accuracy: 0.9571 - val_loss: 0.2893 - val_accuracy: 0.8837\n",
            "Epoch 33/40\n",
            "30/30 [==============================] - 0s 12ms/step - loss: 0.1346 - accuracy: 0.9599 - val_loss: 0.2892 - val_accuracy: 0.8854\n",
            "Epoch 34/40\n",
            "30/30 [==============================] - 0s 12ms/step - loss: 0.1303 - accuracy: 0.9617 - val_loss: 0.2909 - val_accuracy: 0.8850\n",
            "Epoch 35/40\n",
            "30/30 [==============================] - 0s 12ms/step - loss: 0.1250 - accuracy: 0.9637 - val_loss: 0.2922 - val_accuracy: 0.8857\n",
            "Epoch 36/40\n",
            "30/30 [==============================] - 0s 12ms/step - loss: 0.1203 - accuracy: 0.9653 - val_loss: 0.2941 - val_accuracy: 0.8861\n",
            "Epoch 37/40\n",
            "30/30 [==============================] - 0s 12ms/step - loss: 0.1162 - accuracy: 0.9673 - val_loss: 0.2959 - val_accuracy: 0.8851\n",
            "Epoch 38/40\n",
            "30/30 [==============================] - 0s 12ms/step - loss: 0.1119 - accuracy: 0.9687 - val_loss: 0.2981 - val_accuracy: 0.8849\n",
            "Epoch 39/40\n",
            "30/30 [==============================] - 0s 12ms/step - loss: 0.1080 - accuracy: 0.9693 - val_loss: 0.3012 - val_accuracy: 0.8854\n",
            "Epoch 40/40\n",
            "30/30 [==============================] - 0s 12ms/step - loss: 0.1046 - accuracy: 0.9710 - val_loss: 0.3031 - val_accuracy: 0.8834\n"
          ],
          "name": "stdout"
        }
      ]
    },
    {
      "cell_type": "markdown",
      "metadata": {
        "id": "qwRHgoHsyHmD"
      },
      "source": [
        "## 7. 모델 평가\n",
        "\n",
        "모델의 성능을 확인해봅시다. 손실과 정확도를 반환합니다."
      ]
    },
    {
      "cell_type": "code",
      "metadata": {
        "colab": {
          "base_uri": "https://localhost:8080/"
        },
        "id": "EIvJLJq9yOme",
        "outputId": "2e3a7e30-69ef-4f55-ec6c-1b80ba58f0ae"
      },
      "source": [
        "results = model.evaluate(test_data, test_labels, verbose=2)\n",
        "\n",
        "print(results)"
      ],
      "execution_count": 16,
      "outputs": [
        {
          "output_type": "stream",
          "text": [
            "782/782 - 1s - loss: 0.3221 - accuracy: 0.8733\n",
            "[0.3220793604850769, 0.8733199834823608]\n"
          ],
          "name": "stdout"
        }
      ]
    },
    {
      "cell_type": "markdown",
      "metadata": {
        "id": "EqZfGKNxyWeV"
      },
      "source": [
        "이번 예제는 매우 단순한 방식을 사용하므로 **87%의 정확도**를 달성했습니다. 좀 더 심층적인 방법을 사용하면 모델은 95%에 가까운 정확도를 얻습니다."
      ]
    },
    {
      "cell_type": "markdown",
      "metadata": {
        "id": "5qbAiU_byf6H"
      },
      "source": [
        "## 8. 정확도와 손실 그래프 그리기\n",
        "\n",
        "`model.fit()`은 `History` 객체를 반환합니다. `History`에는 훈련하는 동안 일어난 모든 정보가 담긴 딕셔너리가 들어있습니다."
      ]
    },
    {
      "cell_type": "code",
      "metadata": {
        "colab": {
          "base_uri": "https://localhost:8080/"
        },
        "id": "3UDZn6kay5jB",
        "outputId": "6f043fca-5cbf-4571-8df2-8d2872c412d4"
      },
      "source": [
        "history_dict = history.history\n",
        "history_dict.keys()"
      ],
      "execution_count": 17,
      "outputs": [
        {
          "output_type": "execute_result",
          "data": {
            "text/plain": [
              "dict_keys(['loss', 'accuracy', 'val_loss', 'val_accuracy'])"
            ]
          },
          "metadata": {
            "tags": []
          },
          "execution_count": 17
        }
      ]
    },
    {
      "cell_type": "markdown",
      "metadata": {
        "id": "PokFUK5LzCvo"
      },
      "source": [
        "네 개의 항목이 있습니다. 훈련과 검증 단계에서 모니터링하는 지표들입니다.\n",
        "\n",
        "훈련 손실과 검증 손실을 그래프로 그려 보고, 훈련 정확도와 검증 정확도 역시 그래프로 그려서 비교해 보겠습니다."
      ]
    },
    {
      "cell_type": "code",
      "metadata": {
        "colab": {
          "base_uri": "https://localhost:8080/",
          "height": 294
        },
        "id": "mtU-vvnHzLR9",
        "outputId": "d7895e25-1b57-441f-ba77-07cf1bd79370"
      },
      "source": [
        "import matplotlib.pyplot as plt\n",
        "\n",
        "acc = history_dict['accuracy']\n",
        "val_acc = history_dict['val_accuracy']\n",
        "loss = history_dict['loss']\n",
        "val_loss = history_dict['val_loss']\n",
        "\n",
        "epochs = range(1, len(acc) + 1)\n",
        "\n",
        "# 'bo'는 파란색 점입니다.\n",
        "plt.plot(epochs, loss, 'bo', label='Training loss')\n",
        "# 'b'는 파란 실선입니다.\n",
        "plt.plot(epochs, val_loss, 'b', label='Validation loss')\n",
        "plt.title('Training and validation loss')\n",
        "plt.xlabel('Epochs')\n",
        "plt.ylabel('Loss')\n",
        "plt.legend()  # 범례를 나타낸다.\n",
        "\n",
        "plt.show()"
      ],
      "execution_count": 19,
      "outputs": [
        {
          "output_type": "display_data",
          "data": {
            "image/png": "[encoded data removed]",
            "text/plain": [
              "<Figure size 432x288 with 1 Axes>"
            ]
          },
          "metadata": {
            "tags": [],
            "needs_background": "light"
          }
        }
      ]
    },
    {
      "cell_type": "code",
      "metadata": {
        "colab": {
          "base_uri": "https://localhost:8080/",
          "height": 294
        },
        "id": "ATE1cSjR0HII",
        "outputId": "b4545229-16a3-4307-d212-6a3466875a15"
      },
      "source": [
        "plt.clf()  # 그림 초기화\n",
        "\n",
        "plt.plot(epochs, acc, 'bo', label='Training acc')\n",
        "plt.plot(epochs, val_acc, 'b', label='Validation acc')\n",
        "plt.title('Training and validation accuracy')\n",
        "plt.xlabel('Epochs')\n",
        "plt.ylabel('Accuracy')\n",
        "plt.legend()  # 범례를 나타낸다.\n",
        "\n",
        "plt.show()"
      ],
      "execution_count": 20,
      "outputs": [
        {
          "output_type": "display_data",
          "data": {
            "image/png": "[encoded data removed]",
            "text/plain": [
              "<Figure size 432x288 with 1 Axes>"
            ]
          },
          "metadata": {
            "tags": [],
            "needs_background": "light"
          }
        }
      ]
    },
    {
      "cell_type": "markdown",
      "metadata": {
        "id": "hSGyREjb0k9D"
      },
      "source": [
        "훈련 손실은 에포크마다 감소하고, 훈련 정확도는 증가합니다. 경사 하강법 최적화를 사용할 때 볼 수 있는 현상입니다. 매 반복마다 최적화 대상의 값을 최소화합니다.\n",
        "\n",
        "하지만 검증 손실과 검증 정확도에서는 약 20번째 에포크 이후에는 변화가 없습니다. 이렇듯 훈련 데이터셋을 입력으로 사용했을 때보다 검증 데이터셋을 입력으로 사용했을 때 결과가 좋지 못한 것을 오버피팅(overfitting)이라고 합니다.\n",
        "\n",
        "훈련용 데이터셋에 최적화되어 있어서 새로운 데이터셋을 입력으로 사용시 모델의 성능이 떨어지는 것입니다."
      ]
    },
    {
      "cell_type": "markdown",
      "metadata": {
        "id": "myqQW6cX2TjH"
      },
      "source": [
        "## 9. 예측하기\n",
        "\n",
        "학습된 모델에 테스트 데이터셋을 입력으로 사용하여 예측해봅시다.\n",
        "\n",
        "예측된 값 중 10개만 출력해보았습니다. 첫 번째 줄은 신경망의 출력이고, 두 번째 줄은 어느 클래스에 속하는지 판정한 결과입니다."
      ]
    },
    {
      "cell_type": "code",
      "metadata": {
        "colab": {
          "base_uri": "https://localhost:8080/"
        },
        "id": "TXNTddVJ2Ye5",
        "outputId": "53333c17-4465-431c-9e83-e117f8a81f9b"
      },
      "source": [
        "predictions = model.predict(test_data)\n",
        "print(predictions[0:10].T)\n",
        "\n",
        "predict_class=model.predict_classes(test_data)\n",
        "print(predict_class[0:10].T)"
      ],
      "execution_count": 21,
      "outputs": [
        {
          "output_type": "stream",
          "text": [
            "[[0.0860334  0.9991033  0.72272635 0.66176194 0.9946713  0.90922195\n",
            "  0.9499976  0.02515864 0.96619487 0.9991184 ]]\n"
          ],
          "name": "stdout"
        },
        {
          "output_type": "stream",
          "text": [
            "/usr/local/lib/python3.7/dist-packages/tensorflow/python/keras/engine/sequential.py:455: UserWarning: `model.predict_classes()` is deprecated and will be removed after 2021-01-01. Please use instead:* `np.argmax(model.predict(x), axis=-1)`,   if your model does multi-class classification   (e.g. if it uses a `softmax` last-layer activation).* `(model.predict(x) > 0.5).astype(\"int32\")`,   if your model does binary classification   (e.g. if it uses a `sigmoid` last-layer activation).\n",
            "  warnings.warn('`model.predict_classes()` is deprecated and '\n"
          ],
          "name": "stderr"
        },
        {
          "output_type": "stream",
          "text": [
            "[[0 1 1 1 1 1 1 0 1 1]]\n"
          ],
          "name": "stdout"
        }
      ]
    }
  ]
}