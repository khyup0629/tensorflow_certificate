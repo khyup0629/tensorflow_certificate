{
  "nbformat": 4,
  "nbformat_minor": 0,
  "metadata": {
    "colab": {
      "name": "텐서플로우 튜토리얼 #1 - 기본 설정하기",
      "provenance": [],
      "collapsed_sections": []
    },
    "kernelspec": {
      "name": "python3",
      "display_name": "Python 3"
    },
    "language_info": {
      "name": "python"
    },
    "accelerator": "GPU"
  },
  "cells": [
    {
      "cell_type": "markdown",
      "metadata": {
        "id": "iHHdS_G22u33"
      },
      "source": [
        "# **텐서플로우 튜토리얼 - 기본 설정하기**\n",
        "\n",
        "\n",
        "---\n",
        "\n",
        "\n",
        "https://www.tensorflow.org/tutorials/quickstart/beginner\n",
        "\n",
        "위의 사이트에서 '구글 코랩에서 실행하기'를 클릭한다.\n",
        "\n",
        "(코랩에서 코딩을 하는 이유는 딥러닝을 할 때 CPU와 GPU를 사용하는 것에는 큰 차이가 있는데, 코랩에서 GPU를 지원해주기 때문이다)\n",
        "\n",
        "상단 탭 메뉴에서 **[수정]-[노트 설정]**으로 들어가면 하드웨어 가속기가 None으로 설정되어 있는데 이를 GPU로 바꿔주고 저장한다.\n",
        "\n",
        "우측 상단 톱니바퀴 버튼을 누르면 테마를 지정할 수 있다.\n",
        "우측 상단 톱니바퀴에서 편집기 탭의 들여쓰기를 '4'로 설정하고 저장한다.\n",
        "\n",
        "\n",
        "---\n",
        "\n",
        "\n",
        "구글 코랩의 텐서플로우 버전을 알아보자. 아래의 코드를 입력한다."
      ]
    },
    {
      "cell_type": "code",
      "metadata": {
        "id": "9swUinv72BmO"
      },
      "source": [
        "import tensorflow"
      ],
      "execution_count": 1,
      "outputs": []
    },
    {
      "cell_type": "code",
      "metadata": {
        "colab": {
          "base_uri": "https://localhost:8080/",
          "height": 35
        },
        "id": "GSGlEhWy2SmK",
        "outputId": "3428d842-2c8c-4def-ac5b-61fedabaf8f7"
      },
      "source": [
        "tensorflow.__version__"
      ],
      "execution_count": 2,
      "outputs": [
        {
          "output_type": "execute_result",
          "data": {
            "application/vnd.google.colaboratory.intrinsic+json": {
              "type": "string"
            },
            "text/plain": [
              "'2.5.0'"
            ]
          },
          "metadata": {
            "tags": []
          },
          "execution_count": 2
        }
      ]
    },
    {
      "cell_type": "markdown",
      "metadata": {
        "id": "PL5sHRWA5LrW"
      },
      "source": [
        "\n",
        "\n",
        "---\n",
        "\n",
        "\n",
        "alias(별칭)을 붙여줄 수 있다.\n",
        "\n",
        "tensorflow를 tf로 호출하도록 해보자."
      ]
    },
    {
      "cell_type": "code",
      "metadata": {
        "id": "r5BGyDpy4vOw"
      },
      "source": [
        "import tensorflow as tf"
      ],
      "execution_count": 3,
      "outputs": []
    },
    {
      "cell_type": "code",
      "metadata": {
        "colab": {
          "base_uri": "https://localhost:8080/",
          "height": 35
        },
        "id": "H6Alk_Gl4yug",
        "outputId": "0a83d402-87b1-4320-ef4c-90df1ac8fed0"
      },
      "source": [
        "tf.__version__"
      ],
      "execution_count": 4,
      "outputs": [
        {
          "output_type": "execute_result",
          "data": {
            "application/vnd.google.colaboratory.intrinsic+json": {
              "type": "string"
            },
            "text/plain": [
              "'2.5.0'"
            ]
          },
          "metadata": {
            "tags": []
          },
          "execution_count": 4
        }
      ]
    }
  ]
}