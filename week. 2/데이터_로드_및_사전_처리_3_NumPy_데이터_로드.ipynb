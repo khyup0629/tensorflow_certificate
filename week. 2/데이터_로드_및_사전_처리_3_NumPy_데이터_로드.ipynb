{
  "nbformat": 4,
  "nbformat_minor": 0,
  "metadata": {
    "colab": {
      "name": "데이터 로드 및 사전 처리 #3 - NumPy 데이터 로드",
      "provenance": [],
      "collapsed_sections": []
    },
    "kernelspec": {
      "name": "python3",
      "display_name": "Python 3"
    },
    "language_info": {
      "name": "python"
    },
    "accelerator": "GPU"
  },
  "cells": [
    {
      "cell_type": "markdown",
      "metadata": {
        "id": "zi4hNbNNT-MU"
      },
      "source": [
        "# NumPy 데이터 로드\n",
        "\n",
        "이번 튜토리얼에서는 NumPy 배열로부터 `tf.data.Dataset`으로 데이터를 로드하는 예제를 제공합니다.\n",
        "\n",
        "`.npz` 파일로부터 MNIST 데이터세트를 로드합니다. "
      ]
    },
    {
      "cell_type": "markdown",
      "metadata": {
        "id": "RhqqT1BRU3n_"
      },
      "source": [
        "## 1. 설정"
      ]
    },
    {
      "cell_type": "code",
      "metadata": {
        "id": "mkgI80h9TzPm"
      },
      "source": [
        "import numpy as np\n",
        "import tensorflow as tf"
      ],
      "execution_count": 1,
      "outputs": []
    },
    {
      "cell_type": "markdown",
      "metadata": {
        "id": "dSquMiClU8vo"
      },
      "source": [
        "### .npz 파일에서 로드하기"
      ]
    },
    {
      "cell_type": "code",
      "metadata": {
        "id": "YnFSVgVGU-S6"
      },
      "source": [
        "DATA_URL = 'https://storage.googleapis.com/tensorflow/tf-keras-datasets/mnist.npz'\n",
        "\n",
        "path = tf.keras.utils.get_file('mnist.npz', DATA_URL)\n",
        "with np.load(path) as data:\n",
        "    train_examples = data['x_train']\n",
        "    train_labels = data['y_train']\n",
        "    test_examples = data['x_test']\n",
        "    test_labels = data['y_test']"
      ],
      "execution_count": 2,
      "outputs": []
    },
    {
      "cell_type": "markdown",
      "metadata": {
        "id": "L5RAVMWKVirf"
      },
      "source": [
        "## 2. tf.data.Dataset를 사용하여 NumPy 배열 로드하기\n",
        "\n",
        " 위에서 example과 label의 배열을 뽑아냈습니다. 이 둘을 튜플로 만들어서 `tf.data.Dataset.from_tensor_slices`에 넣으면 `tf.data.Dataset`을 생성할 수 있습니다."
      ]
    },
    {
      "cell_type": "code",
      "metadata": {
        "id": "rJuo7rSEVHco"
      },
      "source": [
        "train_dataset = tf.data.Dataset.from_tensor_slices((train_examples, train_labels))\n",
        "test_dataset = tf.data.Dataset.from_tensor_slices((test_examples, test_labels))"
      ],
      "execution_count": 3,
      "outputs": []
    },
    {
      "cell_type": "markdown",
      "metadata": {
        "id": "f0Jipwd-Wk0n"
      },
      "source": [
        "## 3. 데이터세트 사용하기"
      ]
    },
    {
      "cell_type": "markdown",
      "metadata": {
        "id": "R9vwDDeKWpNv"
      },
      "source": [
        "### 데이터세트 셔플 및 배치"
      ]
    },
    {
      "cell_type": "code",
      "metadata": {
        "id": "XyFPXwoxWnOv"
      },
      "source": [
        "BATCH_SIZE = 64\n",
        "SHUFFLE_BUFFER_SIZE = 100\n",
        "# 훈련 세트는 셔플 및 배치, 테스트 세트는 배치만\n",
        "train_dataset = train_dataset.shuffle(SHUFFLE_BUFFER_SIZE).batch(BATCH_SIZE)\n",
        "test_dataset = test_dataset.batch(BATCH_SIZE)"
      ],
      "execution_count": 4,
      "outputs": []
    },
    {
      "cell_type": "markdown",
      "metadata": {
        "id": "y53a8GbGXOqg"
      },
      "source": [
        "### 모델 빌드 및 훈련"
      ]
    },
    {
      "cell_type": "code",
      "metadata": {
        "id": "x5L3zHJ6XSEn"
      },
      "source": [
        "model = tf.keras.Sequential([\n",
        "                             tf.keras.layers.Flatten(input_shape=(28, 28)),\n",
        "                             tf.keras.layers.Dense(128, activation='relu'),\n",
        "                             tf.keras.layers.Dense(10)\n",
        "])\n",
        "\n",
        "model.compile(loss = tf.losses.SparseCategoricalCrossentropy(from_logits=True),\n",
        "              optimizer=tf.keras.optimizers.RMSprop(),\n",
        "              metrics=['accuracy'])"
      ],
      "execution_count": 5,
      "outputs": []
    },
    {
      "cell_type": "code",
      "metadata": {
        "colab": {
          "base_uri": "https://localhost:8080/"
        },
        "id": "Lw3oj88YX9kD",
        "outputId": "0bde2fa0-d5d8-4421-d7f4-f02fbfa9c7ee"
      },
      "source": [
        "model.fit(train_dataset, epochs=10)"
      ],
      "execution_count": 6,
      "outputs": [
        {
          "output_type": "stream",
          "text": [
            "Epoch 1/10\n",
            "938/938 [==============================] - 7s 4ms/step - loss: 3.0252 - accuracy: 0.8738\n",
            "Epoch 2/10\n",
            "938/938 [==============================] - 4s 4ms/step - loss: 0.4938 - accuracy: 0.9286\n",
            "Epoch 3/10\n",
            "938/938 [==============================] - 2s 2ms/step - loss: 0.3630 - accuracy: 0.9470\n",
            "Epoch 4/10\n",
            "938/938 [==============================] - 2s 2ms/step - loss: 0.3060 - accuracy: 0.9561\n",
            "Epoch 5/10\n",
            "938/938 [==============================] - 2s 2ms/step - loss: 0.2682 - accuracy: 0.9621\n",
            "Epoch 6/10\n",
            "938/938 [==============================] - 2s 2ms/step - loss: 0.2544 - accuracy: 0.9670\n",
            "Epoch 7/10\n",
            "938/938 [==============================] - 2s 2ms/step - loss: 0.2271 - accuracy: 0.9707\n",
            "Epoch 8/10\n",
            "938/938 [==============================] - 2s 2ms/step - loss: 0.2160 - accuracy: 0.9718\n",
            "Epoch 9/10\n",
            "938/938 [==============================] - 2s 2ms/step - loss: 0.2085 - accuracy: 0.9737\n",
            "Epoch 10/10\n",
            "938/938 [==============================] - 2s 2ms/step - loss: 0.1934 - accuracy: 0.9756\n"
          ],
          "name": "stdout"
        },
        {
          "output_type": "execute_result",
          "data": {
            "text/plain": [
              "<tensorflow.python.keras.callbacks.History at 0x7f47fc3344d0>"
            ]
          },
          "metadata": {
            "tags": []
          },
          "execution_count": 6
        }
      ]
    },
    {
      "cell_type": "code",
      "metadata": {
        "colab": {
          "base_uri": "https://localhost:8080/"
        },
        "id": "U7lO8pDhX_xk",
        "outputId": "e5f547cc-60b8-4769-8b43-e291f4b1548f"
      },
      "source": [
        "model.evaluate(test_dataset)"
      ],
      "execution_count": 7,
      "outputs": [
        {
          "output_type": "stream",
          "text": [
            "157/157 [==============================] - 0s 2ms/step - loss: 0.6421 - accuracy: 0.9599\n"
          ],
          "name": "stdout"
        },
        {
          "output_type": "execute_result",
          "data": {
            "text/plain": [
              "[0.642145037651062, 0.9599000215530396]"
            ]
          },
          "metadata": {
            "tags": []
          },
          "execution_count": 7
        }
      ]
    }
  ]
}