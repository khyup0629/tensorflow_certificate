{
  "nbformat": 4,
  "nbformat_minor": 0,
  "metadata": {
    "colab": {
      "name": "데이터 로드 및 사전 처리 #6 - 유니코드 문자열",
      "provenance": [],
      "collapsed_sections": []
    },
    "kernelspec": {
      "name": "python3",
      "display_name": "Python 3"
    },
    "language_info": {
      "name": "python"
    },
    "accelerator": "GPU"
  },
  "cells": [
    {
      "cell_type": "markdown",
      "metadata": {
        "id": "uJUFNoyQ8sMu"
      },
      "source": [
        "# 유니코드 문자열\n",
        "\n",
        "자연어 처리 모델(NLP models)는 종종 다른 문자들의 세트로 이루어진 다양한 언어를 다루게 됩니다. 유니코드는 표준 인코딩 시스템으로, 거의 모든 언어의 문자들을 나타내는데 사용됩니다.\n",
        "\n",
        "모든 유니코드 문자는 고유의 정수 code point(0~0x10FFFF)로 인코딩됩니다. 유니코드 문자열은 0 또는 코드 포인트들의 시퀀스입니다.\n",
        "\n",
        "이번 튜토리얼에서는 텐서플로우에서 어떻게 유니코드 문자열을 나타내는지 보여주고, 표준 문자열과 대응시켜주는 유니코드 대응기(Unicode Equivalent)를 이용해 유니코드 문자열을 어떻게 조작하는지 보여줍니다. 유니코드 문자열을 토큰으로 분리시키는 방법을 이용합니다."
      ]
    },
    {
      "cell_type": "code",
      "metadata": {
        "id": "Xd7G4nwT8fi8"
      },
      "source": [
        "import tensorflow as tf\n",
        "import numpy as np"
      ],
      "execution_count": 1,
      "outputs": []
    },
    {
      "cell_type": "markdown",
      "metadata": {
        "id": "5wd25ei8_Gtv"
      },
      "source": [
        "## 1. `tf.string` 데이터 타입\n",
        "\n",
        "텐서플로의 기본 `tf.string` 데이터 타입(dtype)은 byte string로 이루어진 텐서를 만듭니다. 유니코드 문자열은 기본적으로 utf-8로 인코딩 됩니다."
      ]
    },
    {
      "cell_type": "code",
      "metadata": {
        "colab": {
          "base_uri": "https://localhost:8080/"
        },
        "id": "ZfkhMjnY_GA6",
        "outputId": "3c10e277-ccdc-42a9-e37c-548ab50e4320"
      },
      "source": [
        "tf.constant(u\"Thanks 😊\")"
      ],
      "execution_count": 2,
      "outputs": [
        {
          "output_type": "execute_result",
          "data": {
            "text/plain": [
              "<tf.Tensor: shape=(), dtype=string, numpy=b'Thanks \\xf0\\x9f\\x98\\x8a'>"
            ]
          },
          "metadata": {
            "tags": []
          },
          "execution_count": 2
        }
      ]
    },
    {
      "cell_type": "markdown",
      "metadata": {
        "id": "xjTv5ct9BM-Q"
      },
      "source": [
        "`tf.string` 텐서는 byte string을 최소 단위로 다루기 때문에 다양한 길이의 byte string을 저장할 수 있습니다.\n",
        "\n",
        "문자열의 길이는 텐서 차원(dimensions)에 포함되지 않습니다."
      ]
    },
    {
      "cell_type": "code",
      "metadata": {
        "colab": {
          "base_uri": "https://localhost:8080/"
        },
        "id": "261EyjGyBogP",
        "outputId": "a9213e97-5691-444b-d352-d012e64f63b0"
      },
      "source": [
        "tf.constant([u\"You're\", u\"welcome!\"]).shape"
      ],
      "execution_count": 3,
      "outputs": [
        {
          "output_type": "execute_result",
          "data": {
            "text/plain": [
              "TensorShape([2])"
            ]
          },
          "metadata": {
            "tags": []
          },
          "execution_count": 3
        }
      ]
    },
    {
      "cell_type": "markdown",
      "metadata": {
        "id": "cz8NicRZB0eC"
      },
      "source": [
        "Note : 파이썬을 사용해 문자열을 만들 때 버전 2와 버전 3에서 유니코드를 다루는 방식이 다릅니다. 버전 2에서는 위와 같이 \"u\"접두사를 사용하여 유니코드 문자열을 나타냅니다. 버전 3에서는 유니코드 인코딩된 문자열이 기본값입니다."
      ]
    },
    {
      "cell_type": "markdown",
      "metadata": {
        "id": "07E33y0rCq7B"
      },
      "source": [
        "## 2. 유니코드 표현\n",
        "\n",
        "텐서플로에서는 유니코드 문자열을 표현하기 위한 두 가지 방법이 있습니다.\n",
        "+ `string` scalar - code point 시퀀스가 이미 알려진 문자 인코딩법을 사용해 인코딩됩니다.\n",
        "+ `int32` vector - 각 위치가 하나의 code point를 가집니다.\n",
        "\n",
        "예를 들어, 아래의 세 가지 값이 유니코드 문자열인 \"语言处理\"을 나타냅니다."
      ]
    },
    {
      "cell_type": "code",
      "metadata": {
        "colab": {
          "base_uri": "https://localhost:8080/"
        },
        "id": "wXn-pt7KDvdM",
        "outputId": "a155a331-e185-43fb-bf6b-d16be8339162"
      },
      "source": [
        "# string scalar 방법으로 인코딩된 UTF-8\n",
        "text_utf8 = tf.constant(u\"语言处理\")\n",
        "text_utf8"
      ],
      "execution_count": 4,
      "outputs": [
        {
          "output_type": "execute_result",
          "data": {
            "text/plain": [
              "<tf.Tensor: shape=(), dtype=string, numpy=b'\\xe8\\xaf\\xad\\xe8\\xa8\\x80\\xe5\\xa4\\x84\\xe7\\x90\\x86'>"
            ]
          },
          "metadata": {
            "tags": []
          },
          "execution_count": 4
        }
      ]
    },
    {
      "cell_type": "code",
      "metadata": {
        "colab": {
          "base_uri": "https://localhost:8080/"
        },
        "id": "9bowPpmEDz9S",
        "outputId": "d70dc989-5e84-4896-f65c-8361d6e5edf8"
      },
      "source": [
        "# string scalar 방법으로 인코딩된 UTF-16-BE\n",
        "text_utf16be = tf.constant(u\"语言处理\".encode(\"UTF-16-BE\"))\n",
        "text_utf16be"
      ],
      "execution_count": 5,
      "outputs": [
        {
          "output_type": "execute_result",
          "data": {
            "text/plain": [
              "<tf.Tensor: shape=(), dtype=string, numpy=b'\\x8b\\xed\\x8a\\x00Y\\x04t\\x06'>"
            ]
          },
          "metadata": {
            "tags": []
          },
          "execution_count": 5
        }
      ]
    },
    {
      "cell_type": "code",
      "metadata": {
        "colab": {
          "base_uri": "https://localhost:8080/"
        },
        "id": "N_wBRsRzEQ3R",
        "outputId": "ce5d2f34-a0f3-461d-851c-72a17491c3d6"
      },
      "source": [
        "# int32 vector 방법으로 인코딩된 유니코드 코드 포인트 벡터\n",
        "text_chars = tf.constant([ord(char) for char in u\"语言处理\"])\n",
        "text_chars"
      ],
      "execution_count": 6,
      "outputs": [
        {
          "output_type": "execute_result",
          "data": {
            "text/plain": [
              "<tf.Tensor: shape=(4,), dtype=int32, numpy=array([35821, 35328, 22788, 29702], dtype=int32)>"
            ]
          },
          "metadata": {
            "tags": []
          },
          "execution_count": 6
        }
      ]
    },
    {
      "cell_type": "markdown",
      "metadata": {
        "id": "fsxZqUE2Ee_H"
      },
      "source": [
        "### 하나의 유니코드 표현법에서 다른 표현법으로 변환하기\n",
        "\n",
        "+ `tf.strings.unicode_decode`: string scalar를 vector code point로 바꿉니다.\n",
        "+ `tf.strings.unicode_encode`: vector code point를 string scalar로 바꿉니다.\n",
        "+ `tf.strings.unicode_transcode`: string scalar를 다른 string scalar로 바꿉니다."
      ]
    },
    {
      "cell_type": "code",
      "metadata": {
        "colab": {
          "base_uri": "https://localhost:8080/"
        },
        "id": "-NQ21pPlFNpZ",
        "outputId": "d3b24b16-4904-406e-8ab9-c10b6ed56623"
      },
      "source": [
        "tf.strings.unicode_decode(text_utf8, input_encoding='UTF-8')"
      ],
      "execution_count": 7,
      "outputs": [
        {
          "output_type": "execute_result",
          "data": {
            "text/plain": [
              "<tf.Tensor: shape=(4,), dtype=int32, numpy=array([35821, 35328, 22788, 29702], dtype=int32)>"
            ]
          },
          "metadata": {
            "tags": []
          },
          "execution_count": 7
        }
      ]
    },
    {
      "cell_type": "code",
      "metadata": {
        "colab": {
          "base_uri": "https://localhost:8080/"
        },
        "id": "h25YTzoKFSoI",
        "outputId": "25f4a2cb-9041-444a-90c3-3ecca93ed9f1"
      },
      "source": [
        "tf.strings.unicode_encode(text_chars, output_encoding='UTF-8')"
      ],
      "execution_count": 8,
      "outputs": [
        {
          "output_type": "execute_result",
          "data": {
            "text/plain": [
              "<tf.Tensor: shape=(), dtype=string, numpy=b'\\xe8\\xaf\\xad\\xe8\\xa8\\x80\\xe5\\xa4\\x84\\xe7\\x90\\x86'>"
            ]
          },
          "metadata": {
            "tags": []
          },
          "execution_count": 8
        }
      ]
    },
    {
      "cell_type": "code",
      "metadata": {
        "colab": {
          "base_uri": "https://localhost:8080/"
        },
        "id": "_nkpcpyxFauK",
        "outputId": "677b492a-5de3-45c0-96ed-54a6edf27f6c"
      },
      "source": [
        "tf.strings.unicode_transcode(text_utf8, input_encoding='UTF8', output_encoding='UTF-16-BE')"
      ],
      "execution_count": 9,
      "outputs": [
        {
          "output_type": "execute_result",
          "data": {
            "text/plain": [
              "<tf.Tensor: shape=(), dtype=string, numpy=b'\\x8b\\xed\\x8a\\x00Y\\x04t\\x06'>"
            ]
          },
          "metadata": {
            "tags": []
          },
          "execution_count": 9
        }
      ]
    },
    {
      "cell_type": "markdown",
      "metadata": {
        "id": "9UtvTstjFj1c"
      },
      "source": [
        "### 차원을 배치시키기\n",
        "\n",
        "여러 문자열을 디코딩할 때 각 문자열의 문자의 개수가 같지 않을 것입니다. 이러한 결괏값을 `tf.RaggedTensor`라고 합니다."
      ]
    },
    {
      "cell_type": "code",
      "metadata": {
        "colab": {
          "base_uri": "https://localhost:8080/"
        },
        "id": "uj8NgXTWGop3",
        "outputId": "405d1224-ed53-455d-e981-7731ec45f3ef"
      },
      "source": [
        "batch_utf8 = [s.encode('UTF-8') for s in\n",
        "              [u'hÃllo', u'What is the weather tomorrow', u'Göödnight', u'😊']]\n",
        "batch_chars_ragged = tf.strings.unicode_decode(batch_utf8, input_encoding='UTF-8')\n",
        "for sentence_chars in batch_chars_ragged.to_list():\n",
        "    print(sentence_chars)"
      ],
      "execution_count": 10,
      "outputs": [
        {
          "output_type": "stream",
          "text": [
            "[104, 195, 108, 108, 111]\n",
            "[87, 104, 97, 116, 32, 105, 115, 32, 116, 104, 101, 32, 119, 101, 97, 116, 104, 101, 114, 32, 116, 111, 109, 111, 114, 114, 111, 119]\n",
            "[71, 246, 246, 100, 110, 105, 103, 104, 116]\n",
            "[128522]\n"
          ],
          "name": "stdout"
        }
      ]
    },
    {
      "cell_type": "markdown",
      "metadata": {
        "id": "gIovwC2uHBAr"
      },
      "source": [
        "이러한 `tf.RaggedTensor`를 바로 사용할 수도 있고, 패딩을 거친 `tf.Tensor`로 변환하거나 `tf.SparseTensor`로 변환할 수 있습니다. 각각으로 변환할 때는 `tf.RaggedTensor.to_tensor`와 `tf.RaggedTensor.to_sparse`를 이용합니다."
      ]
    },
    {
      "cell_type": "code",
      "metadata": {
        "colab": {
          "base_uri": "https://localhost:8080/"
        },
        "id": "mEbnwgyiHpX_",
        "outputId": "146d50e3-c5c2-4151-ef45-ff4af966e2d3"
      },
      "source": [
        "batch_chars_padded = batch_chars_ragged.to_tensor(default_value=-1)\n",
        "print(batch_chars_padded.numpy())"
      ],
      "execution_count": 11,
      "outputs": [
        {
          "output_type": "stream",
          "text": [
            "[[   104    195    108    108    111     -1     -1     -1     -1     -1\n",
            "      -1     -1     -1     -1     -1     -1     -1     -1     -1     -1\n",
            "      -1     -1     -1     -1     -1     -1     -1     -1]\n",
            " [    87    104     97    116     32    105    115     32    116    104\n",
            "     101     32    119    101     97    116    104    101    114     32\n",
            "     116    111    109    111    114    114    111    119]\n",
            " [    71    246    246    100    110    105    103    104    116     -1\n",
            "      -1     -1     -1     -1     -1     -1     -1     -1     -1     -1\n",
            "      -1     -1     -1     -1     -1     -1     -1     -1]\n",
            " [128522     -1     -1     -1     -1     -1     -1     -1     -1     -1\n",
            "      -1     -1     -1     -1     -1     -1     -1     -1     -1     -1\n",
            "      -1     -1     -1     -1     -1     -1     -1     -1]]\n"
          ],
          "name": "stdout"
        }
      ]
    },
    {
      "cell_type": "code",
      "metadata": {
        "colab": {
          "base_uri": "https://localhost:8080/"
        },
        "id": "KHO0rYGPH1uO",
        "outputId": "f4d3709b-b8a9-4904-9b13-da1243816f99"
      },
      "source": [
        "batch_chars_sparse = batch_chars_ragged.to_sparse()\n",
        "\n",
        "nrows, ncols = batch_chars_sparse.dense_shape.numpy()\n",
        "elements = [['_' for i in range(ncols)] for j in range(nrows)]\n",
        "for (row, col), value in zip(batch_chars_sparse.indices.numpy(), batch_chars_sparse.values.numpy()):\n",
        "    elements[row][col] = str(value)\n",
        "value_lengths = []\n",
        "for row in elements:\n",
        "    for value in row:\n",
        "        value_lengths.append(len(value))\n",
        "max_width = max(value_lengths)\n",
        "print('[%s]' % '\\n '.join(\n",
        "    '[%s]' % ', '.join(value.rjust(max_width) for value in row)\n",
        "    for row in elements\n",
        "))\n"
      ],
      "execution_count": 12,
      "outputs": [
        {
          "output_type": "stream",
          "text": [
            "[[   104,    195,    108,    108,    111,      _,      _,      _,      _,      _,      _,      _,      _,      _,      _,      _,      _,      _,      _,      _,      _,      _,      _,      _,      _,      _,      _,      _]\n",
            " [    87,    104,     97,    116,     32,    105,    115,     32,    116,    104,    101,     32,    119,    101,     97,    116,    104,    101,    114,     32,    116,    111,    109,    111,    114,    114,    111,    119]\n",
            " [    71,    246,    246,    100,    110,    105,    103,    104,    116,      _,      _,      _,      _,      _,      _,      _,      _,      _,      _,      _,      _,      _,      _,      _,      _,      _,      _,      _]\n",
            " [128522,      _,      _,      _,      _,      _,      _,      _,      _,      _,      _,      _,      _,      _,      _,      _,      _,      _,      _,      _,      _,      _,      _,      _,      _,      _,      _,      _]]\n"
          ],
          "name": "stdout"
        }
      ]
    },
    {
      "cell_type": "markdown",
      "metadata": {
        "id": "K1lShJZqEyGC"
      },
      "source": [
        "같은 길이의 여러 문자열을 인코딩할 때 `tf.Tensor`를 인풋으로 이용합니다."
      ]
    },
    {
      "cell_type": "code",
      "metadata": {
        "colab": {
          "base_uri": "https://localhost:8080/"
        },
        "id": "dHnJMwfiE66O",
        "outputId": "b113a697-3447-4892-c029-b2b1811696d1"
      },
      "source": [
        "tf.strings.unicode_encode([[99, 97, 116], [100, 111, 103], [99, 111, 119]],\n",
        "                          output_encoding='UTF-8')"
      ],
      "execution_count": 13,
      "outputs": [
        {
          "output_type": "execute_result",
          "data": {
            "text/plain": [
              "<tf.Tensor: shape=(3,), dtype=string, numpy=array([b'cat', b'dog', b'cow'], dtype=object)>"
            ]
          },
          "metadata": {
            "tags": []
          },
          "execution_count": 13
        }
      ]
    },
    {
      "cell_type": "markdown",
      "metadata": {
        "id": "oSdHaaI5FM4n"
      },
      "source": [
        "다른 길이의 여러 문자열을 인코딩할 때는 `tf.RaggedTensor`를 input으로 이용합니다."
      ]
    },
    {
      "cell_type": "code",
      "metadata": {
        "colab": {
          "base_uri": "https://localhost:8080/"
        },
        "id": "iEJzD34bFZC3",
        "outputId": "a3de98e4-bef9-4056-afa4-a0a17f6031af"
      },
      "source": [
        "tf.strings.unicode_encode(batch_chars_ragged, output_encoding='UTF-8')"
      ],
      "execution_count": 14,
      "outputs": [
        {
          "output_type": "execute_result",
          "data": {
            "text/plain": [
              "<tf.Tensor: shape=(4,), dtype=string, numpy=\n",
              "array([b'h\\xc3\\x83llo', b'What is the weather tomorrow',\n",
              "       b'G\\xc3\\xb6\\xc3\\xb6dnight', b'\\xf0\\x9f\\x98\\x8a'], dtype=object)>"
            ]
          },
          "metadata": {
            "tags": []
          },
          "execution_count": 14
        }
      ]
    },
    {
      "cell_type": "markdown",
      "metadata": {
        "id": "4qROjxUGF4iL"
      },
      "source": [
        "만약 여러 문자열이 스페어스(sparse)되었거나 패딩(padding)된 포맷이라면 먼저 `tf.RaggedTensor`로 변환합니다."
      ]
    },
    {
      "cell_type": "code",
      "metadata": {
        "colab": {
          "base_uri": "https://localhost:8080/"
        },
        "id": "IdIbRSTWGb_1",
        "outputId": "7391f435-c364-4ae9-fa52-984b97bc19f0"
      },
      "source": [
        "tf.strings.unicode_encode(\n",
        "    tf.RaggedTensor.from_sparse(batch_chars_sparse),\n",
        "    output_encoding='UTF-8'\n",
        ")"
      ],
      "execution_count": 15,
      "outputs": [
        {
          "output_type": "execute_result",
          "data": {
            "text/plain": [
              "<tf.Tensor: shape=(4,), dtype=string, numpy=\n",
              "array([b'h\\xc3\\x83llo', b'What is the weather tomorrow',\n",
              "       b'G\\xc3\\xb6\\xc3\\xb6dnight', b'\\xf0\\x9f\\x98\\x8a'], dtype=object)>"
            ]
          },
          "metadata": {
            "tags": []
          },
          "execution_count": 15
        }
      ]
    },
    {
      "cell_type": "code",
      "metadata": {
        "colab": {
          "base_uri": "https://localhost:8080/"
        },
        "id": "B-GzFjsGGroo",
        "outputId": "f597b53b-d6d2-45de-da14-685c3188c567"
      },
      "source": [
        "tf.strings.unicode_encode(\n",
        "    tf.RaggedTensor.from_tensor(batch_chars_padded, padding=-1),\n",
        "    output_encoding='UTF-8'\n",
        ")"
      ],
      "execution_count": 16,
      "outputs": [
        {
          "output_type": "execute_result",
          "data": {
            "text/plain": [
              "<tf.Tensor: shape=(4,), dtype=string, numpy=\n",
              "array([b'h\\xc3\\x83llo', b'What is the weather tomorrow',\n",
              "       b'G\\xc3\\xb6\\xc3\\xb6dnight', b'\\xf0\\x9f\\x98\\x8a'], dtype=object)>"
            ]
          },
          "metadata": {
            "tags": []
          },
          "execution_count": 16
        }
      ]
    },
    {
      "cell_type": "markdown",
      "metadata": {
        "id": "G5EqAygHG3Nf"
      },
      "source": [
        "### 3. 유니코드 연산"
      ]
    },
    {
      "cell_type": "markdown",
      "metadata": {
        "id": "cb9oCAyrS85D"
      },
      "source": [
        "### 문자 길이\n",
        "\n",
        "`tf.strings.length`는 기본적으로 인코딩된 문자열의 바이트 크기를 알려줍니다. `\"UTF8_CHAR\"` 또는 `\"UTF16_CHAR\"`을 지정해주어 인코딩된 문자열의 UTF-8 또는 UTF-16 문자 길이를 알 수 있습니다."
      ]
    },
    {
      "cell_type": "code",
      "metadata": {
        "colab": {
          "base_uri": "https://localhost:8080/"
        },
        "id": "vH1UVL7-KfV1",
        "outputId": "1ffa8b7a-e161-4f06-db02-62ffd4bb2912"
      },
      "source": [
        "# 마지막 이모티콘은 4바이트 크기이다.\n",
        "thanks = u'Thanks 😊'.encode('UTF-8')\n",
        "num_bytes = tf.strings.length(thanks).numpy()\n",
        "num_chars = tf.strings.length(thanks, unit='UTF8_CHAR').numpy()\n",
        "print('{} bytes; {} UTF-8 characters'.format(num_bytes, num_chars))"
      ],
      "execution_count": 17,
      "outputs": [
        {
          "output_type": "stream",
          "text": [
            "11 bytes; 8 UTF-8 characters\n"
          ],
          "name": "stdout"
        }
      ]
    },
    {
      "cell_type": "markdown",
      "metadata": {
        "id": "nmvKC0OcTMIk"
      },
      "source": [
        "### 부분 문자열\n",
        "\n",
        "`tf.strings.substr`은 `unit`매개변수 값을 사용해 `pos`와 `len` 매개변수로 지정된 문자열의 종류를 결정합니다."
      ]
    },
    {
      "cell_type": "code",
      "metadata": {
        "colab": {
          "base_uri": "https://localhost:8080/"
        },
        "id": "DT4c3Hh1OzkX",
        "outputId": "abd7bca8-c16d-465e-9798-2719544e1ef9"
      },
      "source": [
        "# len=1이면 바이트 하나를 반환합니다.\n",
        "tf.strings.substr(thanks, pos=7, len=1).numpy()"
      ],
      "execution_count": 19,
      "outputs": [
        {
          "output_type": "execute_result",
          "data": {
            "text/plain": [
              "b'\\xf0'"
            ]
          },
          "metadata": {
            "tags": []
          },
          "execution_count": 19
        }
      ]
    },
    {
      "cell_type": "code",
      "metadata": {
        "colab": {
          "base_uri": "https://localhost:8080/"
        },
        "id": "0Mvfo73USe7e",
        "outputId": "e1adf74b-47fb-43a3-829d-cbf70cb2801a"
      },
      "source": [
        "# unit='UTF8_CHAR'로 지정하면 4 바이트인 문자 하나를 반환합니다.\n",
        "print(tf.strings.substr(thanks, pos=7, len=1, unit='UTF8_CHAR').numpy())"
      ],
      "execution_count": 20,
      "outputs": [
        {
          "output_type": "stream",
          "text": [
            "b'\\xf0\\x9f\\x98\\x8a'\n"
          ],
          "name": "stdout"
        }
      ]
    },
    {
      "cell_type": "markdown",
      "metadata": {
        "id": "ZEDG3YZPUizY"
      },
      "source": [
        "### 유니코드 문자열 분리\n",
        "\n",
        "`tf.strings.unicode_split`은 유니코드 문자열을 개별 문자로 분리합니다."
      ]
    },
    {
      "cell_type": "code",
      "metadata": {
        "colab": {
          "base_uri": "https://localhost:8080/"
        },
        "id": "bPy7hVd1U8qb",
        "outputId": "4c29f2c1-1c6b-4336-af3b-01d2a3aed413"
      },
      "source": [
        "tf.strings.unicode_split(thanks, 'UTF-8').numpy()"
      ],
      "execution_count": 21,
      "outputs": [
        {
          "output_type": "execute_result",
          "data": {
            "text/plain": [
              "array([b'T', b'h', b'a', b'n', b'k', b's', b' ', b'\\xf0\\x9f\\x98\\x8a'],\n",
              "      dtype=object)"
            ]
          },
          "metadata": {
            "tags": []
          },
          "execution_count": 21
        }
      ]
    },
    {
      "cell_type": "markdown",
      "metadata": {
        "id": "WOyvR2woU8O6"
      },
      "source": [
        "### 문자 바이트 오프셋\n",
        "\n",
        "각 문자까지의 바이트 크기와 codepoint를 알고 싶다면 `tf.strings.unicode_decode_with_offsets`를 이용할 수 있습니다."
      ]
    },
    {
      "cell_type": "code",
      "metadata": {
        "colab": {
          "base_uri": "https://localhost:8080/"
        },
        "id": "1NI49uSpVwl6",
        "outputId": "02ab2f44-0abc-4fb6-e5b7-a7b250b80008"
      },
      "source": [
        "codepoints, offsets = tf.strings.unicode_decode_with_offsets(u'🎈🎉🎊', 'UTF-8')\n",
        "\n",
        "for codepoint, offset in zip(codepoints.numpy(), offsets.numpy()):\n",
        "    print('At byte offset {}: codepoint {}'.format(offset, codepoint))"
      ],
      "execution_count": 22,
      "outputs": [
        {
          "output_type": "stream",
          "text": [
            "At byte offset 0: codepoint 127880\n",
            "At byte offset 4: codepoint 127881\n",
            "At byte offset 8: codepoint 127882\n"
          ],
          "name": "stdout"
        }
      ]
    },
    {
      "cell_type": "markdown",
      "metadata": {
        "id": "XnBDCMHhW5Qq"
      },
      "source": [
        "## 4. 유니코드 스크립트\n",
        "\n",
        "`script`는 codepoint의 컬렉션을 의미합니다. 각 유니코드 codepoint는 하나의 script에 속에 있습니다. 예를 들어 'Б'라는 문자는 러시아와 우크라이나와 같은 Slavic 언어로부터 파생된 문자로 Cyrillic script에 속해있습니다.\n",
        "\n",
        "`tf.strings.unicode_script`를 이용하면 각 유니코드 codepoint가 속에 있는 script를 `int32`의 형태로 알 수 있습니다."
      ]
    },
    {
      "cell_type": "code",
      "metadata": {
        "colab": {
          "base_uri": "https://localhost:8080/"
        },
        "id": "bB4LWNLZX2wz",
        "outputId": "d0c3d539-4a51-4afe-aac3-3282ebafb851"
      },
      "source": [
        "uscript = tf.strings.unicode_script([33464, 1041]) # ['芸', 'Б']\n",
        "\n",
        "print(uscript.numpy()) # [17, 8] == [USCRIPT_HAN, USCRIPT_CYRILLIC]"
      ],
      "execution_count": 23,
      "outputs": [
        {
          "output_type": "stream",
          "text": [
            "[17  8]\n"
          ],
          "name": "stdout"
        }
      ]
    },
    {
      "cell_type": "markdown",
      "metadata": {
        "id": "HPqwwLF6X94p"
      },
      "source": [
        "`tf.strings.unicode_script`는 `tf.Tensor` 또는 `tf.RaggedTensor` 형태에도 사용할 수 있습니다."
      ]
    },
    {
      "cell_type": "code",
      "metadata": {
        "colab": {
          "base_uri": "https://localhost:8080/"
        },
        "id": "UbGMuvosYKHH",
        "outputId": "c964c5a7-1fcf-4f12-d956-97abb78804bf"
      },
      "source": [
        "print(tf.strings.unicode_script(batch_chars_ragged))"
      ],
      "execution_count": 24,
      "outputs": [
        {
          "output_type": "stream",
          "text": [
            "<tf.RaggedTensor [[25, 25, 25, 25, 25], [25, 25, 25, 25, 0, 25, 25, 0, 25, 25, 25, 0, 25, 25, 25, 25, 25, 25, 25, 0, 25, 25, 25, 25, 25, 25, 25, 25], [25, 25, 25, 25, 25, 25, 25, 25, 25], [0]]>\n"
          ],
          "name": "stdout"
        }
      ]
    },
    {
      "cell_type": "markdown",
      "metadata": {
        "id": "vVoIOZagYNFD"
      },
      "source": [
        "## 5. 예제 : 간단한 분할\n",
        "\n",
        "분할(segmentation)은 텍스트를 단어와 같은 단위로 나누는 작업입니다. 공백 문자가 단어를 나누는 구분자로 사용되는 경우는 간단하지만, (중국어나 일본어와 같이) 공백을 사용하지 않는 언어나 (독일어 같이) 단어를 길게 조합하는 언어는 의미를 분석하기 위한 분할 과정이 꼭 필요합니다. \n",
        "\n",
        "이번 분할 예제는 공백 문자는 모두 uscript_common(실제 텍스트의 스크립트 코드와 다른 특별한 스크립트 코드)로 분류하기 때문에 공백을 사용하는 대부분의 언어들에서도 적용됩니다."
      ]
    },
    {
      "cell_type": "code",
      "metadata": {
        "id": "4BpX5qEYZdjm"
      },
      "source": [
        "# 처리할 문장들 입니다. 이 라인을 수정해서 다른 입력값을 시도해 보세요!\n",
        "sentence_texts = [u'Hello, world.', u'世界こんにちは']"
      ],
      "execution_count": 25,
      "outputs": []
    },
    {
      "cell_type": "markdown",
      "metadata": {
        "id": "MAC83yz2aNsf"
      },
      "source": [
        "먼저 문장을 문자 codepoint로 디코딩하고 각 문자에 대한 스크립트 식별자를 찾습니다."
      ]
    },
    {
      "cell_type": "code",
      "metadata": {
        "colab": {
          "base_uri": "https://localhost:8080/"
        },
        "id": "ffv5u2dDaVpB",
        "outputId": "859b0842-bda9-4548-935d-e0150e27281f"
      },
      "source": [
        "sentence_char_codepoint = tf.strings.unicode_decode(sentence_texts, 'UTF-8')\n",
        "print(sentence_char_codepoint)\n",
        "\n",
        "sentence_char_script = tf.strings.unicode_script(sentence_char_codepoint)\n",
        "print(sentence_char_script)"
      ],
      "execution_count": 26,
      "outputs": [
        {
          "output_type": "stream",
          "text": [
            "<tf.RaggedTensor [[72, 101, 108, 108, 111, 44, 32, 119, 111, 114, 108, 100, 46], [19990, 30028, 12371, 12435, 12395, 12385, 12399]]>\n",
            "<tf.RaggedTensor [[25, 25, 25, 25, 25, 0, 0, 25, 25, 25, 25, 25, 0], [17, 17, 20, 20, 20, 20, 20]]>\n"
          ],
          "name": "stdout"
        }
      ]
    },
    {
      "cell_type": "markdown",
      "metadata": {
        "id": "iDu7uvo7a_ja"
      },
      "source": [
        "스크립트 식별자를 이용해서 단어 경계가 추가될 위치를 결정합니다. 각 문장의 시작, 이전 문자와 스크립트가 다른 문자의 위치(시작 위치) 모두 단어 경계(True)로 변경합니다.\n",
        "\n",
        "예를 들어 \"世界こんにちは\"가 있다면 7개의 인덱스 중 문장의 시작 위치인 1번 인덱스와 한자에서 일본어로 바뀌는 3번 위치를 True로 하고 나머지 인덱스는 모두 False로 합니다.\n",
        "[True, False, True, False, False, False, False]\n",
        "즉, 다른 언어로 바뀔 때 시작 인덱스를 True로 두어 다른 언어가 시작된다는 것을 알 수 있습니다."
      ]
    },
    {
      "cell_type": "code",
      "metadata": {
        "colab": {
          "base_uri": "https://localhost:8080/"
        },
        "id": "i6p3dRmoeHp6",
        "outputId": "3413c485-38c3-47b9-8542-dc5818ba25e2"
      },
      "source": [
        "# sentence_char_starts_word[i, j]는\n",
        "# i번째 문장 안에 있는 j번째 문자가 단어의 시작이면 True 입니다.\n",
        "sentence_char_starts_word = tf.concat(\n",
        "    [tf.fill([sentence_char_script.nrows(), 1], True),\n",
        "     tf.not_equal(sentence_char_script[:, 1:], sentence_char_script[:, :-1])],\n",
        "     axis=1\n",
        ")\n",
        "print(sentence_char_starts_word)\n",
        "# True가 나타난 인덱스를 뽑아냅니다.\n",
        "word_starts = tf.squeeze(tf.where(sentence_char_starts_word.values), axis=1)\n",
        "print(word_starts)"
      ],
      "execution_count": 37,
      "outputs": [
        {
          "output_type": "stream",
          "text": [
            "<tf.RaggedTensor [[True, False, False, False, False, True, False, True, False, False, False, False, True], [True, False, True, False, False, False, False]]>\n",
            "tf.Tensor([ 0  5  7 12 13 15], shape=(6,), dtype=int64)\n"
          ],
          "name": "stdout"
        }
      ]
    },
    {
      "cell_type": "markdown",
      "metadata": {
        "id": "o4zgxMRnbNmN"
      },
      "source": [
        "이 시작 인덱스를 사용해서 단어 또는 언어가 구분된 `RaggedTensor`를 만듭니다."
      ]
    },
    {
      "cell_type": "code",
      "metadata": {
        "colab": {
          "base_uri": "https://localhost:8080/"
        },
        "id": "_7GOhexMdo52",
        "outputId": "767ed735-79ed-4dee-9cf7-baec1963ffc0"
      },
      "source": [
        "# 문장의 구분 없이 단어만을 일렬로 나열합니다.\n",
        "word_char_codepoint = tf.RaggedTensor.from_row_starts(\n",
        "    values=sentence_char_codepoint.values,\n",
        "    row_starts=word_starts\n",
        ")\n",
        "print(word_char_codepoint)"
      ],
      "execution_count": 31,
      "outputs": [
        {
          "output_type": "stream",
          "text": [
            "<tf.RaggedTensor [[72, 101, 108, 108, 111], [44, 32], [119, 111, 114, 108, 100], [46], [19990, 30028], [12371, 12435, 12395, 12385, 12399]]>\n"
          ],
          "name": "stdout"
        }
      ]
    },
    {
      "cell_type": "markdown",
      "metadata": {
        "id": "oopsciwci0Rk"
      },
      "source": [
        "마지막으로 단어 코드 포인트 `RaggedTensor`를 문장으로 다시 나눕니다."
      ]
    },
    {
      "cell_type": "code",
      "metadata": {
        "colab": {
          "base_uri": "https://localhost:8080/"
        },
        "id": "B0l1-Gbfi5Zw",
        "outputId": "153d67f3-dbc7-43b8-8caa-3849efb8867a"
      },
      "source": [
        "# 각 문장 안에 있는 단어의 수를 뽑아냅니다.\n",
        "# True는 1, False는 0이므로 단어의 수만큼 True(1)가 있으므로 모두 더하면 됩니다.\n",
        "sentence_num_words = tf.reduce_sum(\n",
        "    tf.cast(sentence_char_starts_word, tf.int64),\n",
        "    axis=1\n",
        ")\n",
        "print(sentence_num_words)\n",
        "\n",
        "# 일렬로 나열된 단어들을 단어 수 별로 구분해서 묶으면 문장을 구분됩니다.\n",
        "sentence_word_char_codepoint = tf.RaggedTensor.from_row_lengths(\n",
        "    values=word_char_codepoint,\n",
        "    row_lengths=sentence_num_words\n",
        ")\n",
        "print(sentence_word_char_codepoint)"
      ],
      "execution_count": 33,
      "outputs": [
        {
          "output_type": "stream",
          "text": [
            "tf.Tensor([4 2], shape=(2,), dtype=int64)\n",
            "<tf.RaggedTensor [[[72, 101, 108, 108, 111], [44, 32], [119, 111, 114, 108, 100], [46]], [[19990, 30028], [12371, 12435, 12395, 12385, 12399]]]>\n"
          ],
          "name": "stdout"
        }
      ]
    },
    {
      "cell_type": "markdown",
      "metadata": {
        "id": "4rrK_IHviWcR"
      },
      "source": [
        "최종 결과를 읽기 쉽게 utf-8 문자열로 다시 인코딩합니다."
      ]
    },
    {
      "cell_type": "code",
      "metadata": {
        "colab": {
          "base_uri": "https://localhost:8080/"
        },
        "id": "06vLH38NiZUF",
        "outputId": "49d229b5-69c4-49b3-c4eb-2e648df068c4"
      },
      "source": [
        "tf.strings.unicode_encode(sentence_word_char_codepoint, 'UTF-8').to_list()"
      ],
      "execution_count": 34,
      "outputs": [
        {
          "output_type": "execute_result",
          "data": {
            "text/plain": [
              "[[b'Hello', b', ', b'world', b'.'],\n",
              " [b'\\xe4\\xb8\\x96\\xe7\\x95\\x8c',\n",
              "  b'\\xe3\\x81\\x93\\xe3\\x82\\x93\\xe3\\x81\\xab\\xe3\\x81\\xa1\\xe3\\x81\\xaf']]"
            ]
          },
          "metadata": {
            "tags": []
          },
          "execution_count": 34
        }
      ]
    }
  ]
}