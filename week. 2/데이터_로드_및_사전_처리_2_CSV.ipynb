{
  "nbformat": 4,
  "nbformat_minor": 0,
  "metadata": {
    "colab": {
      "name": "데이터 로드 및 사전 처리 #2 - CSV",
      "provenance": [],
      "collapsed_sections": []
    },
    "kernelspec": {
      "name": "python3",
      "display_name": "Python 3"
    },
    "language_info": {
      "name": "python"
    },
    "accelerator": "GPU"
  },
  "cells": [
    {
      "cell_type": "markdown",
      "metadata": {
        "id": "dJfXxOIC79nC"
      },
      "source": [
        "# CSV 데이터 로드\n",
        "\n",
        "파일에서 `tf.data.Dataset`로 CSV 데이터를 로드하는 방법에 대해 학습해봅시다.\n",
        "\n",
        "이번 튜토리얼에서 사용된 데이터는 타이타닉 승객 목록을 가져온 것입니다. 이 모델은 연령, 성별, 티켓 등급 및 단독 여행 여부와 같은 특성을 기반으로 승객의 생존 가능성을 예측합니다."
      ]
    },
    {
      "cell_type": "code",
      "metadata": {
        "colab": {
          "base_uri": "https://localhost:8080/"
        },
        "id": "NavVIANjxor1",
        "outputId": "51802fbc-8d67-4a1d-cb34-86285d9c546d"
      },
      "source": [
        "import functools\n",
        "\n",
        "import numpy as np\n",
        "import tensorflow as tf\n",
        "\n",
        "TRAIN_DATA_URL = \"https://storage.googleapis.com/tf-datasets/titanic/train.csv\"\n",
        "TEST_DATA_URL = \"https://storage.googleapis.com/tf-datasets/titanic/eval.csv\"\n",
        "\n",
        "train_file_path = tf.keras.utils.get_file(\"train.csv\", TRAIN_DATA_URL)\n",
        "test_file_path = tf.keras.utils.get_file(\"eval.csv\", TEST_DATA_URL)\n",
        "print(train_file_path)\n",
        "print(test_file_path)"
      ],
      "execution_count": 1,
      "outputs": [
        {
          "output_type": "stream",
          "text": [
            "Downloading data from https://storage.googleapis.com/tf-datasets/titanic/train.csv\n",
            "32768/30874 [===============================] - 0s 0us/step\n",
            "Downloading data from https://storage.googleapis.com/tf-datasets/titanic/eval.csv\n",
            "16384/13049 [=====================================] - 0s 0us/step\n",
            "/root/.keras/datasets/train.csv\n",
            "/root/.keras/datasets/eval.csv\n"
          ],
          "name": "stdout"
        }
      ]
    },
    {
      "cell_type": "code",
      "metadata": {
        "id": "b70U0p979dA_"
      },
      "source": [
        "# 넘파이 값을 더 쉽게 읽을 수 있도록 만듭니다.\n",
        "np.set_printoptions(precision=3, suppress=True)"
      ],
      "execution_count": 2,
      "outputs": []
    },
    {
      "cell_type": "markdown",
      "metadata": {
        "id": "mKdAYcRm9kX4"
      },
      "source": [
        "---\n",
        "## 1. 데이터 로드하기"
      ]
    },
    {
      "cell_type": "code",
      "metadata": {
        "id": "dOXJNt05ATgO"
      },
      "source": [
        "LABEL_COLUMN = 'survived'\n",
        "LABELS = [0, 1]"
      ],
      "execution_count": 3,
      "outputs": []
    },
    {
      "cell_type": "markdown",
      "metadata": {
        "id": "97ni2iF1-Wfu"
      },
      "source": [
        "`tf.data.experimental.make_csv_dataset` 함수를 사용해서 파일에서 CSV 데이터를 읽고 데이터세트를 작성해 보겠습니다.\n",
        "\n",
        "[tf.data.experimental.make_csv_dataset](https://www.tensorflow.org/api_docs/python/tf/data/experimental/make_csv_dataset)"
      ]
    },
    {
      "cell_type": "code",
      "metadata": {
        "id": "AylGZewAA6uL"
      },
      "source": [
        "def get_dataset(file_path, **kwargs):\n",
        "    dataset = tf.data.experimental.make_csv_dataset(\n",
        "        file_path,\n",
        "        batch_size=5,\n",
        "        label_name=LABEL_COLUMN,  # 레이블 열로 인식할 열\n",
        "        na_value='?',  # '?'도 빈 칸으로 간주하도록 한다.\n",
        "        num_epochs=1,  # 1번만 읽는다.\n",
        "        ignore_errors=True,  # 빈 행이라든지 읽을 수 없는 데이터를 마주하면 건너뛴다.\n",
        "        **kwargs)  # 다른 인자를 받아들일 칸.\n",
        "    return dataset\n",
        "\n",
        "raw_train_data = get_dataset(train_file_path)\n",
        "raw_test_data = get_dataset(test_file_path)"
      ],
      "execution_count": 4,
      "outputs": []
    },
    {
      "cell_type": "code",
      "metadata": {
        "id": "W3RF5xF9BhQZ"
      },
      "source": [
        "def show_batch(dataset):\n",
        "    for batch, label in dataset.take(1):\n",
        "        for key, value in batch.items():\n",
        "            print(\"{:20s}: {}\".format(key, value.numpy()))"
      ],
      "execution_count": 5,
      "outputs": []
    },
    {
      "cell_type": "code",
      "metadata": {
        "colab": {
          "base_uri": "https://localhost:8080/"
        },
        "id": "-Vs_-gFHCIO-",
        "outputId": "fc3283f8-2f2f-4a02-d51d-1055b59c4ef0"
      },
      "source": [
        "show_batch(raw_train_data)"
      ],
      "execution_count": 6,
      "outputs": [
        {
          "output_type": "stream",
          "text": [
            "sex                 : [b'male' b'female' b'male' b'male' b'female']\n",
            "age                 : [28. 29. 35. 16. 58.]\n",
            "n_siblings_spouses  : [0 0 0 0 0]\n",
            "parch               : [0 0 0 0 1]\n",
            "fare                : [  7.896 211.337   7.896  10.5   153.462]\n",
            "class               : [b'Third' b'First' b'Third' b'Second' b'First']\n",
            "deck                : [b'unknown' b'B' b'unknown' b'unknown' b'C']\n",
            "embark_town         : [b'Southampton' b'Southampton' b'Cherbourg' b'Southampton' b'Southampton']\n",
            "alone               : [b'y' b'y' b'y' b'y' b'n']\n"
          ],
          "name": "stdout"
        }
      ]
    },
    {
      "cell_type": "markdown",
      "metadata": {
        "id": "Sn9I17fHFkbm"
      },
      "source": [
        "현재 csv 파일의 최상단(첫째 줄)에 열 이름이 적혀있습니다. 그래서 데이터세트를 생성할 때 열 이름을 자동으로 선택해서 key값으로 갖습니다.\n",
        "\n",
        "파일의 첫 번째 줄에 열 이름이 포함되어 있지 않은 경우, 열 이름을 직접 만들어서(CSV_COLUMNS) `tf.data.experimental.make_csv_dataset` 함수의 `**kwargs`로 전달합니다. 인수는 `column_names`입니다."
      ]
    },
    {
      "cell_type": "code",
      "metadata": {
        "colab": {
          "base_uri": "https://localhost:8080/"
        },
        "id": "qZDwYd-iDdaU",
        "outputId": "c8e03761-16dd-4758-ba1d-e159ab3e386a"
      },
      "source": [
        "CSV_COLUMNS = ['survived', 'sex', 'age', 'n_siblings_spouses', 'parch', 'fare', 'class', 'deck', 'embark_town', 'alone']\n",
        "\n",
        "temp_dataset = get_dataset(train_file_path, column_names=CSV_COLUMNS)\n",
        "\n",
        "show_batch(temp_dataset)"
      ],
      "execution_count": 7,
      "outputs": [
        {
          "output_type": "stream",
          "text": [
            "sex                 : [b'male' b'male' b'male' b'male' b'male']\n",
            "age                 : [26. 30. 28. 28. 23.]\n",
            "n_siblings_spouses  : [0 1 0 0 0]\n",
            "parch               : [0 0 0 0 0]\n",
            "fare                : [ 7.887 24.     7.225  7.225  7.896]\n",
            "class               : [b'Third' b'Second' b'Third' b'Third' b'Third']\n",
            "deck                : [b'unknown' b'unknown' b'unknown' b'unknown' b'unknown']\n",
            "embark_town         : [b'Southampton' b'Cherbourg' b'Cherbourg' b'Cherbourg' b'Southampton']\n",
            "alone               : [b'y' b'n' b'y' b'y' b'y']\n"
          ],
          "name": "stdout"
        }
      ]
    },
    {
      "cell_type": "markdown",
      "metadata": {
        "id": "TUtIkz3pGS9p"
      },
      "source": [
        "데이터세트에서 일부 열을 생략해야 하는 경우 사용하려는 열의 목록(SELECT_COLUMNS)만 작성한 후에 `tf.data.experimental.make_csv_dataset` 함수의 `**kwarg`에 `select_columns` 인수로 전달합니다.\n",
        "\n",
        "(레이블로 인식할 열은 반드시 포함되어야 합니다)"
      ]
    },
    {
      "cell_type": "code",
      "metadata": {
        "colab": {
          "base_uri": "https://localhost:8080/"
        },
        "id": "UpbGgwc7EXFe",
        "outputId": "534557d1-919e-4946-e20d-98d9f8625c33"
      },
      "source": [
        "SELECT_COLUMNS = ['survived', 'age', 'n_siblings_spouses', 'class', 'deck', 'alone']\n",
        "\n",
        "temp_dataset = get_dataset(train_file_path, select_columns=SELECT_COLUMNS)\n",
        "\n",
        "show_batch(temp_dataset)"
      ],
      "execution_count": 8,
      "outputs": [
        {
          "output_type": "stream",
          "text": [
            "age                 : [31. 18. 46. 26.  4.]\n",
            "n_siblings_spouses  : [1 0 0 2 1]\n",
            "class               : [b'Third' b'Third' b'First' b'Third' b'Third']\n",
            "deck                : [b'unknown' b'unknown' b'B' b'unknown' b'G']\n",
            "alone               : [b'n' b'y' b'y' b'n' b'n']\n"
          ],
          "name": "stdout"
        }
      ]
    },
    {
      "cell_type": "markdown",
      "metadata": {
        "id": "hUdIHMa_HQIG"
      },
      "source": [
        "---\n",
        "## 2. 데이터 전처리\n",
        "\n",
        "CSV 파일은 다양한 데이터 유형을 포함할 수 있습니다. 일반적으로 데이터를 모델에 공급하기 전에 고정 길이 벡터로 변환합니다."
      ]
    },
    {
      "cell_type": "markdown",
      "metadata": {
        "id": "Q2Rk1oVkKDkQ"
      },
      "source": [
        "### 연속 데이터\n",
        "\n",
        "데이터가 이미 적절한 숫자 형식인 경우, 데이터를 모델로 전달하기 전에 벡터로 묶을 수 있습니다."
      ]
    },
    {
      "cell_type": "code",
      "metadata": {
        "colab": {
          "base_uri": "https://localhost:8080/"
        },
        "id": "1JFEcTsIKHca",
        "outputId": "f798c3f2-7774-4a56-d5a4-a580fad5ed54"
      },
      "source": [
        "SELECT_COLUMNS = ['survived', 'age', 'n_siblings_spouses', 'parch', 'fare']\n",
        "DEFAULTS = [0, 0.0, 0.0, 0.0, 0.0]\n",
        "temp_dataset = get_dataset(train_file_path,\n",
        "                           select_columns=SELECT_COLUMNS,\n",
        "                           column_defaults = DEFAULTS)\n",
        "\n",
        "show_batch(temp_dataset)"
      ],
      "execution_count": 9,
      "outputs": [
        {
          "output_type": "stream",
          "text": [
            "age                 : [59.  55.5 53.  29.  39. ]\n",
            "n_siblings_spouses  : [0. 0. 2. 0. 0.]\n",
            "parch               : [0. 0. 0. 0. 0.]\n",
            "fare                : [ 7.25   8.05  51.479  9.5   13.   ]\n"
          ],
          "name": "stdout"
        }
      ]
    },
    {
      "cell_type": "code",
      "metadata": {
        "colab": {
          "base_uri": "https://localhost:8080/"
        },
        "id": "EInoI-tNLlBL",
        "outputId": "415364bf-7bb0-40fd-9069-7e62e3f44fdc"
      },
      "source": [
        "example_batch, labels_batch = next(iter(temp_dataset))\n",
        "print(example_batch)\n",
        "print(labels_batch)"
      ],
      "execution_count": 10,
      "outputs": [
        {
          "output_type": "stream",
          "text": [
            "OrderedDict([('age', <tf.Tensor: shape=(5,), dtype=float32, numpy=array([16., 29., 31., 28., 30.], dtype=float32)>), ('n_siblings_spouses', <tf.Tensor: shape=(5,), dtype=float32, numpy=array([0., 1., 1., 8., 0.], dtype=float32)>), ('parch', <tf.Tensor: shape=(5,), dtype=float32, numpy=array([0., 0., 0., 2., 0.], dtype=float32)>), ('fare', <tf.Tensor: shape=(5,), dtype=float32, numpy=array([ 8.05 ,  7.046, 52.   , 69.55 ,  7.229], dtype=float32)>)])\n",
            "tf.Tensor([1 0 0 0 0], shape=(5,), dtype=int32)\n"
          ],
          "name": "stdout"
        }
      ]
    },
    {
      "cell_type": "markdown",
      "metadata": {
        "id": "zHJLJ2blL6AQ"
      },
      "source": [
        "다음은 모든 열을 묶는 간단한 함수입니다."
      ]
    },
    {
      "cell_type": "code",
      "metadata": {
        "id": "diejpu4sMEi9"
      },
      "source": [
        "def pack(features, label):\n",
        "    return tf.stack(list(features.values()), axis=-1), label"
      ],
      "execution_count": 11,
      "outputs": []
    },
    {
      "cell_type": "code",
      "metadata": {
        "colab": {
          "base_uri": "https://localhost:8080/"
        },
        "id": "Uw7aaf5MMS35",
        "outputId": "33a38428-08e9-4988-8b3a-585d2011e194"
      },
      "source": [
        "packed_dataset = temp_dataset.map(pack)\n",
        "\n",
        "for features, labels in packed_dataset.take(1):\n",
        "    print(features.numpy())\n",
        "    print()\n",
        "    print(labels.numpy())"
      ],
      "execution_count": 12,
      "outputs": [
        {
          "output_type": "stream",
          "text": [
            "[[24.     2.     3.    18.75 ]\n",
            " [28.     0.     0.     7.733]\n",
            " [28.     0.     0.    56.496]\n",
            " [ 1.     1.     2.    20.575]\n",
            " [38.     1.     5.    31.388]]\n",
            "\n",
            "[1 1 1 1 1]\n"
          ],
          "name": "stdout"
        }
      ]
    },
    {
      "cell_type": "markdown",
      "metadata": {
        "id": "KyvbuM2ZNbtr"
      },
      "source": [
        "`[age, n_siblings_spouses, parch, fare]` 순으로 묶여 있는 것을 확인할 수 있습니다."
      ]
    },
    {
      "cell_type": "markdown",
      "metadata": {
        "id": "1lo4msFxNu99"
      },
      "source": [
        "데이터세트가 숫자로만 되어 있지 않고 문자와 혼합이 되어 있다면 어떻게 해야 할까요?"
      ]
    },
    {
      "cell_type": "code",
      "metadata": {
        "colab": {
          "base_uri": "https://localhost:8080/"
        },
        "id": "sDF3qa6ON4OQ",
        "outputId": "99f6f30a-9a33-4c1e-89ae-8b0143e6466c"
      },
      "source": [
        "show_batch(raw_train_data)"
      ],
      "execution_count": 13,
      "outputs": [
        {
          "output_type": "stream",
          "text": [
            "sex                 : [b'male' b'male' b'male' b'female' b'male']\n",
            "age                 : [21. 32.  2. 24. 28.]\n",
            "n_siblings_spouses  : [0 0 3 0 0]\n",
            "parch               : [0 0 1 0 0]\n",
            "fare                : [73.5    7.925 21.075 13.    47.1  ]\n",
            "class               : [b'Second' b'Third' b'Third' b'Second' b'First']\n",
            "deck                : [b'unknown' b'unknown' b'unknown' b'F' b'unknown']\n",
            "embark_town         : [b'Southampton' b'Southampton' b'Southampton' b'Southampton'\n",
            " b'Southampton']\n",
            "alone               : [b'y' b'y' b'n' b'y' b'y']\n"
          ],
          "name": "stdout"
        }
      ]
    },
    {
      "cell_type": "code",
      "metadata": {
        "id": "dlRWQqX_N-Jx"
      },
      "source": [
        "example_batch, labels_batch = next(iter(temp_dataset))"
      ],
      "execution_count": 14,
      "outputs": []
    },
    {
      "cell_type": "markdown",
      "metadata": {
        "id": "srpUXAIVPBOD"
      },
      "source": [
        "숫자 특성 목록을 선택하고 단일 열로 묶지 말고 일반적인 전처리를 정의합니다."
      ]
    },
    {
      "cell_type": "code",
      "metadata": {
        "id": "iHY6JfbMPLK1"
      },
      "source": [
        "class PackNumericFeatures(object):\n",
        "    def __init__(self, names):\n",
        "        self.names = names\n",
        "\n",
        "    def __call__(self, features, labels):\n",
        "        numeric_features = [features.pop(name) for name in self.names]  # 숫자 열들을 기존 데이터세트에서 지운다.\n",
        "        numeric_features = [tf.cast(feat, tf.float32) for feat in numeric_features]  # 지운 숫자 열들의 값들을 실수로\n",
        "        numeric_features = tf.stack(numeric_features, axis=-1)  # 숫자 데이터들을 묶는다.\n",
        "        features['numeric'] = numeric_features  # 'numeric'이라는 열을 만들고 숫자 데이터들을 넣는다.\n",
        "\n",
        "        return features, labels"
      ],
      "execution_count": 15,
      "outputs": []
    },
    {
      "cell_type": "code",
      "metadata": {
        "id": "PVTJ-pQ_QGS5"
      },
      "source": [
        "NUMERIC_FEATURES = ['age', 'n_siblings_spouses', 'parch', 'fare']\n",
        "\n",
        "packed_train_data = raw_train_data.map(PackNumericFeatures(NUMERIC_FEATURES))\n",
        "packed_test_data = raw_test_data.map(PackNumericFeatures(NUMERIC_FEATURES))"
      ],
      "execution_count": 16,
      "outputs": []
    },
    {
      "cell_type": "code",
      "metadata": {
        "colab": {
          "base_uri": "https://localhost:8080/"
        },
        "id": "Bi6ZR6kdQgTR",
        "outputId": "97c4ebe9-d901-4717-e0c8-a4a9b9e6a78e"
      },
      "source": [
        "show_batch(packed_train_data)"
      ],
      "execution_count": 17,
      "outputs": [
        {
          "output_type": "stream",
          "text": [
            "sex                 : [b'male' b'male' b'female' b'female' b'male']\n",
            "class               : [b'Third' b'Third' b'Third' b'Second' b'Third']\n",
            "deck                : [b'unknown' b'unknown' b'unknown' b'unknown' b'unknown']\n",
            "embark_town         : [b'Southampton' b'Southampton' b'Southampton' b'Southampton'\n",
            " b'Southampton']\n",
            "alone               : [b'y' b'y' b'y' b'n' b'n']\n",
            "numeric             : [[28.     0.     0.     7.896]\n",
            " [28.     0.     0.     8.05 ]\n",
            " [14.     0.     0.     7.854]\n",
            " [22.     1.     1.    29.   ]\n",
            " [16.     1.     3.    34.375]]\n"
          ],
          "name": "stdout"
        }
      ]
    },
    {
      "cell_type": "markdown",
      "metadata": {
        "id": "-x2bBhs6YGNs"
      },
      "source": [
        "숫자 데이터들을 따로 빼내서 'numeric'이라는 열로 묶었습니다."
      ]
    },
    {
      "cell_type": "code",
      "metadata": {
        "id": "uyKMwH-9SVZF"
      },
      "source": [
        "example_batch, labels_batch = next(iter(packed_train_data))"
      ],
      "execution_count": 18,
      "outputs": []
    },
    {
      "cell_type": "markdown",
      "metadata": {
        "id": "js7OOTw0SYpi"
      },
      "source": [
        "### 데이터 정규화\n",
        "\n",
        "연속 데이터는 항상 정규화 되어야 합니다."
      ]
    },
    {
      "cell_type": "code",
      "metadata": {
        "colab": {
          "base_uri": "https://localhost:8080/",
          "height": 294
        },
        "id": "OLkvRdh5Sb34",
        "outputId": "69fbfe11-784f-4b2d-970f-7d2058bac03c"
      },
      "source": [
        "import pandas as pd\n",
        "desc = pd.read_csv(train_file_path)[NUMERIC_FEATURES].describe()\n",
        "desc"
      ],
      "execution_count": 19,
      "outputs": [
        {
          "output_type": "execute_result",
          "data": {
            "text/html": [
              "<div>\n",
              "<style scoped>\n",
              "    .dataframe tbody tr th:only-of-type {\n",
              "        vertical-align: middle;\n",
              "    }\n",
              "\n",
              "    .dataframe tbody tr th {\n",
              "        vertical-align: top;\n",
              "    }\n",
              "\n",
              "    .dataframe thead th {\n",
              "        text-align: right;\n",
              "    }\n",
              "</style>\n",
              "<table border=\"1\" class=\"dataframe\">\n",
              "  <thead>\n",
              "    <tr style=\"text-align: right;\">\n",
              "      <th></th>\n",
              "      <th>age</th>\n",
              "      <th>n_siblings_spouses</th>\n",
              "      <th>parch</th>\n",
              "      <th>fare</th>\n",
              "    </tr>\n",
              "  </thead>\n",
              "  <tbody>\n",
              "    <tr>\n",
              "      <th>count</th>\n",
              "      <td>627.000000</td>\n",
              "      <td>627.000000</td>\n",
              "      <td>627.000000</td>\n",
              "      <td>627.000000</td>\n",
              "    </tr>\n",
              "    <tr>\n",
              "      <th>mean</th>\n",
              "      <td>29.631308</td>\n",
              "      <td>0.545455</td>\n",
              "      <td>0.379585</td>\n",
              "      <td>34.385399</td>\n",
              "    </tr>\n",
              "    <tr>\n",
              "      <th>std</th>\n",
              "      <td>12.511818</td>\n",
              "      <td>1.151090</td>\n",
              "      <td>0.792999</td>\n",
              "      <td>54.597730</td>\n",
              "    </tr>\n",
              "    <tr>\n",
              "      <th>min</th>\n",
              "      <td>0.750000</td>\n",
              "      <td>0.000000</td>\n",
              "      <td>0.000000</td>\n",
              "      <td>0.000000</td>\n",
              "    </tr>\n",
              "    <tr>\n",
              "      <th>25%</th>\n",
              "      <td>23.000000</td>\n",
              "      <td>0.000000</td>\n",
              "      <td>0.000000</td>\n",
              "      <td>7.895800</td>\n",
              "    </tr>\n",
              "    <tr>\n",
              "      <th>50%</th>\n",
              "      <td>28.000000</td>\n",
              "      <td>0.000000</td>\n",
              "      <td>0.000000</td>\n",
              "      <td>15.045800</td>\n",
              "    </tr>\n",
              "    <tr>\n",
              "      <th>75%</th>\n",
              "      <td>35.000000</td>\n",
              "      <td>1.000000</td>\n",
              "      <td>0.000000</td>\n",
              "      <td>31.387500</td>\n",
              "    </tr>\n",
              "    <tr>\n",
              "      <th>max</th>\n",
              "      <td>80.000000</td>\n",
              "      <td>8.000000</td>\n",
              "      <td>5.000000</td>\n",
              "      <td>512.329200</td>\n",
              "    </tr>\n",
              "  </tbody>\n",
              "</table>\n",
              "</div>"
            ],
            "text/plain": [
              "              age  n_siblings_spouses       parch        fare\n",
              "count  627.000000          627.000000  627.000000  627.000000\n",
              "mean    29.631308            0.545455    0.379585   34.385399\n",
              "std     12.511818            1.151090    0.792999   54.597730\n",
              "min      0.750000            0.000000    0.000000    0.000000\n",
              "25%     23.000000            0.000000    0.000000    7.895800\n",
              "50%     28.000000            0.000000    0.000000   15.045800\n",
              "75%     35.000000            1.000000    0.000000   31.387500\n",
              "max     80.000000            8.000000    5.000000  512.329200"
            ]
          },
          "metadata": {
            "tags": []
          },
          "execution_count": 19
        }
      ]
    },
    {
      "cell_type": "code",
      "metadata": {
        "id": "UkRK6ZuuSqhk"
      },
      "source": [
        "MEAN = np.array(desc.T['mean'])\n",
        "STD = np.array(desc.T['std'])"
      ],
      "execution_count": 20,
      "outputs": []
    },
    {
      "cell_type": "code",
      "metadata": {
        "id": "qe99l3xES0KY"
      },
      "source": [
        "def normalize_numeric_data(data, mean, std):\n",
        "    return (data-mean)/std"
      ],
      "execution_count": 21,
      "outputs": []
    },
    {
      "cell_type": "markdown",
      "metadata": {
        "id": "gPGJGguYS8cH"
      },
      "source": [
        "이제 숫자 열을 만듭니다. `tf.feature_columns.numeric_column` API는 normalizer_fn 인수를 받아들입니다.\n",
        "\n",
        "`functools.partial`를 사용하여 `MEAN`과 `STD`를 노멀라이저 fn에 바인딩합니다."
      ]
    },
    {
      "cell_type": "code",
      "metadata": {
        "colab": {
          "base_uri": "https://localhost:8080/"
        },
        "id": "2TBaHe8ATSEg",
        "outputId": "d53e8037-9526-422e-8643-b1c63edccf43"
      },
      "source": [
        "# 노멀라이저 생성\n",
        "normalizer = functools.partial(normalize_numeric_data, mean=MEAN, std=STD)\n",
        "# 데이터세트에 numeric 열의 값을 정규화\n",
        "numeric_column = tf.feature_column.numeric_column('numeric', normalizer_fn=normalizer, shape=[len(NUMERIC_FEATURES)])\n",
        "numeric_columns = [numeric_column]  # 이후 layers.DenseFeatures()에 넣어주기 위해 배열로 만듦.\n",
        "numeric_column"
      ],
      "execution_count": 22,
      "outputs": [
        {
          "output_type": "execute_result",
          "data": {
            "text/plain": [
              "NumericColumn(key='numeric', shape=(4,), default_value=None, dtype=tf.float32, normalizer_fn=functools.partial(<function normalize_numeric_data at 0x7f18102d75f0>, mean=array([29.631,  0.545,  0.38 , 34.385]), std=array([12.512,  1.151,  0.793, 54.598])))"
            ]
          },
          "metadata": {
            "tags": []
          },
          "execution_count": 22
        }
      ]
    },
    {
      "cell_type": "markdown",
      "metadata": {
        "id": "HotJdHVwUu6j"
      },
      "source": [
        "모델을 훈련할 때 이 특성 열을 포함하여 이 숫자 데이터 블록을 선택하고 중앙에 배치합니다."
      ]
    },
    {
      "cell_type": "code",
      "metadata": {
        "colab": {
          "base_uri": "https://localhost:8080/"
        },
        "id": "CuQdgwz1VUsE",
        "outputId": "b79b5c1f-7bb9-45bb-b86c-27b5f2981d5d"
      },
      "source": [
        "example_batch['numeric']"
      ],
      "execution_count": 23,
      "outputs": [
        {
          "output_type": "execute_result",
          "data": {
            "text/plain": [
              "<tf.Tensor: shape=(5, 4), dtype=float32, numpy=\n",
              "array([[28.   ,  0.   ,  0.   ,  7.787],\n",
              "       [28.   ,  0.   ,  0.   ,  7.896],\n",
              "       [61.   ,  0.   ,  0.   ,  6.238],\n",
              "       [31.   ,  1.   ,  0.   , 18.   ],\n",
              "       [28.   ,  0.   ,  0.   , 13.   ]], dtype=float32)>"
            ]
          },
          "metadata": {
            "tags": []
          },
          "execution_count": 23
        }
      ]
    },
    {
      "cell_type": "code",
      "metadata": {
        "colab": {
          "base_uri": "https://localhost:8080/"
        },
        "id": "mJ9Fn3UbVeiz",
        "outputId": "d43d282d-40c9-4597-808d-45498b0af30d"
      },
      "source": [
        "numeric_layer = tf.keras.layers.DenseFeatures(numeric_columns)\n",
        "numeric_layer(example_batch).numpy()"
      ],
      "execution_count": 24,
      "outputs": [
        {
          "output_type": "execute_result",
          "data": {
            "text/plain": [
              "array([[-0.13 , -0.474, -0.479, -0.487],\n",
              "       [-0.13 , -0.474, -0.479, -0.485],\n",
              "       [ 2.507, -0.474, -0.479, -0.516],\n",
              "       [ 0.109,  0.395, -0.479, -0.3  ],\n",
              "       [-0.13 , -0.474, -0.479, -0.392]], dtype=float32)"
            ]
          },
          "metadata": {
            "tags": []
          },
          "execution_count": 24
        }
      ]
    },
    {
      "cell_type": "markdown",
      "metadata": {
        "id": "sTvqFcB7VdhF"
      },
      "source": [
        "### 범주형 데이터\n",
        "\n",
        "[tf.feature_column.indicator_column](https://www.tensorflow.org/api_docs/python/tf/feature_column/indicator_column)는 문자열이 언급된 개수만큼 멀티-핫 인코딩으로 나타납니다."
      ]
    },
    {
      "cell_type": "code",
      "metadata": {
        "id": "D9Wtj3FWnHjW"
      },
      "source": [
        "CATEGORIES = {\n",
        "    'sex': ['male', 'female'],\n",
        "    'class' : ['First', 'Second', 'Third'],\n",
        "    'deck' : ['A', 'B', 'C', 'D', 'E', 'F', 'G', 'H', 'I', 'J'],\n",
        "    'embark_town' : ['Cherbourg', 'Southhampton', 'Queenstown'],\n",
        "    'alone' : ['y', 'n']\n",
        "}"
      ],
      "execution_count": 25,
      "outputs": []
    },
    {
      "cell_type": "code",
      "metadata": {
        "id": "B4W7qS2anJ6X"
      },
      "source": [
        "categorical_columns = []\n",
        "for feature, vocab in CATEGORIES.items():\n",
        "    cat_col = tf.feature_column.categorical_column_with_vocabulary_list(\n",
        "        key=feature, vocabulary_list=vocab\n",
        "    )\n",
        "    categorical_columns.append(tf.feature_column.indicator_column(cat_col))"
      ],
      "execution_count": 26,
      "outputs": []
    },
    {
      "cell_type": "code",
      "metadata": {
        "colab": {
          "base_uri": "https://localhost:8080/"
        },
        "id": "OLXy4B0Zn4gS",
        "outputId": "87bef6c3-ed2e-44b7-8d50-143895879e0b"
      },
      "source": [
        "categorical_columns"
      ],
      "execution_count": 27,
      "outputs": [
        {
          "output_type": "execute_result",
          "data": {
            "text/plain": [
              "[IndicatorColumn(categorical_column=VocabularyListCategoricalColumn(key='sex', vocabulary_list=('male', 'female'), dtype=tf.string, default_value=-1, num_oov_buckets=0)),\n",
              " IndicatorColumn(categorical_column=VocabularyListCategoricalColumn(key='class', vocabulary_list=('First', 'Second', 'Third'), dtype=tf.string, default_value=-1, num_oov_buckets=0)),\n",
              " IndicatorColumn(categorical_column=VocabularyListCategoricalColumn(key='deck', vocabulary_list=('A', 'B', 'C', 'D', 'E', 'F', 'G', 'H', 'I', 'J'), dtype=tf.string, default_value=-1, num_oov_buckets=0)),\n",
              " IndicatorColumn(categorical_column=VocabularyListCategoricalColumn(key='embark_town', vocabulary_list=('Cherbourg', 'Southhampton', 'Queenstown'), dtype=tf.string, default_value=-1, num_oov_buckets=0)),\n",
              " IndicatorColumn(categorical_column=VocabularyListCategoricalColumn(key='alone', vocabulary_list=('y', 'n'), dtype=tf.string, default_value=-1, num_oov_buckets=0))]"
            ]
          },
          "metadata": {
            "tags": []
          },
          "execution_count": 27
        }
      ]
    },
    {
      "cell_type": "code",
      "metadata": {
        "colab": {
          "base_uri": "https://localhost:8080/"
        },
        "id": "GGlCoH6_pPBs",
        "outputId": "91e59154-1e3e-48f5-c94b-051efbf6b9dd"
      },
      "source": [
        "categorical_layer = tf.keras.layers.DenseFeatures(categorical_columns)\n",
        "print(categorical_layer(example_batch).numpy()[0])"
      ],
      "execution_count": 28,
      "outputs": [
        {
          "output_type": "stream",
          "text": [
            "[1. 0. 0. 0. 1. 0. 0. 0. 0. 0. 0. 0. 0. 0. 0. 0. 0. 1. 0. 1.]\n"
          ],
          "name": "stdout"
        }
      ]
    },
    {
      "cell_type": "markdown",
      "metadata": {
        "id": "iqWc1LR_piOP"
      },
      "source": [
        "### 결합된 전처리 레이어\n",
        "\n",
        "두 개의 연속형 열과 범주형 열을 결합시켜 `tf.keras.layers.DenseFeatures`에 전달합니다."
      ]
    },
    {
      "cell_type": "code",
      "metadata": {
        "id": "TqK-h8vTqIQZ"
      },
      "source": [
        "preprocessing_layer = tf.keras.layers.DenseFeatures(categorical_columns+numeric_columns)"
      ],
      "execution_count": 29,
      "outputs": []
    },
    {
      "cell_type": "code",
      "metadata": {
        "colab": {
          "base_uri": "https://localhost:8080/"
        },
        "id": "CCD8ikdRqSyd",
        "outputId": "c2817ddf-9253-4e24-e46b-86e575e9e080"
      },
      "source": [
        "print(preprocessing_layer(example_batch).numpy()[0])"
      ],
      "execution_count": 30,
      "outputs": [
        {
          "output_type": "stream",
          "text": [
            "[ 1.     0.     0.     0.     1.     0.     0.     0.     0.     0.\n",
            "  0.     0.     0.     0.     0.     0.     0.     1.    -0.13  -0.474\n",
            " -0.479 -0.487  0.     1.   ]\n"
          ],
          "name": "stdout"
        }
      ]
    },
    {
      "cell_type": "markdown",
      "metadata": {
        "id": "yh5df3LHqXhp"
      },
      "source": [
        "## 3. 모델 빌드하기\n",
        "\n",
        "`preprocessing_layer`를 사용하여 모델을 빌드합니다."
      ]
    },
    {
      "cell_type": "code",
      "metadata": {
        "id": "caEqgMZ0qfNp"
      },
      "source": [
        "model = tf.keras.Sequential([\n",
        "                             preprocessing_layer,\n",
        "                             tf.keras.layers.Dense(128, activation='relu'),\n",
        "                             tf.keras.layers.Dense(128, activation='relu'),\n",
        "                             tf.keras.layers.Dense(1)\n",
        "])\n",
        "\n",
        "model.compile(\n",
        "    loss=tf.keras.losses.BinaryCrossentropy(from_logits=True),\n",
        "    optimizer='Adam',\n",
        "    metrics=['accuracy']\n",
        ")"
      ],
      "execution_count": 31,
      "outputs": []
    },
    {
      "cell_type": "markdown",
      "metadata": {
        "id": "CRdMGLQNq5T_"
      },
      "source": [
        "## 4. 훈련, 평가, 예측하기\n",
        "\n",
        "모델을 인스턴스화하고 훈련할 수 있습니다."
      ]
    },
    {
      "cell_type": "code",
      "metadata": {
        "id": "ssx6F8msq9mY"
      },
      "source": [
        "train_data = packed_train_data.shuffle(500)\n",
        "test_data = packed_test_data"
      ],
      "execution_count": 32,
      "outputs": []
    },
    {
      "cell_type": "code",
      "metadata": {
        "colab": {
          "base_uri": "https://localhost:8080/"
        },
        "id": "uXcA6NKxrCI1",
        "outputId": "ede8be5e-f465-45ec-adf5-f667cfdd7604"
      },
      "source": [
        "model.fit(train_data, epochs=20)"
      ],
      "execution_count": 33,
      "outputs": [
        {
          "output_type": "stream",
          "text": [
            "Epoch 1/20\n",
            "WARNING:tensorflow:Layers in a Sequential model should only have a single input tensor, but we receive a <class 'collections.OrderedDict'> input: OrderedDict([('sex', <tf.Tensor 'ExpandDims_4:0' shape=(None, 1) dtype=string>), ('class', <tf.Tensor 'ExpandDims_1:0' shape=(None, 1) dtype=string>), ('deck', <tf.Tensor 'ExpandDims_2:0' shape=(None, 1) dtype=string>), ('embark_town', <tf.Tensor 'ExpandDims_3:0' shape=(None, 1) dtype=string>), ('alone', <tf.Tensor 'ExpandDims:0' shape=(None, 1) dtype=string>), ('numeric', <tf.Tensor 'IteratorGetNext:4' shape=(None, 4) dtype=float32>)])\n",
            "Consider rewriting this model with the Functional API.\n",
            "WARNING:tensorflow:Layers in a Sequential model should only have a single input tensor, but we receive a <class 'collections.OrderedDict'> input: OrderedDict([('sex', <tf.Tensor 'ExpandDims_4:0' shape=(None, 1) dtype=string>), ('class', <tf.Tensor 'ExpandDims_1:0' shape=(None, 1) dtype=string>), ('deck', <tf.Tensor 'ExpandDims_2:0' shape=(None, 1) dtype=string>), ('embark_town', <tf.Tensor 'ExpandDims_3:0' shape=(None, 1) dtype=string>), ('alone', <tf.Tensor 'ExpandDims:0' shape=(None, 1) dtype=string>), ('numeric', <tf.Tensor 'IteratorGetNext:4' shape=(None, 4) dtype=float32>)])\n",
            "Consider rewriting this model with the Functional API.\n",
            "126/126 [==============================] - 5s 7ms/step - loss: 0.5100 - accuracy: 0.7432\n",
            "Epoch 2/20\n",
            "126/126 [==============================] - 1s 7ms/step - loss: 0.4255 - accuracy: 0.8102\n",
            "Epoch 3/20\n",
            "126/126 [==============================] - 1s 6ms/step - loss: 0.4027 - accuracy: 0.8293\n",
            "Epoch 4/20\n",
            "126/126 [==============================] - 1s 6ms/step - loss: 0.3959 - accuracy: 0.8246\n",
            "Epoch 5/20\n",
            "126/126 [==============================] - 1s 6ms/step - loss: 0.3814 - accuracy: 0.8357\n",
            "Epoch 6/20\n",
            "126/126 [==============================] - 1s 6ms/step - loss: 0.3698 - accuracy: 0.8469\n",
            "Epoch 7/20\n",
            "126/126 [==============================] - 1s 5ms/step - loss: 0.3665 - accuracy: 0.8325\n",
            "Epoch 8/20\n",
            "126/126 [==============================] - 1s 5ms/step - loss: 0.3601 - accuracy: 0.8533\n",
            "Epoch 9/20\n",
            "126/126 [==============================] - 0s 4ms/step - loss: 0.3539 - accuracy: 0.8453\n",
            "Epoch 10/20\n",
            "126/126 [==============================] - 1s 5ms/step - loss: 0.3485 - accuracy: 0.8501\n",
            "Epoch 11/20\n",
            "126/126 [==============================] - 1s 6ms/step - loss: 0.3399 - accuracy: 0.8549\n",
            "Epoch 12/20\n",
            "126/126 [==============================] - 0s 3ms/step - loss: 0.3376 - accuracy: 0.8628\n",
            "Epoch 13/20\n",
            "126/126 [==============================] - 1s 4ms/step - loss: 0.3305 - accuracy: 0.8517\n",
            "Epoch 14/20\n",
            "126/126 [==============================] - 1s 4ms/step - loss: 0.3246 - accuracy: 0.8628\n",
            "Epoch 15/20\n",
            "126/126 [==============================] - 0s 3ms/step - loss: 0.3274 - accuracy: 0.8581\n",
            "Epoch 16/20\n",
            "126/126 [==============================] - 0s 4ms/step - loss: 0.3292 - accuracy: 0.8517\n",
            "Epoch 17/20\n",
            "126/126 [==============================] - 1s 5ms/step - loss: 0.3115 - accuracy: 0.8565\n",
            "Epoch 18/20\n",
            "126/126 [==============================] - 1s 7ms/step - loss: 0.3114 - accuracy: 0.8628\n",
            "Epoch 19/20\n",
            "126/126 [==============================] - 0s 3ms/step - loss: 0.3128 - accuracy: 0.8612\n",
            "Epoch 20/20\n",
            "126/126 [==============================] - 1s 6ms/step - loss: 0.2958 - accuracy: 0.8628\n"
          ],
          "name": "stdout"
        },
        {
          "output_type": "execute_result",
          "data": {
            "text/plain": [
              "<tensorflow.python.keras.callbacks.History at 0x7f17bc470910>"
            ]
          },
          "metadata": {
            "tags": []
          },
          "execution_count": 33
        }
      ]
    },
    {
      "cell_type": "markdown",
      "metadata": {
        "id": "e9E-kB-1rRsN"
      },
      "source": [
        "테스트 데이터를 사용해 정확성을 평가해봅시다."
      ]
    },
    {
      "cell_type": "code",
      "metadata": {
        "colab": {
          "base_uri": "https://localhost:8080/"
        },
        "id": "rpXlwur4rGHq",
        "outputId": "210a8320-fab8-48d4-b492-80202a26839d"
      },
      "source": [
        "test_loss, test_accuracy = model.evaluate(test_data)\n",
        "print('\\n\\nTest Loss {}, Test Accuracy {}'.format(test_loss, test_accuracy))"
      ],
      "execution_count": 34,
      "outputs": [
        {
          "output_type": "stream",
          "text": [
            "WARNING:tensorflow:Layers in a Sequential model should only have a single input tensor, but we receive a <class 'collections.OrderedDict'> input: OrderedDict([('sex', <tf.Tensor 'ExpandDims_4:0' shape=(None, 1) dtype=string>), ('class', <tf.Tensor 'ExpandDims_1:0' shape=(None, 1) dtype=string>), ('deck', <tf.Tensor 'ExpandDims_2:0' shape=(None, 1) dtype=string>), ('embark_town', <tf.Tensor 'ExpandDims_3:0' shape=(None, 1) dtype=string>), ('alone', <tf.Tensor 'ExpandDims:0' shape=(None, 1) dtype=string>), ('numeric', <tf.Tensor 'IteratorGetNext:4' shape=(None, 4) dtype=float32>)])\n",
            "Consider rewriting this model with the Functional API.\n",
            "53/53 [==============================] - 1s 5ms/step - loss: 0.4704 - accuracy: 0.8561\n",
            "\n",
            "\n",
            "Test Loss 0.4703662097454071, Test Accuracy 0.8560606241226196\n"
          ],
          "name": "stdout"
        }
      ]
    },
    {
      "cell_type": "markdown",
      "metadata": {
        "id": "vF4HcBa_r785"
      },
      "source": [
        "모델 예측을 통해 테스트 데이터의 레이블을 예측해볼 수 있습니다."
      ]
    },
    {
      "cell_type": "code",
      "metadata": {
        "colab": {
          "base_uri": "https://localhost:8080/"
        },
        "id": "5lGPTk5-sAXW",
        "outputId": "ebe42e74-2685-4516-a478-1b871ce3b700"
      },
      "source": [
        "predictions = model.predict(test_data)\n",
        "\n",
        "for prediction, survived in zip(predictions[:10], list(test_data)[0][1][:10]):\n",
        "    prediction = tf.sigmoid(prediction).numpy()\n",
        "    print(prediction)\n",
        "    print('Predicted survival: {:.2%}'.format(prediction[0]),\n",
        "          \" | Actual outcome: \",\n",
        "          (\"SURVIVED\" if bool(survived) else \"DIED\"))"
      ],
      "execution_count": 38,
      "outputs": [
        {
          "output_type": "stream",
          "text": [
            "[0.916]\n",
            "Predicted survival: 91.57%  | Actual outcome:  DIED\n",
            "[0.108]\n",
            "Predicted survival: 10.79%  | Actual outcome:  DIED\n",
            "[0.388]\n",
            "Predicted survival: 38.81%  | Actual outcome:  SURVIVED\n",
            "[0.988]\n",
            "Predicted survival: 98.80%  | Actual outcome:  SURVIVED\n",
            "[0.875]\n",
            "Predicted survival: 87.52%  | Actual outcome:  SURVIVED\n"
          ],
          "name": "stdout"
        }
      ]
    }
  ]
}